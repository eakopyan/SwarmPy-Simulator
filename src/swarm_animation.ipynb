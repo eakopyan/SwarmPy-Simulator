{
 "cells": [
  {
   "cell_type": "code",
   "execution_count": null,
   "metadata": {},
   "outputs": [],
   "source": [
    "import numpy as np\n",
    "import pandas as pd\n",
    "from tqdm import tqdm\n",
    "\n",
    "import matplotlib.pyplot as plt\n",
    "from mpl_toolkits import mplot3d\n",
    "from matplotlib.animation import FuncAnimation\n",
    "\n",
    "from swarm_sim import *\n",
    "\n",
    "%matplotlib inline "
   ]
  },
  {
   "cell_type": "code",
   "execution_count": null,
   "metadata": {},
   "outputs": [],
   "source": [
    "PATH = '..\\data\\Traces_Nanosatellites\\\\track_'\n",
    "satellites = {}\n",
    "\n",
    "for i in range(0,100):\n",
    "    df = pd.read_csv(PATH+str(i)+'.csv', sep=',', header=0)\n",
    "    df['coords'] = ['x','y','z']\n",
    "    satellites[i] = df.set_index('coords', drop=True)\n",
    "    \n",
    "DURATION = 2000\n",
    "NB_NODES = 100\n",
    "\n",
    "satellites[0].head()"
   ]
  },
  {
   "cell_type": "code",
   "execution_count": null,
   "metadata": {},
   "outputs": [],
   "source": [
    "swarm_data = {}\n",
    "\n",
    "with tqdm(total = DURATION, desc = 'Converting to Swarm') as pbar:\n",
    "    for t in range(DURATION):\n",
    "        swarm_data[t] = Swarm(\n",
    "            connection_range=30000, \n",
    "            nodes=[Node(id, node[str(t)].x, node[str(t)].y, node[str(t)].z) for id,node in satellites.items()]\n",
    "            )\n",
    "        pbar.update(1)\n",
    "\n",
    "print(swarm_data[0])"
   ]
  },
  {
   "cell_type": "code",
   "execution_count": null,
   "metadata": {},
   "outputs": [],
   "source": [
    "def compute_neighbor_matrix(swarm_chunk, connection_range=None):\n",
    "    neighbor_matrix = {}\n",
    "    with tqdm(total=len(swarm_chunk.keys()), desc='Computing Neighbor matrix') as pbar:\n",
    "        for t,swarm in swarm_chunk.items():\n",
    "            neighbor_matrix[t] = swarm.neighbor_matrix(connection_range)\n",
    "            pbar.update(1)\n",
    "    return neighbor_matrix\n",
    "\n",
    "def compute_swarm_degree(swarm_chunk):\n",
    "    swarm_degree = {}\n",
    "    with tqdm(total=len(swarm_chunk.keys()), desc='Computing Swarm degree') as pbar:    \n",
    "        for t,swarm in swarm_chunk.items():\n",
    "            swarm_degree[t] = swarm.degree()\n",
    "            pbar.update(1)\n",
    "    return swarm_degree\n",
    "\n",
    "def init_network(swarm_chunk, cr=None):\n",
    "    if not cr:\n",
    "        cr = swarm_chunk[0].connection_range\n",
    "    print('\\nConnection range:', cr)\n",
    "    neighbor_matrix = compute_neighbor_matrix(swarm_chunk, connection_range=cr)\n",
    "    swarm_degree = compute_swarm_degree(swarm_chunk)\n",
    "    sum_data = [e for t in swarm_degree.keys() for e in swarm_degree[t]]\n",
    "    print('Minimum number of neighbors:', np.min(sum_data))\n",
    "    print('Maximum number of neighbors:', np.max(sum_data))\n",
    "    print('Average number of neighbors:', np.mean(sum_data))\n",
    "    node_ict = []\n",
    "    for i in range(NB_NODES):\n",
    "        node_data = [swarm_degree[t][i] for t in swarm_degree.keys()]\n",
    "        node_ict.append(node_data.count(0) / float(len(swarm_chunk.keys()))*100)\n",
    "    mean_ict = np.mean(node_ict)\n",
    "    print('Mean inter-contact time:', mean_ict)"
   ]
  },
  {
   "cell_type": "code",
   "execution_count": null,
   "metadata": {},
   "outputs": [],
   "source": [
    "init_network(swarm_data)"
   ]
  },
  {
   "cell_type": "markdown",
   "metadata": {},
   "source": [
    "## Animate connectivity evolution (edges)"
   ]
  },
  {
   "cell_type": "code",
   "execution_count": null,
   "metadata": {},
   "outputs": [],
   "source": [
    "edges = {}\n",
    "\n",
    "for t, swarm in swarm_data.items():\n",
    "    edges[t] = []\n",
    "    for node in swarm.nodes:\n",
    "        for n in node.neighbors:\n",
    "            edge = ([node.x, n.x], [node.y, n.y], [node.z, n.z])\n",
    "            op = ([n.x, node.x], [n.y, node.y], [n.z, node.z])\n",
    "            if op not in edges[t]:\n",
    "                edges[t].append(edge)"
   ]
  },
  {
   "cell_type": "code",
   "execution_count": null,
   "metadata": {},
   "outputs": [],
   "source": [
    "# Static image\n",
    "fig = plt.figure(figsize=(10,10))\n",
    "ax = plt.axes(projection='3d')\n",
    "t = 0\n",
    "\n",
    "swarm = swarm_data[t]\n",
    "x_data = [node.x for node in swarm.nodes]\n",
    "y_data = [node.y for node in swarm.nodes]\n",
    "z_data = [node.z for node in swarm.nodes]\n",
    "ax.scatter(x_data, y_data, z_data, c='blue', s=50)\n",
    "\n",
    "for edge in edges[t]:\n",
    "    ax.plot(edge[0], edge[1], edge[2], c='red')"
   ]
  },
  {
   "cell_type": "code",
   "execution_count": null,
   "metadata": {},
   "outputs": [],
   "source": [
    "def animate(t):\n",
    "    swarm = swarm_data[t]\n",
    "    x_data = [node.x for node in swarm.nodes]\n",
    "    y_data = [node.y for node in swarm.nodes]\n",
    "    z_data = [node.z for node in swarm.nodes]\n",
    "    ax.clear()\n",
    "    time = t*10\n",
    "    ax.set_title(f'T = {time} sec')\n",
    "    ax.scatter(x_data, y_data, z_data, c='blue', s=50)\n",
    "    for edge in edges[t]:\n",
    "        ax.plot(edge[0], edge[1], edge[2], c='red')\n",
    "\n",
    "fig = plt.figure(figsize=(10,10))\n",
    "ax = plt.axes(projection='3d')\n",
    "\n",
    "x_data = []\n",
    "y_data = []\n",
    "z_data = []\n",
    "    \n",
    "anim = FuncAnimation(fig, animate, frames=len(swarm_data.keys()), interval=100, repeat=False)\n",
    "anim.save('../output/animations/swarm_edges_2000.png')"
   ]
  }
 ],
 "metadata": {
  "language_info": {
   "name": "python"
  },
  "orig_nbformat": 4
 },
 "nbformat": 4,
 "nbformat_minor": 2
}
