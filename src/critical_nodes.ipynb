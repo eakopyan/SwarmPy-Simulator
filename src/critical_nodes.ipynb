{
 "cells": [
  {
   "cell_type": "markdown",
   "metadata": {},
   "source": [
    "# 1. Import topologies and initialize the network"
   ]
  },
  {
   "cell_type": "code",
   "execution_count": 1,
   "metadata": {},
   "outputs": [],
   "source": [
    "import numpy as np\n",
    "import pandas as pd\n",
    "\n",
    "import matplotlib.pyplot as plt\n",
    "from mpl_toolkits import mplot3d\n",
    "from tqdm import tqdm\n",
    "from random import sample\n",
    "\n",
    "from swarm_sim import *\n",
    "\n",
    "%matplotlib inline "
   ]
  },
  {
   "cell_type": "code",
   "execution_count": 2,
   "metadata": {},
   "outputs": [
    {
     "data": {
      "text/html": [
       "<div>\n",
       "<style scoped>\n",
       "    .dataframe tbody tr th:only-of-type {\n",
       "        vertical-align: middle;\n",
       "    }\n",
       "\n",
       "    .dataframe tbody tr th {\n",
       "        vertical-align: top;\n",
       "    }\n",
       "\n",
       "    .dataframe thead th {\n",
       "        text-align: right;\n",
       "    }\n",
       "</style>\n",
       "<table border=\"1\" class=\"dataframe\">\n",
       "  <thead>\n",
       "    <tr style=\"text-align: right;\">\n",
       "      <th></th>\n",
       "      <th>x</th>\n",
       "      <th>y</th>\n",
       "      <th>z</th>\n",
       "    </tr>\n",
       "    <tr>\n",
       "      <th>sat_id</th>\n",
       "      <th></th>\n",
       "      <th></th>\n",
       "      <th></th>\n",
       "    </tr>\n",
       "  </thead>\n",
       "  <tbody>\n",
       "    <tr>\n",
       "      <th>0</th>\n",
       "      <td>641794.913967</td>\n",
       "      <td>9.023602e+05</td>\n",
       "      <td>4.474116e+06</td>\n",
       "    </tr>\n",
       "    <tr>\n",
       "      <th>1</th>\n",
       "      <td>579336.565781</td>\n",
       "      <td>1.027713e+06</td>\n",
       "      <td>4.477344e+06</td>\n",
       "    </tr>\n",
       "    <tr>\n",
       "      <th>2</th>\n",
       "      <td>650020.048393</td>\n",
       "      <td>1.011238e+06</td>\n",
       "      <td>4.433289e+06</td>\n",
       "    </tr>\n",
       "    <tr>\n",
       "      <th>3</th>\n",
       "      <td>512224.984133</td>\n",
       "      <td>9.931288e+05</td>\n",
       "      <td>4.504896e+06</td>\n",
       "    </tr>\n",
       "    <tr>\n",
       "      <th>4</th>\n",
       "      <td>695578.271553</td>\n",
       "      <td>9.682931e+05</td>\n",
       "      <td>4.507019e+06</td>\n",
       "    </tr>\n",
       "  </tbody>\n",
       "</table>\n",
       "</div>"
      ],
      "text/plain": [
       "                    x             y             z\n",
       "sat_id                                           \n",
       "0       641794.913967  9.023602e+05  4.474116e+06\n",
       "1       579336.565781  1.027713e+06  4.477344e+06\n",
       "2       650020.048393  1.011238e+06  4.433289e+06\n",
       "3       512224.984133  9.931288e+05  4.504896e+06\n",
       "4       695578.271553  9.682931e+05  4.507019e+06"
      ]
     },
     "execution_count": 2,
     "metadata": {},
     "output_type": "execute_result"
    }
   ],
   "source": [
    "CONNECTION_RANGE = 30000\n",
    "NB_NODES = 100\n",
    "T_HIGH = 1505\n",
    "T_AVG = 400\n",
    "T_LOW = 816\n",
    "\n",
    "df_low = pd.read_csv('../data/Topologies/topology_low.csv', sep=',', header=0, index_col='sat_id')\n",
    "df_avg = pd.read_csv('../data/Topologies/topology_avg.csv', sep=',', header=0, index_col='sat_id')\n",
    "df_high = pd.read_csv('../data/Topologies/topology_high.csv', sep=',', header=0, index_col='sat_id')\n",
    "\n",
    "df_low.head()"
   ]
  },
  {
   "cell_type": "code",
   "execution_count": 3,
   "metadata": {},
   "outputs": [],
   "source": [
    "# Convert DataFrame to Swarm object\n",
    "\n",
    "swarm_topo = {}\n",
    "\n",
    "swarm_topo[T_LOW] = Swarm(\n",
    "    connection_range=CONNECTION_RANGE,\n",
    "    nodes=[Node(i, df_low.iloc[i].x, df_low.iloc[i].y, df_low.iloc[i].z) for i in list(df_low.index.values)]\n",
    ")\n",
    "\n",
    "swarm_topo[T_AVG] = Swarm(\n",
    "    connection_range=CONNECTION_RANGE,\n",
    "    nodes=[Node(i, df_avg.iloc[i].x, df_avg.iloc[i].y, df_avg.iloc[i].z) for i in list(df_avg.index.values)]\n",
    ")\n",
    "\n",
    "swarm_topo[T_HIGH] = Swarm(\n",
    "    connection_range=CONNECTION_RANGE,\n",
    "    nodes=[Node(i, df_high.iloc[i].x, df_high.iloc[i].y, df_high.iloc[i].z) for i in list(df_high.index.values)]\n",
    ")"
   ]
  },
  {
   "cell_type": "code",
   "execution_count": 8,
   "metadata": {},
   "outputs": [
    {
     "name": "stderr",
     "output_type": "stream",
     "text": [
      "Neighbor matrix: 100%|██████████| 3/3 [00:00<00:00, 64.82it/s]\n"
     ]
    }
   ],
   "source": [
    "# Establish ISL within the network\n",
    "neighbor_matrix = {}\n",
    "\n",
    "with tqdm(total=len(swarm_topo.keys()), desc='Neighbor matrix') as pbar:\n",
    "    for t in swarm_topo.keys():\n",
    "        neighbor_matrix[t] = swarm_topo[t].neighbor_matrix()\n",
    "        pbar.update(1)"
   ]
  },
  {
   "cell_type": "code",
   "execution_count": 4,
   "metadata": {},
   "outputs": [],
   "source": [
    "# Assign group to nodes (MDRW)\n",
    "\n",
    "def MDRW(swarm, n=10, s=1):\n",
    "    sources = sample(swarm.nodes, n) # Initial random sources\n",
    "    \n",
    "    groups = {} # Dict(group ID:list(nodes))\n",
    "    for group_id, src in enumerate(sources): # Initialize swarms\n",
    "        src.set_group(group_id)\n",
    "        groups[group_id] = [src]\n",
    "    free_nodes = [n for n in swarm.nodes if n.group==-1]\n",
    "    while free_nodes: # Spread paths\n",
    "        for group_id in groups.keys():\n",
    "            n_i = groups[group_id][-1] # Current node\n",
    "            free_neighbors = set(free_nodes).intersection(n_i.neighbors)\n",
    "            if free_neighbors: # At least one unassigned neighbor\n",
    "                n_j = n_i.random_walk(group_id) # Next node\n",
    "            else:\n",
    "                n_j = swarm.random_jump(s) # If no neighbor, perform random jump in the graph\n",
    "            n_j.set_group(n_i.group)\n",
    "            groups[group_id].append(n_j)\n",
    "            free_nodes.remove(n_j)\n",
    "    return groups"
   ]
  },
  {
   "cell_type": "code",
   "execution_count": 9,
   "metadata": {},
   "outputs": [
    {
     "name": "stdout",
     "output_type": "stream",
     "text": [
      "Group 0: [72, 80, 66, 42, 90, 69, 24, 13, 49, 64]\n",
      "Group 1: [97, 33, 23, 38, 16, 27, 6, 71, 84, 76]\n",
      "Group 2: [8, 46, 52, 1, 74, 20, 28, 14, 53, 78]\n",
      "Group 3: [32, 0, 21, 26, 35, 19, 73, 25, 54, 4]\n",
      "Group 4: [15, 18, 5, 41, 11, 2, 29, 10, 59, 82]\n",
      "Group 5: [63, 81, 77, 87, 70, 56, 22, 37, 9, 85]\n",
      "Group 6: [57, 75, 65, 12, 95, 79, 34, 43, 96, 86]\n",
      "Group 7: [60, 68, 50, 39, 62, 30, 45, 93, 31, 3]\n",
      "Group 8: [83, 94, 7, 51, 55, 67, 36, 47, 61, 92]\n",
      "Group 9: [48, 98, 40, 44, 17, 88, 89, 58, 91, 99]\n"
     ]
    }
   ],
   "source": [
    "swarm = swarm_topo[T_LOW]\n",
    "\n",
    "swarm.reset_groups()\n",
    "groups = MDRW(swarm, n=10)\n",
    "\n",
    "for id, group in groups.items():\n",
    "    print('Group '+str(id)+':', [n.id for n in group])"
   ]
  },
  {
   "cell_type": "code",
   "execution_count": 10,
   "metadata": {},
   "outputs": [
    {
     "data": {
      "text/plain": [
       "<matplotlib.legend.Legend at 0x2b465638f40>"
      ]
     },
     "execution_count": 10,
     "metadata": {},
     "output_type": "execute_result"
    },
    {
     "data": {
      "image/png": "[encoded data removed]",
      "text/plain": [
       "<Figure size 720x720 with 1 Axes>"
      ]
     },
     "metadata": {
      "needs_background": "light"
     },
     "output_type": "display_data"
    }
   ],
   "source": [
    "fig = plt.figure(figsize=(10,10))\n",
    "ax = plt.axes(projection='3d')\n",
    "ax.grid(False)\n",
    "ax.axis('off')\n",
    "\n",
    "for node in swarm.nodes:\n",
    "    for n in node.neighbors:\n",
    "        if n in swarm.nodes:\n",
    "            ax.plot([node.x, n.x], [node.y, n.y], [node.z, n.z], c='gray')\n",
    "\n",
    "for id,group in groups.items():\n",
    "    x_data = [node.x for node in group]\n",
    "    y_data = [node.y for node in group]\n",
    "    z_data = [node.z for node in group]\n",
    "    ax.scatter(x_data, y_data, z_data, s=80, edgecolors='black', label='Group '+str(id))\n",
    "            \n",
    "ax.legend(loc='lower right')\n",
    "                \n"
   ]
  },
  {
   "cell_type": "code",
   "execution_count": 11,
   "metadata": {},
   "outputs": [
    {
     "data": {
      "image/png": "[encoded data removed]",
      "text/plain": [
       "<Figure size 720x720 with 1 Axes>"
      ]
     },
     "metadata": {
      "needs_background": "light"
     },
     "output_type": "display_data"
    }
   ],
   "source": [
    "fig = plt.figure(figsize=(10,10))\n",
    "ax = plt.axes(projection='3d')\n",
    "ax.grid(False)\n",
    "ax.axis('off')\n",
    "\n",
    "x_data = [node.x for node in swarm.nodes]\n",
    "y_data = [node.y for node in swarm.nodes]\n",
    "z_data = [node.z for node in swarm.nodes]\n",
    "ax.scatter(x_data, y_data, z_data, c='blue', s=80, edgecolors='black')\n",
    "\n",
    "for node in swarm.nodes:\n",
    "    for n in node.neighbors:\n",
    "        if n in swarm.nodes:\n",
    "            ax.plot([node.x, n.x], [node.y, n.y], [node.z, n.z], c='gray')"
   ]
  },
  {
   "cell_type": "markdown",
   "metadata": {},
   "source": [
    "# 2. Find all shortest paths using NetworkX"
   ]
  },
  {
   "cell_type": "code",
   "execution_count": 12,
   "metadata": {},
   "outputs": [],
   "source": [
    "import networkx as nx"
   ]
  },
  {
   "cell_type": "code",
   "execution_count": 13,
   "metadata": {},
   "outputs": [],
   "source": [
    "def add_row_sp(dict, src_id, dst_id, paths):\n",
    "    dict['Source'].append(src_id)\n",
    "    dict['Dest'].append(dst_id)\n",
    "    dict['Number of shortest paths'].append(len(paths))\n",
    "    dict['SPL'].append(len(paths[0]))"
   ]
  },
  {
   "cell_type": "code",
   "execution_count": 14,
   "metadata": {},
   "outputs": [
    {
     "name": "stdout",
     "output_type": "stream",
     "text": [
      "Graph with 100 nodes and 265 edges\n"
     ]
    }
   ],
   "source": [
    "swarm = swarm_topo[T_LOW]\n",
    "graph = swarm.swarm_to_nxgraph()\n",
    "print(graph)\n",
    "\n",
    "shortest_paths = {\n",
    "    'Source':[],\n",
    "    'Dest':[],\n",
    "    'Number of shortest paths':[],\n",
    "    'SPL':[]\n",
    "}\n",
    "\n",
    "visited_pairs = []\n",
    "\n",
    "for src_id in graph.nodes:\n",
    "    for dst_id in graph.nodes:\n",
    "        if set((src_id,dst_id)) not in visited_pairs:\n",
    "            visited_pairs.append(set((src_id,dst_id)))\n",
    "            if dst_id != src_id and nx.has_path(graph, src_id, dst_id):\n",
    "                paths = []\n",
    "                for path in nx.all_shortest_paths(graph, source=src_id, target=dst_id):\n",
    "                    paths.append(path)\n",
    "                add_row_sp(shortest_paths, src_id, dst_id, paths)"
   ]
  },
  {
   "cell_type": "code",
   "execution_count": 15,
   "metadata": {},
   "outputs": [
    {
     "data": {
      "text/html": [
       "<div>\n",
       "<style scoped>\n",
       "    .dataframe tbody tr th:only-of-type {\n",
       "        vertical-align: middle;\n",
       "    }\n",
       "\n",
       "    .dataframe tbody tr th {\n",
       "        vertical-align: top;\n",
       "    }\n",
       "\n",
       "    .dataframe thead th {\n",
       "        text-align: right;\n",
       "    }\n",
       "</style>\n",
       "<table border=\"1\" class=\"dataframe\">\n",
       "  <thead>\n",
       "    <tr style=\"text-align: right;\">\n",
       "      <th></th>\n",
       "      <th>Source</th>\n",
       "      <th>Dest</th>\n",
       "      <th>Number of shortest paths</th>\n",
       "      <th>SPL</th>\n",
       "    </tr>\n",
       "  </thead>\n",
       "  <tbody>\n",
       "    <tr>\n",
       "      <th>0</th>\n",
       "      <td>0</td>\n",
       "      <td>1</td>\n",
       "      <td>4</td>\n",
       "      <td>7</td>\n",
       "    </tr>\n",
       "    <tr>\n",
       "      <th>1</th>\n",
       "      <td>0</td>\n",
       "      <td>2</td>\n",
       "      <td>8</td>\n",
       "      <td>7</td>\n",
       "    </tr>\n",
       "    <tr>\n",
       "      <th>2</th>\n",
       "      <td>0</td>\n",
       "      <td>5</td>\n",
       "      <td>22</td>\n",
       "      <td>7</td>\n",
       "    </tr>\n",
       "    <tr>\n",
       "      <th>3</th>\n",
       "      <td>0</td>\n",
       "      <td>6</td>\n",
       "      <td>4</td>\n",
       "      <td>5</td>\n",
       "    </tr>\n",
       "    <tr>\n",
       "      <th>4</th>\n",
       "      <td>0</td>\n",
       "      <td>7</td>\n",
       "      <td>2</td>\n",
       "      <td>5</td>\n",
       "    </tr>\n",
       "    <tr>\n",
       "      <th>...</th>\n",
       "      <td>...</td>\n",
       "      <td>...</td>\n",
       "      <td>...</td>\n",
       "      <td>...</td>\n",
       "    </tr>\n",
       "    <tr>\n",
       "      <th>3318</th>\n",
       "      <td>95</td>\n",
       "      <td>97</td>\n",
       "      <td>2</td>\n",
       "      <td>5</td>\n",
       "    </tr>\n",
       "    <tr>\n",
       "      <th>3319</th>\n",
       "      <td>95</td>\n",
       "      <td>98</td>\n",
       "      <td>1</td>\n",
       "      <td>7</td>\n",
       "    </tr>\n",
       "    <tr>\n",
       "      <th>3320</th>\n",
       "      <td>96</td>\n",
       "      <td>97</td>\n",
       "      <td>1</td>\n",
       "      <td>6</td>\n",
       "    </tr>\n",
       "    <tr>\n",
       "      <th>3321</th>\n",
       "      <td>96</td>\n",
       "      <td>98</td>\n",
       "      <td>17</td>\n",
       "      <td>7</td>\n",
       "    </tr>\n",
       "    <tr>\n",
       "      <th>3322</th>\n",
       "      <td>97</td>\n",
       "      <td>98</td>\n",
       "      <td>3</td>\n",
       "      <td>4</td>\n",
       "    </tr>\n",
       "  </tbody>\n",
       "</table>\n",
       "<p>3323 rows × 4 columns</p>\n",
       "</div>"
      ],
      "text/plain": [
       "      Source  Dest  Number of shortest paths  SPL\n",
       "0          0     1                         4    7\n",
       "1          0     2                         8    7\n",
       "2          0     5                        22    7\n",
       "3          0     6                         4    5\n",
       "4          0     7                         2    5\n",
       "...      ...   ...                       ...  ...\n",
       "3318      95    97                         2    5\n",
       "3319      95    98                         1    7\n",
       "3320      96    97                         1    6\n",
       "3321      96    98                        17    7\n",
       "3322      97    98                         3    4\n",
       "\n",
       "[3323 rows x 4 columns]"
      ]
     },
     "execution_count": 15,
     "metadata": {},
     "output_type": "execute_result"
    }
   ],
   "source": [
    "df_sp = pd.DataFrame(shortest_paths)\n",
    "df_sp"
   ]
  },
  {
   "cell_type": "markdown",
   "metadata": {},
   "source": [
    "# 3. Analyze betweeness centrality distribution"
   ]
  },
  {
   "cell_type": "code",
   "execution_count": 16,
   "metadata": {},
   "outputs": [
    {
     "data": {
      "text/html": [
       "<div>\n",
       "<style scoped>\n",
       "    .dataframe tbody tr th:only-of-type {\n",
       "        vertical-align: middle;\n",
       "    }\n",
       "\n",
       "    .dataframe tbody tr th {\n",
       "        vertical-align: top;\n",
       "    }\n",
       "\n",
       "    .dataframe thead th {\n",
       "        text-align: right;\n",
       "    }\n",
       "</style>\n",
       "<table border=\"1\" class=\"dataframe\">\n",
       "  <thead>\n",
       "    <tr style=\"text-align: right;\">\n",
       "      <th></th>\n",
       "      <th>Betweeness centrality</th>\n",
       "    </tr>\n",
       "  </thead>\n",
       "  <tbody>\n",
       "    <tr>\n",
       "      <th>0</th>\n",
       "      <td>0.000000</td>\n",
       "    </tr>\n",
       "    <tr>\n",
       "      <th>1</th>\n",
       "      <td>0.005854</td>\n",
       "    </tr>\n",
       "    <tr>\n",
       "      <th>2</th>\n",
       "      <td>0.000000</td>\n",
       "    </tr>\n",
       "    <tr>\n",
       "      <th>3</th>\n",
       "      <td>0.000000</td>\n",
       "    </tr>\n",
       "    <tr>\n",
       "      <th>4</th>\n",
       "      <td>0.000000</td>\n",
       "    </tr>\n",
       "    <tr>\n",
       "      <th>...</th>\n",
       "      <td>...</td>\n",
       "    </tr>\n",
       "    <tr>\n",
       "      <th>95</th>\n",
       "      <td>0.016491</td>\n",
       "    </tr>\n",
       "    <tr>\n",
       "      <th>96</th>\n",
       "      <td>0.016491</td>\n",
       "    </tr>\n",
       "    <tr>\n",
       "      <th>97</th>\n",
       "      <td>0.055710</td>\n",
       "    </tr>\n",
       "    <tr>\n",
       "      <th>98</th>\n",
       "      <td>0.036040</td>\n",
       "    </tr>\n",
       "    <tr>\n",
       "      <th>99</th>\n",
       "      <td>0.000000</td>\n",
       "    </tr>\n",
       "  </tbody>\n",
       "</table>\n",
       "<p>100 rows × 1 columns</p>\n",
       "</div>"
      ],
      "text/plain": [
       "    Betweeness centrality\n",
       "0                0.000000\n",
       "1                0.005854\n",
       "2                0.000000\n",
       "3                0.000000\n",
       "4                0.000000\n",
       "..                    ...\n",
       "95               0.016491\n",
       "96               0.016491\n",
       "97               0.055710\n",
       "98               0.036040\n",
       "99               0.000000\n",
       "\n",
       "[100 rows x 1 columns]"
      ]
     },
     "execution_count": 16,
     "metadata": {},
     "output_type": "execute_result"
    }
   ],
   "source": [
    "bc_dict = nx.betweenness_centrality(graph)\n",
    "df_bc = pd.DataFrame.from_dict(bc_dict, orient='index', columns=['Betweeness centrality'])\n",
    "df_bc"
   ]
  },
  {
   "cell_type": "code",
   "execution_count": 18,
   "metadata": {},
   "outputs": [
    {
     "data": {
      "text/html": [
       "<div>\n",
       "<style scoped>\n",
       "    .dataframe tbody tr th:only-of-type {\n",
       "        vertical-align: middle;\n",
       "    }\n",
       "\n",
       "    .dataframe tbody tr th {\n",
       "        vertical-align: top;\n",
       "    }\n",
       "\n",
       "    .dataframe thead th {\n",
       "        text-align: right;\n",
       "    }\n",
       "</style>\n",
       "<table border=\"1\" class=\"dataframe\">\n",
       "  <thead>\n",
       "    <tr style=\"text-align: right;\">\n",
       "      <th></th>\n",
       "      <th>Betweeness centrality</th>\n",
       "    </tr>\n",
       "  </thead>\n",
       "  <tbody>\n",
       "    <tr>\n",
       "      <th>51</th>\n",
       "      <td>0.103263</td>\n",
       "    </tr>\n",
       "  </tbody>\n",
       "</table>\n",
       "</div>"
      ],
      "text/plain": [
       "    Betweeness centrality\n",
       "51               0.103263"
      ]
     },
     "execution_count": 18,
     "metadata": {},
     "output_type": "execute_result"
    }
   ],
   "source": [
    "df_bc[df_bc['Betweeness centrality']>=0.1]"
   ]
  },
  {
   "cell_type": "code",
   "execution_count": 25,
   "metadata": {},
   "outputs": [
    {
     "data": {
      "text/plain": [
       "<AxesSubplot:ylabel='Betweeness centrality'>"
      ]
     },
     "execution_count": 25,
     "metadata": {},
     "output_type": "execute_result"
    },
    {
     "data": {
      "image/png": "[encoded data removed]",
      "text/plain": [
       "<Figure size 432x576 with 1 Axes>"
      ]
     },
     "metadata": {
      "needs_background": "light"
     },
     "output_type": "display_data"
    }
   ],
   "source": [
    "df_bc.plot(\n",
    "    kind='box', \n",
    "    figsize=(6,8),\n",
    "    ylim=(0,0.11),\n",
    "    xlabel='Nodes',\n",
    "    ylabel='Betweeness centrality')"
   ]
  },
  {
   "cell_type": "markdown",
   "metadata": {},
   "source": [
    "# 4. Analyze Betweeness centrality on groups"
   ]
  },
  {
   "cell_type": "code",
   "execution_count": 68,
   "metadata": {},
   "outputs": [],
   "source": [
    "def group_shortest_paths(groups, graph):\n",
    "    visited_pairs = []\n",
    "    data_dict = {\n",
    "        'Group':[],\n",
    "        'Source':[],\n",
    "        'Dest':[],\n",
    "        'Shortest paths':[]\n",
    "    }\n",
    "\n",
    "    for group_id, group_nodes in groups.items():\n",
    "        for ni in group_nodes:\n",
    "            src_id = ni.id\n",
    "            for nj in group_nodes:\n",
    "                dst_id = nj.id\n",
    "                if set((src_id,dst_id)) not in visited_pairs:\n",
    "                    visited_pairs.append(set((src_id,dst_id)))\n",
    "                    if dst_id != src_id and nx.has_path(graph, src_id, dst_id):\n",
    "                        # Compute shortest paths\n",
    "                        gen_paths = nx.all_shortest_paths(graph, source=src_id, target=dst_id)\n",
    "                        shortest_paths = list(gen_paths)\n",
    "                        data_dict['Group'].append(group_id)\n",
    "                        data_dict['Source'].append(src_id)\n",
    "                        data_dict['Dest'].append(dst_id)\n",
    "                        data_dict['Shortest paths'].append(shortest_paths)\n",
    "    return data_dict\n",
    "\n",
    "def group_betweeness_centrality(groups, graph):\n",
    "    dict = group_shortest_paths(groups, graph)\n",
    "    shortest_paths = dict['Shortest paths']\n",
    "    for paths in shortest_paths:\n",
    "        for path in paths:\n",
    "            del path[0] # Discard endpoints\n",
    "            del path[-1]\n",
    "    bc_dict = {\n",
    "        'Node':[],\n",
    "        'Betweeness centrality':[]\n",
    "    }\n",
    "    \n",
    "    for node in graph.nodes:\n",
    "        bc = 0\n",
    "        for paths in shortest_paths:\n",
    "            sp_node = [path for path in paths if node in path]\n",
    "            bc += len(sp_node)/len(paths)\n",
    "        bc = bc/(10*10*9/2) #Normalize over all possible pairs\n",
    "        bc_dict['Node'].append(node)\n",
    "        bc_dict['Betweeness centrality'].append(bc)\n",
    "    return bc_dict\n",
    "        "
   ]
  },
  {
   "cell_type": "code",
   "execution_count": 63,
   "metadata": {},
   "outputs": [],
   "source": [
    "def graph_shortest_paths(graph):\n",
    "    visited_pairs = []\n",
    "    data_dict = {\n",
    "        'Source':[],\n",
    "        'Dest':[],\n",
    "        'Shortest paths':[]\n",
    "    }\n",
    "\n",
    "    for src_id in graph.nodes:\n",
    "        for dst_id in graph.nodes:\n",
    "            if set((src_id,dst_id)) not in visited_pairs:\n",
    "                visited_pairs.append(set((src_id,dst_id)))\n",
    "                if dst_id != src_id and nx.has_path(graph, src_id, dst_id):\n",
    "                    # Compute shortest paths\n",
    "                    gen_paths = nx.all_shortest_paths(graph, source=src_id, target=dst_id)\n",
    "                    shortest_paths = list(gen_paths)\n",
    "                    data_dict['Source'].append(src_id)\n",
    "                    data_dict['Dest'].append(dst_id)\n",
    "                    data_dict['Shortest paths'].append(shortest_paths)\n",
    "    return data_dict\n",
    "\n",
    "def graph_betweeness_centrality(graph):\n",
    "    dict = graph_shortest_paths(graph)\n",
    "    shortest_paths = dict['Shortest paths']\n",
    "    for paths in shortest_paths:\n",
    "        for path in paths:\n",
    "            del path[0] # Discard endpoints\n",
    "            del path[-1]\n",
    "    bc_dict = {\n",
    "        'Node':[],\n",
    "        'Betweeness centrality':[]\n",
    "    }\n",
    "    \n",
    "    for node in graph.nodes:\n",
    "        bc = 0\n",
    "        for paths in shortest_paths:\n",
    "            sp_node = [path for path in paths if node in path]\n",
    "            bc += len(sp_node)/len(paths)\n",
    "        bc = bc/(100*99/2) #Normalize over all possible pairs\n",
    "        bc_dict['Node'].append(node)\n",
    "        bc_dict['Betweeness centrality'].append(bc)\n",
    "    return bc_dict"
   ]
  },
  {
   "cell_type": "code",
   "execution_count": 64,
   "metadata": {},
   "outputs": [
    {
     "data": {
      "text/html": [
       "<div>\n",
       "<style scoped>\n",
       "    .dataframe tbody tr th:only-of-type {\n",
       "        vertical-align: middle;\n",
       "    }\n",
       "\n",
       "    .dataframe tbody tr th {\n",
       "        vertical-align: top;\n",
       "    }\n",
       "\n",
       "    .dataframe thead th {\n",
       "        text-align: right;\n",
       "    }\n",
       "</style>\n",
       "<table border=\"1\" class=\"dataframe\">\n",
       "  <thead>\n",
       "    <tr style=\"text-align: right;\">\n",
       "      <th></th>\n",
       "      <th>Node</th>\n",
       "      <th>Betweeness centrality</th>\n",
       "    </tr>\n",
       "  </thead>\n",
       "  <tbody>\n",
       "    <tr>\n",
       "      <th>0</th>\n",
       "      <td>0</td>\n",
       "      <td>0.000000</td>\n",
       "    </tr>\n",
       "    <tr>\n",
       "      <th>1</th>\n",
       "      <td>1</td>\n",
       "      <td>0.005736</td>\n",
       "    </tr>\n",
       "    <tr>\n",
       "      <th>2</th>\n",
       "      <td>2</td>\n",
       "      <td>0.000000</td>\n",
       "    </tr>\n",
       "    <tr>\n",
       "      <th>3</th>\n",
       "      <td>3</td>\n",
       "      <td>0.000000</td>\n",
       "    </tr>\n",
       "    <tr>\n",
       "      <th>4</th>\n",
       "      <td>4</td>\n",
       "      <td>0.000000</td>\n",
       "    </tr>\n",
       "    <tr>\n",
       "      <th>...</th>\n",
       "      <td>...</td>\n",
       "      <td>...</td>\n",
       "    </tr>\n",
       "    <tr>\n",
       "      <th>95</th>\n",
       "      <td>95</td>\n",
       "      <td>0.016162</td>\n",
       "    </tr>\n",
       "    <tr>\n",
       "      <th>96</th>\n",
       "      <td>96</td>\n",
       "      <td>0.016162</td>\n",
       "    </tr>\n",
       "    <tr>\n",
       "      <th>97</th>\n",
       "      <td>97</td>\n",
       "      <td>0.054596</td>\n",
       "    </tr>\n",
       "    <tr>\n",
       "      <th>98</th>\n",
       "      <td>98</td>\n",
       "      <td>0.035319</td>\n",
       "    </tr>\n",
       "    <tr>\n",
       "      <th>99</th>\n",
       "      <td>99</td>\n",
       "      <td>0.000000</td>\n",
       "    </tr>\n",
       "  </tbody>\n",
       "</table>\n",
       "<p>100 rows × 2 columns</p>\n",
       "</div>"
      ],
      "text/plain": [
       "    Node  Betweeness centrality\n",
       "0      0               0.000000\n",
       "1      1               0.005736\n",
       "2      2               0.000000\n",
       "3      3               0.000000\n",
       "4      4               0.000000\n",
       "..   ...                    ...\n",
       "95    95               0.016162\n",
       "96    96               0.016162\n",
       "97    97               0.054596\n",
       "98    98               0.035319\n",
       "99    99               0.000000\n",
       "\n",
       "[100 rows x 2 columns]"
      ]
     },
     "execution_count": 64,
     "metadata": {},
     "output_type": "execute_result"
    }
   ],
   "source": [
    "df_graph = pd.DataFrame(graph_betweeness_centrality(graph))\n",
    "df_graph"
   ]
  },
  {
   "cell_type": "code",
   "execution_count": 71,
   "metadata": {},
   "outputs": [
    {
     "data": {
      "text/plain": [
       "16"
      ]
     },
     "execution_count": 71,
     "metadata": {},
     "output_type": "execute_result"
    }
   ],
   "source": [
    "len(df_graph[df_graph['Betweeness centrality']>=0.05]['Betweeness centrality'])"
   ]
  },
  {
   "cell_type": "code",
   "execution_count": 69,
   "metadata": {},
   "outputs": [
    {
     "data": {
      "text/html": [
       "<div>\n",
       "<style scoped>\n",
       "    .dataframe tbody tr th:only-of-type {\n",
       "        vertical-align: middle;\n",
       "    }\n",
       "\n",
       "    .dataframe tbody tr th {\n",
       "        vertical-align: top;\n",
       "    }\n",
       "\n",
       "    .dataframe thead th {\n",
       "        text-align: right;\n",
       "    }\n",
       "</style>\n",
       "<table border=\"1\" class=\"dataframe\">\n",
       "  <thead>\n",
       "    <tr style=\"text-align: right;\">\n",
       "      <th></th>\n",
       "      <th>Node</th>\n",
       "      <th>Betweeness centrality</th>\n",
       "    </tr>\n",
       "  </thead>\n",
       "  <tbody>\n",
       "    <tr>\n",
       "      <th>0</th>\n",
       "      <td>0</td>\n",
       "      <td>0.000000</td>\n",
       "    </tr>\n",
       "    <tr>\n",
       "      <th>1</th>\n",
       "      <td>1</td>\n",
       "      <td>0.004477</td>\n",
       "    </tr>\n",
       "    <tr>\n",
       "      <th>2</th>\n",
       "      <td>2</td>\n",
       "      <td>0.000000</td>\n",
       "    </tr>\n",
       "    <tr>\n",
       "      <th>3</th>\n",
       "      <td>3</td>\n",
       "      <td>0.000000</td>\n",
       "    </tr>\n",
       "    <tr>\n",
       "      <th>4</th>\n",
       "      <td>4</td>\n",
       "      <td>0.000000</td>\n",
       "    </tr>\n",
       "    <tr>\n",
       "      <th>...</th>\n",
       "      <td>...</td>\n",
       "      <td>...</td>\n",
       "    </tr>\n",
       "    <tr>\n",
       "      <th>95</th>\n",
       "      <td>95</td>\n",
       "      <td>0.015556</td>\n",
       "    </tr>\n",
       "    <tr>\n",
       "      <th>96</th>\n",
       "      <td>96</td>\n",
       "      <td>0.015556</td>\n",
       "    </tr>\n",
       "    <tr>\n",
       "      <th>97</th>\n",
       "      <td>97</td>\n",
       "      <td>0.033335</td>\n",
       "    </tr>\n",
       "    <tr>\n",
       "      <th>98</th>\n",
       "      <td>98</td>\n",
       "      <td>0.035387</td>\n",
       "    </tr>\n",
       "    <tr>\n",
       "      <th>99</th>\n",
       "      <td>99</td>\n",
       "      <td>0.000000</td>\n",
       "    </tr>\n",
       "  </tbody>\n",
       "</table>\n",
       "<p>100 rows × 2 columns</p>\n",
       "</div>"
      ],
      "text/plain": [
       "    Node  Betweeness centrality\n",
       "0      0               0.000000\n",
       "1      1               0.004477\n",
       "2      2               0.000000\n",
       "3      3               0.000000\n",
       "4      4               0.000000\n",
       "..   ...                    ...\n",
       "95    95               0.015556\n",
       "96    96               0.015556\n",
       "97    97               0.033335\n",
       "98    98               0.035387\n",
       "99    99               0.000000\n",
       "\n",
       "[100 rows x 2 columns]"
      ]
     },
     "execution_count": 69,
     "metadata": {},
     "output_type": "execute_result"
    }
   ],
   "source": [
    "df_group = pd.DataFrame(group_betweeness_centrality(groups, graph))\n",
    "df_group"
   ]
  },
  {
   "cell_type": "code",
   "execution_count": 72,
   "metadata": {},
   "outputs": [
    {
     "data": {
      "text/plain": [
       "4"
      ]
     },
     "execution_count": 72,
     "metadata": {},
     "output_type": "execute_result"
    }
   ],
   "source": [
    "len(df_group[df_group['Betweeness centrality']>=0.05]['Betweeness centrality'])"
   ]
  },
  {
   "cell_type": "markdown",
   "metadata": {},
   "source": [
    "# 5. Analyze impact of nodes removal on shortest paths"
   ]
  },
  {
   "cell_type": "code",
   "execution_count": 45,
   "metadata": {},
   "outputs": [
    {
     "name": "stdout",
     "output_type": "stream",
     "text": [
      "0.058890275881651945\n"
     ]
    },
    {
     "data": {
      "text/plain": [
       "[5, 17, 27, 39, 51, 52, 68, 71, 78, 87]"
      ]
     },
     "execution_count": 45,
     "metadata": {},
     "output_type": "execute_result"
    }
   ],
   "source": [
    "thresh = df_bc['Betweeness centrality'].quantile(0.9)\n",
    "print(thresh)\n",
    "top_nodes = [nid for nid,bc in bc_dict.items() if bc>=thresh]\n",
    "top_nodes"
   ]
  },
  {
   "cell_type": "code",
   "execution_count": 46,
   "metadata": {},
   "outputs": [
    {
     "name": "stdout",
     "output_type": "stream",
     "text": [
      "Graph with 100 nodes and 265 edges\n",
      "Graph with 90 nodes and 175 edges\n"
     ]
    }
   ],
   "source": [
    "simu_graph = graph.copy()\n",
    "simu_graph.remove_nodes_from(top_nodes)\n",
    "print(graph)\n",
    "print(simu_graph)"
   ]
  },
  {
   "cell_type": "code",
   "execution_count": 47,
   "metadata": {},
   "outputs": [],
   "source": [
    "shortest_paths = {\n",
    "    'Source':[],\n",
    "    'Dest':[],\n",
    "    'Number of shortest paths':[],\n",
    "    'SPL':[]\n",
    "}\n",
    "\n",
    "visited_pairs = []\n",
    "\n",
    "for src_id in simu_graph.nodes:\n",
    "    for dst_id in simu_graph.nodes:\n",
    "        if set((src_id,dst_id)) not in visited_pairs:\n",
    "            visited_pairs.append(set((src_id,dst_id)))\n",
    "            if dst_id != src_id and nx.has_path(simu_graph, src_id, dst_id):\n",
    "                paths = []\n",
    "                for path in nx.all_shortest_paths(simu_graph, source=src_id, target=dst_id):\n",
    "                    paths.append(path)\n",
    "                add_row_sp(shortest_paths, src_id, dst_id, paths)"
   ]
  },
  {
   "cell_type": "code",
   "execution_count": 48,
   "metadata": {},
   "outputs": [
    {
     "data": {
      "text/html": [
       "<div>\n",
       "<style scoped>\n",
       "    .dataframe tbody tr th:only-of-type {\n",
       "        vertical-align: middle;\n",
       "    }\n",
       "\n",
       "    .dataframe tbody tr th {\n",
       "        vertical-align: top;\n",
       "    }\n",
       "\n",
       "    .dataframe thead th {\n",
       "        text-align: right;\n",
       "    }\n",
       "</style>\n",
       "<table border=\"1\" class=\"dataframe\">\n",
       "  <thead>\n",
       "    <tr style=\"text-align: right;\">\n",
       "      <th></th>\n",
       "      <th>Source</th>\n",
       "      <th>Dest</th>\n",
       "      <th>Number of shortest paths</th>\n",
       "      <th>SPL</th>\n",
       "    </tr>\n",
       "  </thead>\n",
       "  <tbody>\n",
       "    <tr>\n",
       "      <th>0</th>\n",
       "      <td>0</td>\n",
       "      <td>6</td>\n",
       "      <td>4</td>\n",
       "      <td>5</td>\n",
       "    </tr>\n",
       "    <tr>\n",
       "      <th>1</th>\n",
       "      <td>0</td>\n",
       "      <td>7</td>\n",
       "      <td>2</td>\n",
       "      <td>5</td>\n",
       "    </tr>\n",
       "    <tr>\n",
       "      <th>2</th>\n",
       "      <td>0</td>\n",
       "      <td>9</td>\n",
       "      <td>2</td>\n",
       "      <td>4</td>\n",
       "    </tr>\n",
       "    <tr>\n",
       "      <th>3</th>\n",
       "      <td>0</td>\n",
       "      <td>12</td>\n",
       "      <td>1</td>\n",
       "      <td>4</td>\n",
       "    </tr>\n",
       "    <tr>\n",
       "      <th>4</th>\n",
       "      <td>0</td>\n",
       "      <td>14</td>\n",
       "      <td>4</td>\n",
       "      <td>6</td>\n",
       "    </tr>\n",
       "    <tr>\n",
       "      <th>...</th>\n",
       "      <td>...</td>\n",
       "      <td>...</td>\n",
       "      <td>...</td>\n",
       "      <td>...</td>\n",
       "    </tr>\n",
       "    <tr>\n",
       "      <th>1273</th>\n",
       "      <td>93</td>\n",
       "      <td>97</td>\n",
       "      <td>1</td>\n",
       "      <td>4</td>\n",
       "    </tr>\n",
       "    <tr>\n",
       "      <th>1274</th>\n",
       "      <td>94</td>\n",
       "      <td>95</td>\n",
       "      <td>1</td>\n",
       "      <td>6</td>\n",
       "    </tr>\n",
       "    <tr>\n",
       "      <th>1275</th>\n",
       "      <td>94</td>\n",
       "      <td>97</td>\n",
       "      <td>1</td>\n",
       "      <td>4</td>\n",
       "    </tr>\n",
       "    <tr>\n",
       "      <th>1276</th>\n",
       "      <td>95</td>\n",
       "      <td>97</td>\n",
       "      <td>1</td>\n",
       "      <td>5</td>\n",
       "    </tr>\n",
       "    <tr>\n",
       "      <th>1277</th>\n",
       "      <td>96</td>\n",
       "      <td>98</td>\n",
       "      <td>2</td>\n",
       "      <td>7</td>\n",
       "    </tr>\n",
       "  </tbody>\n",
       "</table>\n",
       "<p>1278 rows × 4 columns</p>\n",
       "</div>"
      ],
      "text/plain": [
       "      Source  Dest  Number of shortest paths  SPL\n",
       "0          0     6                         4    5\n",
       "1          0     7                         2    5\n",
       "2          0     9                         2    4\n",
       "3          0    12                         1    4\n",
       "4          0    14                         4    6\n",
       "...      ...   ...                       ...  ...\n",
       "1273      93    97                         1    4\n",
       "1274      94    95                         1    6\n",
       "1275      94    97                         1    4\n",
       "1276      95    97                         1    5\n",
       "1277      96    98                         2    7\n",
       "\n",
       "[1278 rows x 4 columns]"
      ]
     },
     "execution_count": 48,
     "metadata": {},
     "output_type": "execute_result"
    }
   ],
   "source": [
    "df_sp_faulty = pd.DataFrame(shortest_paths)\n",
    "df_sp_faulty"
   ]
  },
  {
   "cell_type": "code",
   "execution_count": 51,
   "metadata": {},
   "outputs": [
    {
     "name": "stdout",
     "output_type": "stream",
     "text": [
      "Average SPL: 4.9416190189587725 \tConnectivity: 0.6713131313131313\n",
      "Average SPL after fault: 4.402190923317684 \tConnectivity: 0.2581818181818182\n"
     ]
    }
   ],
   "source": [
    "print('Average SPL:', df_sp['SPL'].mean(), '\\tConnectivity:', len(df_sp.index)/4950)\n",
    "print('Average SPL after fault:', df_sp_faulty['SPL'].mean(), '\\tConnectivity:', len(df_sp_faulty.index)/4950)"
   ]
  },
  {
   "cell_type": "code",
   "execution_count": null,
   "metadata": {},
   "outputs": [],
   "source": []
  }
 ],
 "metadata": {
  "kernelspec": {
   "display_name": "Python 3",
   "language": "python",
   "name": "python3"
  },
  "language_info": {
   "codemirror_mode": {
    "name": "ipython",
    "version": 3
   },
   "file_extension": ".py",
   "mimetype": "text/x-python",
   "name": "python",
   "nbconvert_exporter": "python",
   "pygments_lexer": "ipython3",
   "version": "3.9.13"
  },
  "orig_nbformat": 4
 },
 "nbformat": 4,
 "nbformat_minor": 2
}
