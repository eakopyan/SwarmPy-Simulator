{
 "cells": [
  {
   "cell_type": "code",
   "execution_count": 1,
   "metadata": {},
   "outputs": [],
   "source": [
    "import numpy as np\n",
    "import pandas as pd\n",
    "from tqdm import tqdm\n",
    "\n",
    "import matplotlib.pyplot as plt\n",
    "from mpl_toolkits import mplot3d\n",
    "\n",
    "%matplotlib inline "
   ]
  },
  {
   "cell_type": "code",
   "execution_count": 2,
   "metadata": {},
   "outputs": [],
   "source": [
    "from swarm_sim import *"
   ]
  },
  {
   "cell_type": "code",
   "execution_count": 3,
   "metadata": {},
   "outputs": [
    {
     "name": "stdout",
     "output_type": "stream",
     "text": [
      "Source ID: 0\n",
      "Destination ID: 24\n",
      "Type of Service: SIGNALING\n",
      "TTL: 64\n",
      "\n",
      "Data:\n",
      "Ping request\n"
     ]
    }
   ],
   "source": [
    "pkt1 = Packet(\n",
    "    src_addr=0,\n",
    "    tos=0,\n",
    "    dest_addr=24,\n",
    "    data='Ping request'\n",
    ")\n",
    "\n",
    "print(pkt1)"
   ]
  },
  {
   "cell_type": "code",
   "execution_count": 4,
   "metadata": {},
   "outputs": [
    {
     "name": "stdout",
     "output_type": "stream",
     "text": [
      "Source ID: 23\n",
      "Destination ID: BROADCAST\n",
      "Type of Service: DATA\n",
      "TTL: 64\n",
      "\n",
      "Data:\n",
      "This is some space observation of low frequency. Booo\n"
     ]
    }
   ],
   "source": [
    "pkt2 = Packet(\n",
    "    src_addr=23,\n",
    "    tos=1,\n",
    "    data='This is some space observation of low frequency. Booo'\n",
    ")\n",
    "\n",
    "print(pkt2)"
   ]
  },
  {
   "cell_type": "code",
   "execution_count": 5,
   "metadata": {},
   "outputs": [
    {
     "data": {
      "text/plain": [
       "False"
      ]
     },
     "execution_count": 5,
     "metadata": {},
     "output_type": "execute_result"
    }
   ],
   "source": [
    "pkt1.is_packet(pkt2)"
   ]
  },
  {
   "cell_type": "code",
   "execution_count": 6,
   "metadata": {},
   "outputs": [
    {
     "name": "stdout",
     "output_type": "stream",
     "text": [
      "Routing protocol: epidemic\n",
      "Source ID: 42\n",
      "Destination ID: BROADCAST\n",
      "Type of Service: DATA\n",
      "TTL: 64\n",
      "\n",
      "Data:\n",
      "Disseminate!\n"
     ]
    }
   ],
   "source": [
    "pkt_e = EpidemicPacket(\n",
    "    src_addr=42,\n",
    "    data='Disseminate!'\n",
    ")\n",
    "\n",
    "print(pkt_e)"
   ]
  },
  {
   "cell_type": "code",
   "execution_count": null,
   "metadata": {},
   "outputs": [],
   "source": []
  }
 ],
 "metadata": {
  "interpreter": {
   "hash": "d104ea10d506df7853e9d4f625f6f820829cafbe423936c1f0a0749db6cf5ee2"
  },
  "kernelspec": {
   "display_name": "Python 3.9.12 64-bit (windows store)",
   "language": "python",
   "name": "python3"
  },
  "language_info": {
   "codemirror_mode": {
    "name": "ipython",
    "version": 3
   },
   "file_extension": ".py",
   "mimetype": "text/x-python",
   "name": "python",
   "nbconvert_exporter": "python",
   "pygments_lexer": "ipython3",
   "version": "3.9.13"
  },
  "orig_nbformat": 4
 },
 "nbformat": 4,
 "nbformat_minor": 2
}
