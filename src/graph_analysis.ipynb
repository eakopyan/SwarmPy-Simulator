{
 "cells": [
  {
   "cell_type": "code",
   "execution_count": 1,
   "metadata": {},
   "outputs": [],
   "source": [
    "import networkx as nx"
   ]
  },
  {
   "cell_type": "code",
   "execution_count": 2,
   "metadata": {},
   "outputs": [
    {
     "data": {
      "image/png": "[encoded data removed]",
      "text/plain": [
       "<Figure size 640x480 with 1 Axes>"
      ]
     },
     "metadata": {},
     "output_type": "display_data"
    }
   ],
   "source": [
    "G = nx.Graph()\n",
    "G.add_nodes_from(range(1,7))\n",
    "G.add_edges_from([(1,2),(1,3),(2,4),(2,5),(3,5),(4,6),(5,6)])\n",
    "nx.draw_planar(G, with_labels=True)"
   ]
  },
  {
   "cell_type": "code",
   "execution_count": 7,
   "metadata": {},
   "outputs": [
    {
     "data": {
      "text/plain": [
       "True"
      ]
     },
     "execution_count": 7,
     "metadata": {},
     "output_type": "execute_result"
    }
   ],
   "source": [
    "G.has_edge(1,3)"
   ]
  },
  {
   "cell_type": "code",
   "execution_count": 52,
   "metadata": {},
   "outputs": [],
   "source": [
    "def pair_disparity(shortest_paths, spl):\n",
    "    if len(shortest_paths)==1:\n",
    "        return 0.0\n",
    "    \n",
    "    path_graphs = {}\n",
    "    for i,path in enumerate(shortest_paths):\n",
    "        path_graphs[i] = nx.path_graph(path)\n",
    "        \n",
    "    disparity = 0\n",
    "    pairs = []\n",
    "    \n",
    "    for idx1,p1 in path_graphs.items():\n",
    "        for idx2,p2 in path_graphs.items():\n",
    "            if idx1 != idx2 and set([idx1,idx2]) not in pairs:\n",
    "                pairs.append(set([idx1,idx2]))\n",
    "                its = nx.intersection(p1,p2)\n",
    "                #print('Intersecting paths', idx1, 'and', idx2)\n",
    "                disp = 1 - nx.number_of_edges(its)/spl\n",
    "                #print('Relative disparity:', disp)\n",
    "                disparity += disp\n",
    "    #print('\\nPair disparity:', disparity/len(pairs))\n",
    "    return disparity/len(pairs)"
   ]
  },
  {
   "cell_type": "code",
   "execution_count": 48,
   "metadata": {},
   "outputs": [
    {
     "data": {
      "image/png": "[encoded data removed]",
      "text/plain": [
       "<Figure size 432x288 with 1 Axes>"
      ]
     },
     "metadata": {},
     "output_type": "display_data"
    }
   ],
   "source": [
    "G.add_edge(3,4)\n",
    "nx.draw_planar(G, with_labels=True)"
   ]
  },
  {
   "cell_type": "code",
   "execution_count": 55,
   "metadata": {},
   "outputs": [
    {
     "data": {
      "text/plain": [
       "0.7777777777777778"
      ]
     },
     "execution_count": 55,
     "metadata": {},
     "output_type": "execute_result"
    }
   ],
   "source": [
    "src, dst = 1,6\n",
    "\n",
    "path_gen = nx.all_shortest_paths(G,src,dst)\n",
    "list_paths = list(path_gen)\n",
    "spl = nx.shortest_path_length(G,src,dst)\n",
    "\n",
    "disparity = pair_disparity(list_paths, spl)\n",
    "disparity"
   ]
  },
  {
   "cell_type": "code",
   "execution_count": 73,
   "metadata": {},
   "outputs": [
    {
     "data": {
      "text/plain": [
       "[]"
      ]
     },
     "execution_count": 73,
     "metadata": {},
     "output_type": "execute_result"
    }
   ],
   "source": [
    "[n for n in nx.common_neighbors(G,2,4)]"
   ]
  },
  {
   "cell_type": "code",
   "execution_count": null,
   "metadata": {},
   "outputs": [],
   "source": []
  }
 ],
 "metadata": {
  "kernelspec": {
   "display_name": "Python 3",
   "language": "python",
   "name": "python3"
  },
  "language_info": {
   "codemirror_mode": {
    "name": "ipython",
    "version": 3
   },
   "file_extension": ".py",
   "mimetype": "text/x-python",
   "name": "python",
   "nbconvert_exporter": "python",
   "pygments_lexer": "ipython3",
   "version": "3.9.5"
  }
 },
 "nbformat": 4,
 "nbformat_minor": 2
}
