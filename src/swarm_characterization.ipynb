{
 "cells": [
  {
   "cell_type": "code",
   "execution_count": 1,
   "metadata": {},
   "outputs": [],
   "source": [
    "import numpy as np\n",
    "import pandas as pd\n",
    "from tqdm import tqdm\n",
    "\n",
    "import matplotlib.pyplot as plt\n",
    "from mpl_toolkits import mplot3d\n",
    "\n",
    "from swarm_sim import *\n",
    "\n",
    "%matplotlib inline "
   ]
  },
  {
   "cell_type": "markdown",
   "metadata": {},
   "source": [
    "## Load the data and format it as Swarm object"
   ]
  },
  {
   "cell_type": "code",
   "execution_count": 2,
   "metadata": {},
   "outputs": [
    {
     "data": {
      "text/html": [
       "<div>\n",
       "<style scoped>\n",
       "    .dataframe tbody tr th:only-of-type {\n",
       "        vertical-align: middle;\n",
       "    }\n",
       "\n",
       "    .dataframe tbody tr th {\n",
       "        vertical-align: top;\n",
       "    }\n",
       "\n",
       "    .dataframe thead th {\n",
       "        text-align: right;\n",
       "    }\n",
       "</style>\n",
       "<table border=\"1\" class=\"dataframe\">\n",
       "  <thead>\n",
       "    <tr style=\"text-align: right;\">\n",
       "      <th></th>\n",
       "      <th>0</th>\n",
       "      <th>1</th>\n",
       "      <th>2</th>\n",
       "      <th>3</th>\n",
       "      <th>4</th>\n",
       "      <th>5</th>\n",
       "      <th>6</th>\n",
       "      <th>7</th>\n",
       "      <th>8</th>\n",
       "      <th>9</th>\n",
       "      <th>...</th>\n",
       "      <th>9990</th>\n",
       "      <th>9991</th>\n",
       "      <th>9992</th>\n",
       "      <th>9993</th>\n",
       "      <th>9994</th>\n",
       "      <th>9995</th>\n",
       "      <th>9996</th>\n",
       "      <th>9997</th>\n",
       "      <th>9998</th>\n",
       "      <th>9999</th>\n",
       "    </tr>\n",
       "    <tr>\n",
       "      <th>coords</th>\n",
       "      <th></th>\n",
       "      <th></th>\n",
       "      <th></th>\n",
       "      <th></th>\n",
       "      <th></th>\n",
       "      <th></th>\n",
       "      <th></th>\n",
       "      <th></th>\n",
       "      <th></th>\n",
       "      <th></th>\n",
       "      <th></th>\n",
       "      <th></th>\n",
       "      <th></th>\n",
       "      <th></th>\n",
       "      <th></th>\n",
       "      <th></th>\n",
       "      <th></th>\n",
       "      <th></th>\n",
       "      <th></th>\n",
       "      <th></th>\n",
       "      <th></th>\n",
       "    </tr>\n",
       "  </thead>\n",
       "  <tbody>\n",
       "    <tr>\n",
       "      <th>x</th>\n",
       "      <td>-4.850747e+05</td>\n",
       "      <td>-4.937755e+05</td>\n",
       "      <td>-5.024536e+05</td>\n",
       "      <td>-5.111086e+05</td>\n",
       "      <td>-5.197401e+05</td>\n",
       "      <td>-5.283476e+05</td>\n",
       "      <td>-5.369309e+05</td>\n",
       "      <td>-5.454894e+05</td>\n",
       "      <td>-5.540229e+05</td>\n",
       "      <td>-5.625310e+05</td>\n",
       "      <td>...</td>\n",
       "      <td>1.490967e+06</td>\n",
       "      <td>1.494274e+06</td>\n",
       "      <td>1.497573e+06</td>\n",
       "      <td>1.500865e+06</td>\n",
       "      <td>1.504149e+06</td>\n",
       "      <td>1.507425e+06</td>\n",
       "      <td>1.510693e+06</td>\n",
       "      <td>1.513954e+06</td>\n",
       "      <td>1.517206e+06</td>\n",
       "      <td>1.520451e+06</td>\n",
       "    </tr>\n",
       "    <tr>\n",
       "      <th>y</th>\n",
       "      <td>-7.066530e+05</td>\n",
       "      <td>-7.201117e+05</td>\n",
       "      <td>-7.335372e+05</td>\n",
       "      <td>-7.469290e+05</td>\n",
       "      <td>-7.602864e+05</td>\n",
       "      <td>-7.736088e+05</td>\n",
       "      <td>-7.868957e+05</td>\n",
       "      <td>-8.001464e+05</td>\n",
       "      <td>-8.133603e+05</td>\n",
       "      <td>-8.265368e+05</td>\n",
       "      <td>...</td>\n",
       "      <td>2.218138e+06</td>\n",
       "      <td>2.223313e+06</td>\n",
       "      <td>2.228477e+06</td>\n",
       "      <td>2.233629e+06</td>\n",
       "      <td>2.238769e+06</td>\n",
       "      <td>2.243898e+06</td>\n",
       "      <td>2.249015e+06</td>\n",
       "      <td>2.254120e+06</td>\n",
       "      <td>2.259214e+06</td>\n",
       "      <td>2.264296e+06</td>\n",
       "    </tr>\n",
       "    <tr>\n",
       "      <th>z</th>\n",
       "      <td>-2.026363e+06</td>\n",
       "      <td>-2.019625e+06</td>\n",
       "      <td>-2.012795e+06</td>\n",
       "      <td>-2.005871e+06</td>\n",
       "      <td>-1.998855e+06</td>\n",
       "      <td>-1.991747e+06</td>\n",
       "      <td>-1.984548e+06</td>\n",
       "      <td>-1.977257e+06</td>\n",
       "      <td>-1.969876e+06</td>\n",
       "      <td>-1.962403e+06</td>\n",
       "      <td>...</td>\n",
       "      <td>3.692429e+06</td>\n",
       "      <td>3.686602e+06</td>\n",
       "      <td>3.680756e+06</td>\n",
       "      <td>3.674890e+06</td>\n",
       "      <td>3.669006e+06</td>\n",
       "      <td>3.663103e+06</td>\n",
       "      <td>3.657180e+06</td>\n",
       "      <td>3.651239e+06</td>\n",
       "      <td>3.645278e+06</td>\n",
       "      <td>3.639299e+06</td>\n",
       "    </tr>\n",
       "  </tbody>\n",
       "</table>\n",
       "<p>3 rows × 10000 columns</p>\n",
       "</div>"
      ],
      "text/plain": [
       "                   0             1             2             3             4  \\\n",
       "coords                                                                         \n",
       "x      -4.850747e+05 -4.937755e+05 -5.024536e+05 -5.111086e+05 -5.197401e+05   \n",
       "y      -7.066530e+05 -7.201117e+05 -7.335372e+05 -7.469290e+05 -7.602864e+05   \n",
       "z      -2.026363e+06 -2.019625e+06 -2.012795e+06 -2.005871e+06 -1.998855e+06   \n",
       "\n",
       "                   5             6             7             8             9  \\\n",
       "coords                                                                         \n",
       "x      -5.283476e+05 -5.369309e+05 -5.454894e+05 -5.540229e+05 -5.625310e+05   \n",
       "y      -7.736088e+05 -7.868957e+05 -8.001464e+05 -8.133603e+05 -8.265368e+05   \n",
       "z      -1.991747e+06 -1.984548e+06 -1.977257e+06 -1.969876e+06 -1.962403e+06   \n",
       "\n",
       "        ...          9990          9991          9992          9993  \\\n",
       "coords  ...                                                           \n",
       "x       ...  1.490967e+06  1.494274e+06  1.497573e+06  1.500865e+06   \n",
       "y       ...  2.218138e+06  2.223313e+06  2.228477e+06  2.233629e+06   \n",
       "z       ...  3.692429e+06  3.686602e+06  3.680756e+06  3.674890e+06   \n",
       "\n",
       "                9994          9995          9996          9997          9998  \\\n",
       "coords                                                                         \n",
       "x       1.504149e+06  1.507425e+06  1.510693e+06  1.513954e+06  1.517206e+06   \n",
       "y       2.238769e+06  2.243898e+06  2.249015e+06  2.254120e+06  2.259214e+06   \n",
       "z       3.669006e+06  3.663103e+06  3.657180e+06  3.651239e+06  3.645278e+06   \n",
       "\n",
       "                9999  \n",
       "coords                \n",
       "x       1.520451e+06  \n",
       "y       2.264296e+06  \n",
       "z       3.639299e+06  \n",
       "\n",
       "[3 rows x 10000 columns]"
      ]
     },
     "execution_count": 2,
     "metadata": {},
     "output_type": "execute_result"
    }
   ],
   "source": [
    "PATH = '..\\data\\Traces_Nanosatellites\\\\track_'\n",
    "satellites = {}\n",
    "\n",
    "for i in range(0,100):\n",
    "    df = pd.read_csv(PATH+str(i)+'.csv', sep=',', header=0)\n",
    "    df['coords'] = ['x','y','z']\n",
    "    satellites[i] = df.set_index('coords', drop=True)\n",
    "    \n",
    "DURATION = satellites[0].columns.tolist()\n",
    "CHUNKS = 2000     # Number of timestamps to analyse\n",
    "NB_NODES = 100\n",
    "\n",
    "satellites[0].head()"
   ]
  },
  {
   "cell_type": "code",
   "execution_count": 3,
   "metadata": {},
   "outputs": [
    {
     "name": "stderr",
     "output_type": "stream",
     "text": [
      "Converting to Swarm: 100%|██████████| 10000/10000 [01:18<00:00, 127.26it/s]"
     ]
    },
    {
     "name": "stdout",
     "output_type": "stream",
     "text": [
      "Swarm of 100 node(s), connection range: 50000\n"
     ]
    },
    {
     "name": "stderr",
     "output_type": "stream",
     "text": [
      "\n"
     ]
    }
   ],
   "source": [
    "CONNECTION_RANGE = 40000\n",
    "swarm_data = {}\n",
    "\n",
    "with tqdm(total = len(DURATION), desc = 'Converting to Swarm') as pbar:\n",
    "    for t in DURATION:\n",
    "        swarm_data[int(t)] = Swarm(\n",
    "            connection_range=CONNECTION_RANGE, \n",
    "            nodes=[Node(id, node[t].x, node[t].y, node[t].z) for id,node in satellites.items()]\n",
    "            )\n",
    "        pbar.update(1)\n",
    "\n",
    "print(swarm_data[0])"
   ]
  },
  {
   "cell_type": "code",
   "execution_count": 4,
   "metadata": {},
   "outputs": [],
   "source": [
    "swarm_chunk = {}\n",
    "for t in range(CHUNKS):\n",
    "    swarm_chunk[t] = swarm_data[t]"
   ]
  },
  {
   "cell_type": "markdown",
   "metadata": {},
   "source": [
    "### Compute node degree distribution & evolution over the whole duration (optional)"
   ]
  },
  {
   "cell_type": "code",
   "execution_count": 32,
   "metadata": {},
   "outputs": [
    {
     "name": "stderr",
     "output_type": "stream",
     "text": [
      "Neighbor Discovery: 100%|██████████| 10000/10000 [02:26<00:00, 68.05it/s]\n",
      "Neighbor Discovery: 100%|██████████| 10000/10000 [03:36<00:00, 46.23it/s]\n",
      "Neighbor Discovery: 100%|██████████| 10000/10000 [03:43<00:00, 44.72it/s]\n"
     ]
    }
   ],
   "source": [
    "CR = [20000,40000,60000]\n",
    "\n",
    "degree_range = {}\n",
    "for c in CR:\n",
    "    swarm_degree = []  \n",
    "    with tqdm(total=len(DURATION), desc='Neighbor Discovery') as pbar:\n",
    "        for t,swarm in swarm_data.items():\n",
    "            neighbor_matrix = swarm.neighbor_matrix(c)\n",
    "            #swarm_degree.append(np.mean(swarm.degree()))  # If you want to plot the avg degree evolution with time\n",
    "            swarm_degree.extend(swarm.degree())  # Uncomment if you want to plot the boxplots of degree distribution\n",
    "            pbar.update(1)\n",
    "    degree_range[c] = swarm_degree\n",
    "            "
   ]
  },
  {
   "cell_type": "code",
   "execution_count": 43,
   "metadata": {},
   "outputs": [
    {
     "data": {
      "text/plain": [
       "Text(0.5, 0, 'Node degree')"
      ]
     },
     "execution_count": 43,
     "metadata": {},
     "output_type": "execute_result"
    },
    {
     "data": {
      "image/png": "[encoded data removed]",
      "text/plain": [
       "<Figure size 432x288 with 1 Axes>"
      ]
     },
     "metadata": {
      "needs_background": "light"
     },
     "output_type": "display_data"
    }
   ],
   "source": [
    "fig,ax = plt.subplots(figsize=(6,4))\n",
    "\n",
    "bp = ax.boxplot(degree_range.values(), \n",
    "            vert=False, \n",
    "            widths=0.5,\n",
    "            meanline=True, \n",
    "            showmeans=True, \n",
    "            meanprops={'color':'red','ls':'--'}\n",
    "            )\n",
    "ax.legend([bp['medians'][0], bp['means'][0]], ['Median', 'Average'])\n",
    "ax.set_yticklabels([20,40,60]) #degree_range.keys()\n",
    "ax.set_ylabel('Connection range (km)')\n",
    "ax.set_xlabel('Node degree')\n",
    "\n",
    "#fig.suptitle('Node degree distribution')"
   ]
  },
  {
   "cell_type": "code",
   "execution_count": 12,
   "metadata": {},
   "outputs": [
    {
     "data": {
      "text/plain": [
       "Text(0, 0.5, 'Number of neighbors')"
      ]
     },
     "execution_count": 12,
     "metadata": {},
     "output_type": "execute_result"
    },
    {
     "data": {
      "image/png": "[encoded data removed]",
      "text/plain": [
       "<Figure size 432x360 with 1 Axes>"
      ]
     },
     "metadata": {
      "needs_background": "light"
     },
     "output_type": "display_data"
    }
   ],
   "source": [
    "idx = np.arange(0,100000,10)\n",
    "\n",
    "plt.figure(figsize=(6,5))\n",
    "plt.plot(idx, degree_range[CR[0]], label='20 km', c='blue')\n",
    "plt.plot(idx, degree_range[CR[1]], label='40 km', c='green')\n",
    "plt.plot(idx, degree_range[CR[2]], label='60 km', c='red')\n",
    "plt.legend(loc='upper right')\n",
    "plt.xlabel('Time (s)')\n",
    "plt.ylabel('Number of neighbors')\n",
    "#plt.title('Average node degree evolution with time')"
   ]
  },
  {
   "cell_type": "markdown",
   "metadata": {},
   "source": [
    "## Neighbor discovery on smaller chunk of data"
   ]
  },
  {
   "cell_type": "code",
   "execution_count": 13,
   "metadata": {},
   "outputs": [],
   "source": [
    "def compute_neighbor_matrix(swarm_chunk, connection_range=None):\n",
    "    neighbor_matrix = {}\n",
    "    with tqdm(total=CHUNKS, desc='Computing Neighbor matrix') as pbar:\n",
    "        for t,swarm in swarm_chunk.items():\n",
    "            neighbor_matrix[t] = swarm.neighbor_matrix(connection_range)\n",
    "            pbar.update(1)\n",
    "    return neighbor_matrix\n",
    "\n",
    "def compute_swarm_degree(swarm_chunk):\n",
    "    swarm_degree = {}\n",
    "    with tqdm(total=CHUNKS, desc='Computing Swarm degree') as pbar:    \n",
    "        for t,swarm in swarm_chunk.items():\n",
    "            swarm_degree[t] = swarm.degree()\n",
    "            pbar.update(1)\n",
    "    return swarm_degree\n",
    "\n",
    "def init_network(swarm_chunk, cr=None):\n",
    "    if not cr:\n",
    "        cr = swarm_chunk[0].connection_range\n",
    "    print('\\nConnection range:', cr)\n",
    "    neighbor_matrix = compute_neighbor_matrix(swarm_chunk, connection_range=cr)\n",
    "    swarm_degree = compute_swarm_degree(swarm_chunk)\n",
    "    sum_data = [e for t in swarm_degree.keys() for e in swarm_degree[t]]\n",
    "    print('Minimum number of neighbors:', np.min(sum_data))\n",
    "    print('Maximum number of neighbors:', np.max(sum_data))\n",
    "    print('Average number of neighbors:', np.mean(sum_data))\n",
    "    node_ict = []\n",
    "    for i in range(NB_NODES):\n",
    "        node_data = [swarm_degree[t][i] for t in swarm_degree.keys()]\n",
    "        node_ict.append(node_data.count(0) / float(CHUNKS)*100)\n",
    "    mean_ict = np.mean(node_ict)\n",
    "    print('Mean inter-contact time:', mean_ict)\n",
    "\n",
    "def compute_swarm_kvicinity(swarm_chunk, depth=1):\n",
    "    swarm_kv = {}\n",
    "    with tqdm(total=CHUNKS, desc=f'Computing Swarm k-vicinity (depth {depth})') as pbar:    \n",
    "        for t,swarm in swarm_chunk.items():\n",
    "            swarm_kv[t] = swarm.k_vicinity(depth)\n",
    "            pbar.update(1)\n",
    "    return swarm_kv\n",
    "\n",
    "def avg_kvicinity(swarm_chunk, depth=1):\n",
    "    swarm_kv = compute_swarm_kvicinity(swarm_chunk, depth)\n",
    "    avg_kv = {}\n",
    "    for i in range(NB_NODES):\n",
    "        avg_kv[i] = np.mean([swarm_kv[t][i] for t in swarm_kv.keys()])\n",
    "    return avg_kv\n",
    "            "
   ]
  },
  {
   "cell_type": "code",
   "execution_count": 15,
   "metadata": {},
   "outputs": [
    {
     "name": "stdout",
     "output_type": "stream",
     "text": [
      "\n",
      "Connection range: 40000\n"
     ]
    },
    {
     "name": "stderr",
     "output_type": "stream",
     "text": [
      "Computing Neighbor matrix: 100%|██████████| 2000/2000 [00:21<00:00, 92.43it/s] \n",
      "Computing Swarm degree: 100%|██████████| 2000/2000 [00:00<00:00, 26604.74it/s]\n"
     ]
    },
    {
     "name": "stdout",
     "output_type": "stream",
     "text": [
      "Minimum number of neighbors: 0\n",
      "Maximum number of neighbors: 43\n",
      "Average number of neighbors: 16.07877\n",
      "Mean inter-contact time: 3.6914999999999996\n"
     ]
    }
   ],
   "source": [
    "init_network(swarm_chunk, cr=40000)"
   ]
  },
  {
   "cell_type": "code",
   "execution_count": 17,
   "metadata": {},
   "outputs": [
    {
     "name": "stderr",
     "output_type": "stream",
     "text": [
      "Computing Swarm k-vicinity (depth 1): 100%|██████████| 2000/2000 [00:00<00:00, 5090.15it/s]\n",
      "Computing Swarm k-vicinity (depth 2): 100%|██████████| 2000/2000 [00:04<00:00, 407.34it/s]\n",
      "Computing Swarm k-vicinity (depth 3): 100%|██████████| 2000/2000 [02:27<00:00, 13.56it/s]\n"
     ]
    }
   ],
   "source": [
    "k_vicinities= {}\n",
    "for i in range(1,4):\n",
    "    k_vicinities[i] = avg_kvicinity(swarm_chunk, depth=i)"
   ]
  },
  {
   "cell_type": "code",
   "execution_count": 24,
   "metadata": {},
   "outputs": [
    {
     "data": {
      "text/plain": [
       "Text(0, 0.5, 'K-vicinity')"
      ]
     },
     "execution_count": 24,
     "metadata": {},
     "output_type": "execute_result"
    },
    {
     "data": {
      "image/png": "[encoded data removed]",
      "text/plain": [
       "<Figure size 432x432 with 1 Axes>"
      ]
     },
     "metadata": {
      "needs_background": "light"
     },
     "output_type": "display_data"
    }
   ],
   "source": [
    "plt.figure(figsize=(6,6))\n",
    "idx = list(k_vicinities[1].values()) # Degree\n",
    "colors = {1:'blue',2:'green',3:'red'}\n",
    "for k,v in k_vicinities.items():\n",
    "    plt.scatter(idx, list(v.values()), c=colors[k], lw=1, label='k='+str(k))\n",
    "plt.legend(loc='upper left')\n",
    "plt.xlabel('Node degree')\n",
    "plt.ylabel('K-vicinity')\n",
    "#plt.title('Evolution of k-vicinity in function of node degree')"
   ]
  },
  {
   "cell_type": "code",
   "execution_count": 6,
   "metadata": {},
   "outputs": [
    {
     "name": "stdout",
     "output_type": "stream",
     "text": [
      "\n",
      "Connection range: 40000\n"
     ]
    },
    {
     "name": "stderr",
     "output_type": "stream",
     "text": [
      "Computing Neighbor matrix: 100%|██████████| 2000/2000 [00:20<00:00, 96.23it/s] \n",
      "Computing Swarm degree: 100%|██████████| 2000/2000 [00:00<00:00, 20880.22it/s]\n"
     ]
    },
    {
     "name": "stdout",
     "output_type": "stream",
     "text": [
      "Minimum number of neighbors: 0\n",
      "Maximum number of neighbors: 43\n",
      "Average number of neighbors: 16.07877\n",
      "Mean inter-contact time: 3.6914999999999996\n"
     ]
    }
   ],
   "source": [
    "# Thorough analysis, optional\n",
    "\n",
    "ranges = [60000,50000,40000,30000,20000,15000,10000]\n",
    "swarm_ict = {}\n",
    "swarm_neigh = {}\n",
    "for cr in ranges:\n",
    "    print('\\nConnection range:', cr)\n",
    "    neighbor_matrix = compute_neighbor_matrix(swarm_chunk, connection_range=cr)\n",
    "    swarm_degree = compute_swarm_degree(swarm_chunk)\n",
    "    sum_data = [e for t in swarm_degree.keys() for e in swarm_degree[t]]\n",
    "    print('Minimum number of neighbors:', np.min(sum_data))\n",
    "    print('Maximum number of neighbors:', np.max(sum_data))\n",
    "    print('Average number of neighbors:', np.mean(sum_data))\n",
    "    swarm_neigh[cr] = (np.min(sum_data), np.max(sum_data), np.mean(sum_data))\n",
    "    node_ict = []\n",
    "    for i in range(NB_NODES):\n",
    "        node_data = [swarm_degree[t][i] for t in swarm_degree.keys()]\n",
    "        node_ict.append(node_data.count(0) / float(CHUNKS)*100)\n",
    "    mean_ict = np.mean(node_ict)\n",
    "    print('Mean inter-contact time:', mean_ict)\n",
    "    swarm_ict[cr] = mean_ict"
   ]
  },
  {
   "cell_type": "markdown",
   "metadata": {},
   "source": [
    "# Network characterization"
   ]
  },
  {
   "cell_type": "markdown",
   "metadata": {},
   "source": [
    "## 1. Intercontact time and disponibility"
   ]
  },
  {
   "cell_type": "code",
   "execution_count": 26,
   "metadata": {},
   "outputs": [],
   "source": [
    "def pairwise_dispo(neighbor_matrix):\n",
    "    dispos = {} # (n1,n2):avg_dispo (%)\n",
    "    for n1 in range(NB_NODES):\n",
    "        pairs = [set(pair) for pair in dispos.keys()]\n",
    "        for n2 in range(NB_NODES):\n",
    "            if n1 != n2 and set([n1,n2]) not in pairs:\n",
    "                pair_dispo = [neighbor_matrix[t][n1][n2] for t in neighbor_matrix.keys()]\n",
    "                dispos[(n1,n2)] = np.mean(pair_dispo)*100\n",
    "    return dispos    \n",
    "\n",
    "def pairwise_ict(neighbor_matrix):\n",
    "    ict = {} # (n1,n2):avg_ict (%)\n",
    "    for n1 in range(NB_NODES):\n",
    "        pairs = [set(pair) for pair in ict.keys()]\n",
    "        for n2 in range(NB_NODES):\n",
    "            if n1 != n2 and set([n1,n2]) not in pairs:\n",
    "                pair_ict = [neighbor_matrix[t][n1][n2] for t in neighbor_matrix.keys()]\n",
    "                ict[(n1,n2)] = (1-np.mean(pair_ict))*100\n",
    "    return ict    \n",
    "            "
   ]
  },
  {
   "cell_type": "code",
   "execution_count": 28,
   "metadata": {},
   "outputs": [
    {
     "name": "stderr",
     "output_type": "stream",
     "text": [
      "Computing Neighbor matrix: 100%|██████████| 2000/2000 [00:20<00:00, 95.28it/s] \n"
     ]
    }
   ],
   "source": [
    "matrix = compute_neighbor_matrix(swarm_chunk, connection_range=CONNECTION_RANGE)"
   ]
  },
  {
   "cell_type": "code",
   "execution_count": 43,
   "metadata": {},
   "outputs": [
    {
     "data": {
      "text/plain": [
       "Text(0.5, 1.0, 'Average disponibility for each pair of nodes (range=40.0 km)')"
      ]
     },
     "execution_count": 43,
     "metadata": {},
     "output_type": "execute_result"
    },
    {
     "data": {
      "image/png": "[encoded data removed]",
      "text/plain": [
       "<Figure size 576x576 with 1 Axes>"
      ]
     },
     "metadata": {
      "needs_background": "light"
     },
     "output_type": "display_data"
    }
   ],
   "source": [
    "dispos = pairwise_dispo(matrix)\n",
    "pair_dispo = sorted(dispos.values(), reverse=True)\n",
    "cr = CONNECTION_RANGE/1000\n",
    "\n",
    "plt.figure(figsize=(8,8))\n",
    "plt.plot(pair_dispo)\n",
    "plt.xlabel('Pair ID')\n",
    "plt.ylabel('Disponibility (%)')\n",
    "plt.title(f'Average disponibility for each pair of nodes (range={cr} km)')"
   ]
  },
  {
   "cell_type": "code",
   "execution_count": 29,
   "metadata": {},
   "outputs": [],
   "source": [
    "ict = pairwise_ict(matrix)"
   ]
  },
  {
   "cell_type": "code",
   "execution_count": 31,
   "metadata": {},
   "outputs": [
    {
     "data": {
      "image/png": "[encoded data removed]",
      "text/plain": [
       "<Figure size 432x360 with 2 Axes>"
      ]
     },
     "metadata": {
      "needs_background": "light"
     },
     "output_type": "display_data"
    }
   ],
   "source": [
    "cr = CONNECTION_RANGE/1000\n",
    "count, bins_count = np.histogram(list(ict.values()), bins=50)\n",
    "pdf = count / sum(count)\n",
    "cdf = np.cumsum(pdf)\n",
    "\n",
    "fig, ax1 = plt.subplots(figsize=(6,5))\n",
    "\n",
    "ax1.hist(ict.values(), bins=50)\n",
    "ax1.set_ylabel('Number of pairs', color='blue')\n",
    "ax1.set_xlabel('ICT (%)')\n",
    "ax1.tick_params(axis='y', labelcolor='blue')\n",
    "\n",
    "ax2 = ax1.twinx()\n",
    "ax2.plot(bins_count[1:], cdf, color='red', lw=2)\n",
    "ax2.set_ylabel('CDF', color='red')\n",
    "ax2.tick_params(axis='y', labelcolor='red')\n",
    "\n",
    "#fig.suptitle(f'Average ICT distribution for each pair of nodes (range={cr} km)')\n",
    "fig.tight_layout()"
   ]
  },
  {
   "cell_type": "markdown",
   "metadata": {},
   "source": [
    "## 2. Peer-to-peer distances"
   ]
  },
  {
   "cell_type": "code",
   "execution_count": 13,
   "metadata": {},
   "outputs": [],
   "source": [
    "def compute_distance_matrix(swarm_chunk):\n",
    "    distance_matrix = {}\n",
    "    with tqdm(total=CHUNKS, desc='Computing Distance matrix') as pbar:\n",
    "        for t,swarm in swarm_chunk.items():\n",
    "            distance_matrix[t] = swarm.distance_matrix()\n",
    "            pbar.update(1)\n",
    "    return distance_matrix\n"
   ]
  },
  {
   "cell_type": "code",
   "execution_count": 14,
   "metadata": {},
   "outputs": [
    {
     "name": "stderr",
     "output_type": "stream",
     "text": [
      "Computing Distance matrix: 100%|██████████| 2000/2000 [00:11<00:00, 173.42it/s]\n"
     ]
    }
   ],
   "source": [
    "dm = compute_distance_matrix(swarm_chunk)"
   ]
  },
  {
   "cell_type": "code",
   "execution_count": 24,
   "metadata": {},
   "outputs": [],
   "source": [
    "distance_data = [e for data in dm.values() for node in data for e in node]"
   ]
  },
  {
   "cell_type": "code",
   "execution_count": 29,
   "metadata": {},
   "outputs": [
    {
     "data": {
      "text/plain": [
       "Text(0.5, 1.0, 'Peer-to-peer distance distribution')"
      ]
     },
     "execution_count": 29,
     "metadata": {},
     "output_type": "execute_result"
    },
    {
     "data": {
      "image/png": "[encoded data removed]",
      "text/plain": [
       "<Figure size 576x576 with 1 Axes>"
      ]
     },
     "metadata": {
      "needs_background": "light"
     },
     "output_type": "display_data"
    }
   ],
   "source": [
    "plt.figure(figsize=(8,8))\n",
    "plt.hist(distance_data, bins=50)\n",
    "plt.xlabel('Distance (m)')\n",
    "plt.ylabel('Occurrences')\n",
    "plt.title(f'Peer-to-peer distance distribution')\n"
   ]
  },
  {
   "cell_type": "code",
   "execution_count": 28,
   "metadata": {},
   "outputs": [
    {
     "data": {
      "text/plain": [
       "Text(0.5, 0.98, 'Peer-to-peer distance distribution')"
      ]
     },
     "execution_count": 28,
     "metadata": {},
     "output_type": "execute_result"
    },
    {
     "data": {
      "image/png": "[encoded data removed]",
      "text/plain": [
       "<Figure size 576x288 with 1 Axes>"
      ]
     },
     "metadata": {
      "needs_background": "light"
     },
     "output_type": "display_data"
    }
   ],
   "source": [
    "fig,ax = plt.subplots(figsize=(8,4))\n",
    "\n",
    "bp = ax.boxplot(distance_data, \n",
    "            vert=False, \n",
    "            meanline=True, \n",
    "            showmeans=True, \n",
    "            meanprops={'color':'red','ls':'--'}\n",
    "            )\n",
    "ax.legend([bp['medians'][0], bp['means'][0]], ['Median', 'Average'])\n",
    "ax.set_xlabel('Distance (m)')\n",
    "\n",
    "fig.suptitle('Peer-to-peer distance distribution')"
   ]
  },
  {
   "cell_type": "code",
   "execution_count": null,
   "metadata": {},
   "outputs": [],
   "source": []
  }
 ],
 "metadata": {
  "interpreter": {
   "hash": "fabac4be5ddfa66276fe4b2acbae4ca25d6571431ce31aeaf6ac518660da40d5"
  },
  "kernelspec": {
   "display_name": "Python 3.10.0 64-bit",
   "language": "python",
   "name": "python3"
  },
  "language_info": {
   "codemirror_mode": {
    "name": "ipython",
    "version": 3
   },
   "file_extension": ".py",
   "mimetype": "text/x-python",
   "name": "python",
   "nbconvert_exporter": "python",
   "pygments_lexer": "ipython3",
   "version": "3.10.0"
  },
  "orig_nbformat": 4
 },
 "nbformat": 4,
 "nbformat_minor": 2
}
