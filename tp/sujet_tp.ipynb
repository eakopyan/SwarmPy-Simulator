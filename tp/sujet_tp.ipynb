{
 "cells": [
  {
   "cell_type": "markdown",
   "metadata": {},
   "source": [
    "Fonctions à faire : \n",
    "- animation de graphe\n",
    "- k-vicinity\n",
    "- donner l'algo de MDRW (ou autre) et faire faire la fonction\n",
    "\n",
    "Interpréter les résultats des figures\n",
    "Créer les figures (plot)\n",
    "\n",
    "Aller + loin : créer une version distribuée de MDRW+RNS"
   ]
  },
  {
   "cell_type": "code",
   "execution_count": 1,
   "metadata": {},
   "outputs": [],
   "source": [
    "import numpy as np\n",
    "import pandas as pd\n",
    "from tqdm import tqdm\n",
    "\n",
    "from swarm_sim import *"
   ]
  },
  {
   "cell_type": "markdown",
   "metadata": {},
   "source": [
    "### Chargement des données\n",
    "Rappeler la forme des données et la signification des champs\n",
    "\n",
    "A faire : charger la totalité. Modifier le PATH si nécessaire."
   ]
  },
  {
   "cell_type": "code",
   "execution_count": 5,
   "metadata": {},
   "outputs": [
    {
     "data": {
      "text/html": [
       "<div>\n",
       "<style scoped>\n",
       "    .dataframe tbody tr th:only-of-type {\n",
       "        vertical-align: middle;\n",
       "    }\n",
       "\n",
       "    .dataframe tbody tr th {\n",
       "        vertical-align: top;\n",
       "    }\n",
       "\n",
       "    .dataframe thead th {\n",
       "        text-align: right;\n",
       "    }\n",
       "</style>\n",
       "<table border=\"1\" class=\"dataframe\">\n",
       "  <thead>\n",
       "    <tr style=\"text-align: right;\">\n",
       "      <th></th>\n",
       "      <th>0</th>\n",
       "      <th>1</th>\n",
       "      <th>2</th>\n",
       "      <th>3</th>\n",
       "      <th>4</th>\n",
       "      <th>5</th>\n",
       "      <th>6</th>\n",
       "      <th>7</th>\n",
       "      <th>8</th>\n",
       "      <th>9</th>\n",
       "      <th>...</th>\n",
       "      <th>9990</th>\n",
       "      <th>9991</th>\n",
       "      <th>9992</th>\n",
       "      <th>9993</th>\n",
       "      <th>9994</th>\n",
       "      <th>9995</th>\n",
       "      <th>9996</th>\n",
       "      <th>9997</th>\n",
       "      <th>9998</th>\n",
       "      <th>9999</th>\n",
       "    </tr>\n",
       "    <tr>\n",
       "      <th>coords</th>\n",
       "      <th></th>\n",
       "      <th></th>\n",
       "      <th></th>\n",
       "      <th></th>\n",
       "      <th></th>\n",
       "      <th></th>\n",
       "      <th></th>\n",
       "      <th></th>\n",
       "      <th></th>\n",
       "      <th></th>\n",
       "      <th></th>\n",
       "      <th></th>\n",
       "      <th></th>\n",
       "      <th></th>\n",
       "      <th></th>\n",
       "      <th></th>\n",
       "      <th></th>\n",
       "      <th></th>\n",
       "      <th></th>\n",
       "      <th></th>\n",
       "      <th></th>\n",
       "    </tr>\n",
       "  </thead>\n",
       "  <tbody>\n",
       "    <tr>\n",
       "      <th>x</th>\n",
       "      <td>-4.850747e+05</td>\n",
       "      <td>-4.937755e+05</td>\n",
       "      <td>-5.024536e+05</td>\n",
       "      <td>-5.111086e+05</td>\n",
       "      <td>-5.197401e+05</td>\n",
       "      <td>-5.283476e+05</td>\n",
       "      <td>-5.369309e+05</td>\n",
       "      <td>-5.454894e+05</td>\n",
       "      <td>-5.540229e+05</td>\n",
       "      <td>-5.625310e+05</td>\n",
       "      <td>...</td>\n",
       "      <td>1.490967e+06</td>\n",
       "      <td>1.494274e+06</td>\n",
       "      <td>1.497573e+06</td>\n",
       "      <td>1.500865e+06</td>\n",
       "      <td>1.504149e+06</td>\n",
       "      <td>1.507425e+06</td>\n",
       "      <td>1.510693e+06</td>\n",
       "      <td>1.513954e+06</td>\n",
       "      <td>1.517206e+06</td>\n",
       "      <td>1.520451e+06</td>\n",
       "    </tr>\n",
       "    <tr>\n",
       "      <th>y</th>\n",
       "      <td>-7.066530e+05</td>\n",
       "      <td>-7.201117e+05</td>\n",
       "      <td>-7.335372e+05</td>\n",
       "      <td>-7.469290e+05</td>\n",
       "      <td>-7.602864e+05</td>\n",
       "      <td>-7.736088e+05</td>\n",
       "      <td>-7.868957e+05</td>\n",
       "      <td>-8.001464e+05</td>\n",
       "      <td>-8.133603e+05</td>\n",
       "      <td>-8.265368e+05</td>\n",
       "      <td>...</td>\n",
       "      <td>2.218138e+06</td>\n",
       "      <td>2.223313e+06</td>\n",
       "      <td>2.228477e+06</td>\n",
       "      <td>2.233629e+06</td>\n",
       "      <td>2.238769e+06</td>\n",
       "      <td>2.243898e+06</td>\n",
       "      <td>2.249015e+06</td>\n",
       "      <td>2.254120e+06</td>\n",
       "      <td>2.259214e+06</td>\n",
       "      <td>2.264296e+06</td>\n",
       "    </tr>\n",
       "    <tr>\n",
       "      <th>z</th>\n",
       "      <td>-2.026363e+06</td>\n",
       "      <td>-2.019625e+06</td>\n",
       "      <td>-2.012795e+06</td>\n",
       "      <td>-2.005871e+06</td>\n",
       "      <td>-1.998855e+06</td>\n",
       "      <td>-1.991747e+06</td>\n",
       "      <td>-1.984548e+06</td>\n",
       "      <td>-1.977257e+06</td>\n",
       "      <td>-1.969876e+06</td>\n",
       "      <td>-1.962403e+06</td>\n",
       "      <td>...</td>\n",
       "      <td>3.692429e+06</td>\n",
       "      <td>3.686602e+06</td>\n",
       "      <td>3.680756e+06</td>\n",
       "      <td>3.674890e+06</td>\n",
       "      <td>3.669006e+06</td>\n",
       "      <td>3.663103e+06</td>\n",
       "      <td>3.657180e+06</td>\n",
       "      <td>3.651239e+06</td>\n",
       "      <td>3.645278e+06</td>\n",
       "      <td>3.639299e+06</td>\n",
       "    </tr>\n",
       "  </tbody>\n",
       "</table>\n",
       "<p>3 rows × 10000 columns</p>\n",
       "</div>"
      ],
      "text/plain": [
       "                   0             1             2             3             4  \\\n",
       "coords                                                                         \n",
       "x      -4.850747e+05 -4.937755e+05 -5.024536e+05 -5.111086e+05 -5.197401e+05   \n",
       "y      -7.066530e+05 -7.201117e+05 -7.335372e+05 -7.469290e+05 -7.602864e+05   \n",
       "z      -2.026363e+06 -2.019625e+06 -2.012795e+06 -2.005871e+06 -1.998855e+06   \n",
       "\n",
       "                   5             6             7             8             9  \\\n",
       "coords                                                                         \n",
       "x      -5.283476e+05 -5.369309e+05 -5.454894e+05 -5.540229e+05 -5.625310e+05   \n",
       "y      -7.736088e+05 -7.868957e+05 -8.001464e+05 -8.133603e+05 -8.265368e+05   \n",
       "z      -1.991747e+06 -1.984548e+06 -1.977257e+06 -1.969876e+06 -1.962403e+06   \n",
       "\n",
       "        ...          9990          9991          9992          9993  \\\n",
       "coords  ...                                                           \n",
       "x       ...  1.490967e+06  1.494274e+06  1.497573e+06  1.500865e+06   \n",
       "y       ...  2.218138e+06  2.223313e+06  2.228477e+06  2.233629e+06   \n",
       "z       ...  3.692429e+06  3.686602e+06  3.680756e+06  3.674890e+06   \n",
       "\n",
       "                9994          9995          9996          9997          9998  \\\n",
       "coords                                                                         \n",
       "x       1.504149e+06  1.507425e+06  1.510693e+06  1.513954e+06  1.517206e+06   \n",
       "y       2.238769e+06  2.243898e+06  2.249015e+06  2.254120e+06  2.259214e+06   \n",
       "z       3.669006e+06  3.663103e+06  3.657180e+06  3.651239e+06  3.645278e+06   \n",
       "\n",
       "                9999  \n",
       "coords                \n",
       "x       1.520451e+06  \n",
       "y       2.264296e+06  \n",
       "z       3.639299e+06  \n",
       "\n",
       "[3 rows x 10000 columns]"
      ]
     },
     "execution_count": 5,
     "metadata": {},
     "output_type": "execute_result"
    }
   ],
   "source": [
    "PATH = '..\\data\\Traces_Nanosatellites\\\\track_0.csv'\n",
    "\n",
    "df = pd.read_csv(PATH, sep=',', header=0)\n",
    "df['coords'] = ['x','y','z']\n",
    "df = df.set_index('coords', drop=True)\n",
    "\n",
    "df"
   ]
  },
  {
   "cell_type": "code",
   "execution_count": null,
   "metadata": {},
   "outputs": [],
   "source": [
    "# A faire\n",
    "\n",
    "\"\"\"\n",
    "NB : le chargement peut être assez long (plusieurs minutes en fonction de la machine).\n",
    "Vous pouvez visualiser la progression du chargement avec la fonction tqdm() qui fonctionne comme suit :\n",
    "\n",
    "with tqdm(total = nb_iterations_max, desc = description) as pbar:\n",
    "    for i in nb_iterations_max:\n",
    "        # do something\n",
    "        pbar.update(1)\n",
    "\"\"\""
   ]
  },
  {
   "cell_type": "markdown",
   "metadata": {},
   "source": [
    "Travailler avec une portée de connexion de 30 km"
   ]
  },
  {
   "cell_type": "code",
   "execution_count": 6,
   "metadata": {},
   "outputs": [],
   "source": [
    "CONNECTION_RANGE = 30000"
   ]
  },
  {
   "cell_type": "markdown",
   "metadata": {},
   "source": [
    "Convertir les données en objets Swarm (lire la doc pour le formattage).\n",
    "\n",
    "Afin de faciliter la suite du traitement, pensez à créer un objet Swarm par pas de temps et les stocker dans un dictionnaire tel que :\n",
    "\n",
    "dict_swarm[timestamp] = Swarm"
   ]
  },
  {
   "cell_type": "code",
   "execution_count": null,
   "metadata": {},
   "outputs": [],
   "source": [
    "help(Swarm.__init__)"
   ]
  },
  {
   "cell_type": "code",
   "execution_count": 7,
   "metadata": {},
   "outputs": [],
   "source": [
    "# A faire\n",
    "\n",
    "\"\"\" \n",
    "NB : le formattage peut également prendre un peu de temps en fonction de la quantité de données à formatter.\n",
    "N'hésitez pas à utiliser la fonction tqdm() décrite plus haut si vous le souhaitez.\n",
    "\"\"\""
   ]
  },
  {
   "cell_type": "markdown",
   "metadata": {},
   "source": [
    "Afficher le contenu du Swarm ainsi que la description du noeud de votre choix."
   ]
  },
  {
   "cell_type": "code",
   "execution_count": null,
   "metadata": {},
   "outputs": [],
   "source": [
    "# A faire"
   ]
  },
  {
   "cell_type": "markdown",
   "metadata": {},
   "source": [
    "### Visualisation de la topologie\n",
    "Afficher l'essaim à un pas de temps donné, puis à un autre (vous trouverez peut-être la fonction dans le module). \n",
    "\n",
    "Qu'observez-vous au niveau de la topologie ?"
   ]
  },
  {
   "cell_type": "code",
   "execution_count": 12,
   "metadata": {},
   "outputs": [],
   "source": [
    "import matplotlib.pyplot as plt\n",
    "from mpl_toolkits import mplot3d\n",
    "\n",
    "%matplotlib inline "
   ]
  },
  {
   "cell_type": "code",
   "execution_count": 17,
   "metadata": {},
   "outputs": [],
   "source": [
    "# A faire"
   ]
  },
  {
   "cell_type": "markdown",
   "metadata": {},
   "source": [
    "Vous avez sûrement remarqué que la fonction plot_edges() ne fonctionne pas. Pourquoi ?"
   ]
  },
  {
   "cell_type": "code",
   "execution_count": 16,
   "metadata": {},
   "outputs": [],
   "source": [
    "# Réponse"
   ]
  },
  {
   "cell_type": "markdown",
   "metadata": {},
   "source": [
    "Etablissez les connexions entre noeuds voisins grâce à la fonction neighbor_matrix() (plus d'informations sur Swarm.distance_matrix), puis affichez l'état de l'essaim grâce à la fonction plot_edges()."
   ]
  },
  {
   "cell_type": "code",
   "execution_count": 18,
   "metadata": {},
   "outputs": [],
   "source": [
    "# A faire"
   ]
  },
  {
   "cell_type": "markdown",
   "metadata": {},
   "source": [
    "A partir des fonctions disponibles dans le module, créez une fonction plot_trajectory() qui affiche la trajectoire de l'essaim autour de la Lune.\n",
    "\n",
    "Notez que la Lune se situe au point (0,0,0) dans ce système de coordonnées, mais il n'est pas nécessaire de l'afficher.\n"
   ]
  },
  {
   "cell_type": "code",
   "execution_count": 13,
   "metadata": {},
   "outputs": [],
   "source": [
    "# A faire"
   ]
  },
  {
   "cell_type": "markdown",
   "metadata": {},
   "source": [
    "En vous basant sur les coordonnées des noeuds, calculer la période de révolution d'un satellite.\n"
   ]
  },
  {
   "cell_type": "code",
   "execution_count": 14,
   "metadata": {},
   "outputs": [],
   "source": [
    "# A faire"
   ]
  },
  {
   "cell_type": "markdown",
   "metadata": {},
   "source": [
    "Exercice bonus : animer l'évolution de la topologie de l'essaim sur une période de révolution complète."
   ]
  },
  {
   "cell_type": "code",
   "execution_count": 15,
   "metadata": {},
   "outputs": [],
   "source": [
    "from matplotlib.animation import FuncAnimation"
   ]
  },
  {
   "cell_type": "code",
   "execution_count": 19,
   "metadata": {},
   "outputs": [],
   "source": [
    "# A faire"
   ]
  },
  {
   "cell_type": "markdown",
   "metadata": {},
   "source": [
    "### 3. Caractérisation du réseau\n",
    "Nous allons maintenant déterminer les caractéristiques du réseau en calculant certaines métriques. La métrique la plus simple est le degré, soit le nombre de voisins directs d'un noeud.\n",
    "\n",
    "Calculer le degré moyen de l'essaim à l'instant 0, puis calculer l'évolution de ce degré moyen sur une révolution complète. Vérifiez que vous avez bien établi la connexion sur une révolution complète avant !"
   ]
  },
  {
   "cell_type": "code",
   "execution_count": null,
   "metadata": {},
   "outputs": [],
   "source": [
    "help(Swarm.degree)"
   ]
  },
  {
   "cell_type": "code",
   "execution_count": 20,
   "metadata": {},
   "outputs": [],
   "source": [
    "# A faire"
   ]
  },
  {
   "cell_type": "code",
   "execution_count": null,
   "metadata": {},
   "outputs": [],
   "source": []
  }
 ],
 "metadata": {
  "kernelspec": {
   "display_name": "Python 3.9.13 64-bit (microsoft store)",
   "language": "python",
   "name": "python3"
  },
  "language_info": {
   "codemirror_mode": {
    "name": "ipython",
    "version": 3
   },
   "file_extension": ".py",
   "mimetype": "text/x-python",
   "name": "python",
   "nbconvert_exporter": "python",
   "pygments_lexer": "ipython3",
   "version": "3.9.13"
  },
  "orig_nbformat": 4,
  "vscode": {
   "interpreter": {
    "hash": "2ac6d069bff998233dee9bcdfa94e87e94bde565510066770655f86bcf93c541"
   }
  }
 },
 "nbformat": 4,
 "nbformat_minor": 2
}
