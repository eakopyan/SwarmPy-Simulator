{
 "cells": [
  {
   "cell_type": "markdown",
   "metadata": {},
   "source": [
    "# TP : Essaims de nano-satellites\n",
    "Ce TP a pour objectif de vous familiariser davantage avec les topologies d'essaims de nano-satellites en exploitant un jeu de données. Vous verrez notamment qu'on peut extraire énormément d'informations à partir d'un jeu de données simple (ici, positions des satellites par pas de temps). Le TP se déroule en 4 parties :\n",
    "***\n",
    "1. Chargement des données : découverte du jeu de données et formattage pour la suite\n",
    "2. Visualisation de la topologie\n",
    "3. Caractérisation du réseau : calcul de métriques\n",
    "4. Partage de charge : division en sous-réseaux\n",
    "***\n",
    "\n",
    "Nous allons d'abord importer les librairies nécessaires, dont le module de simulation `swarm_sim` disponible dans le dossier `tp`."
   ]
  },
  {
   "cell_type": "code",
   "execution_count": null,
   "metadata": {},
   "outputs": [],
   "source": [
    "import numpy as np\n",
    "import pandas as pd\n",
    "from tqdm import tqdm\n",
    "\n",
    "from swarm_sim import *"
   ]
  },
  {
   "cell_type": "markdown",
   "metadata": {},
   "source": [
    "## 1. Chargement des données\n",
    "Les données sont stockées dans le dossier `data` du repository Git, et sont réparties en 100 traces de nano-satellites sur 10000 échantillons.\n",
    "\n",
    "Ouvrez une trace en exécutant la cellule suivante, et rappelez les champs ainsi que les unités utilisées (n'hésitez pas à revoir le cours, slide 20)."
   ]
  },
  {
   "cell_type": "code",
   "execution_count": null,
   "metadata": {},
   "outputs": [],
   "source": [
    "PATH = '..\\data\\Traces_Nanosatellites\\\\track_0.csv'\n",
    "\n",
    "df = pd.read_csv(PATH, sep=',', header=0)\n",
    "df['coords'] = ['x','y','z']\n",
    "df = df.set_index('coords', drop=True)\n",
    "\n",
    "df"
   ]
  },
  {
   "cell_type": "markdown",
   "metadata": {},
   "source": [
    "Chargez la totalité des données dans ce notebook. Le plus simple est de créer un dictionnaire contenant ces données suivant ce format : \n",
    "\n",
    "`satellites[id] = track`\n",
    "\n",
    "Modifiez les variables `iter_max` et `PATH` si nécessaire."
   ]
  },
  {
   "cell_type": "markdown",
   "metadata": {},
   "source": [
    "*NB : le chargement peut être assez long (plusieurs minutes en fonction de la machine). Vous pouvez visualiser la progression du chargement avec la fonction `tqdm()` qui fonctionne comme suit :*"
   ]
  },
  {
   "cell_type": "code",
   "execution_count": null,
   "metadata": {},
   "outputs": [],
   "source": [
    "NB_NODES = 100\n",
    "iter_max = 1 # Nombre de traces à charger (à modifier)\n",
    "PATH = '..\\data\\Traces_Nanosatellites\\\\track_' # Emplacement des traces dans le dossier\n",
    "\n",
    "\n",
    "satellites = {}\n",
    "\n",
    "with tqdm(total = iter_max, desc = 'Data loading') as pbar:\n",
    "    for i in range(iter_max):\n",
    "        df = pd.read_csv(PATH+str(i)+'.csv', sep=',', header=0)\n",
    "        df['coords'] = ['x','y','z']\n",
    "        satellites[i] = df.set_index('coords', drop=True)\n",
    "        pbar.update(1) # Fonction de mise à jour de la progression\n",
    "        \n",
    "satellites[0].head()"
   ]
  },
  {
   "cell_type": "markdown",
   "metadata": {},
   "source": [
    "Convertissez les données en objets `Swarm` tel que définis dans le module `swarm_sim` (lire la doc pour le formattage).\n",
    "\n",
    "Afin de faciliter la suite du traitement, nous allons créer un objet `Swarm` par pas de temps et les stocker dans un dictionnaire tel que :\n",
    "\n",
    "`dict_swarm[timestamp] = Swarm`\n",
    "\n",
    "*NB : le formattage peut également prendre un peu de temps en fonction de la quantité de données à formatter. N'hésitez pas à utiliser la fonction `tqdm()` décrite plus haut si vous le souhaitez.*"
   ]
  },
  {
   "cell_type": "code",
   "execution_count": null,
   "metadata": {},
   "outputs": [],
   "source": [
    "help(Swarm.__init__)"
   ]
  },
  {
   "cell_type": "code",
   "execution_count": null,
   "metadata": {},
   "outputs": [],
   "source": [
    "CONNECTION_RANGE = 30000 # Nous allons travailler avec une portée de communication fixe de 30 km\n",
    "DURATION = 10000 # Nombre d'échantillons temporels à analyser\n",
    "\n",
    "\n",
    "dict_swarm = {}\n",
    "\n",
    "with tqdm(total=DURATION, desc='Converting to Swarm') as pbar:\n",
    "    for t in range(DURATION):\n",
    "        dict_swarm[t] = Swarm(\n",
    "            connection_range=CONNECTION_RANGE, \n",
    "            nodes=[Node(id, node[str(t)].x, node[str(t)].y, node[str(t)].z) for id,node in satellites.items()]\n",
    "        )\n",
    "        pbar.update(1)"
   ]
  },
  {
   "cell_type": "markdown",
   "metadata": {},
   "source": [
    "Affichez le contenu du `dict_swarm` à l'instant `0`, ainsi que la description d'un noeud de votre choix. Assurez-vous de bien comprendre tous les champs affichés."
   ]
  },
  {
   "cell_type": "code",
   "execution_count": null,
   "metadata": {},
   "outputs": [],
   "source": [
    "swarm = dict_swarm[0]\n",
    "\n",
    "print(swarm)\n",
    "print(swarm.nodes[0])"
   ]
  },
  {
   "cell_type": "markdown",
   "metadata": {},
   "source": [
    "## 2. Visualisation de la topologie\n",
    "Le module `swarm_sim` permet notamment de créer des graphiques 3D représentant les positions des satellites à un instant donné, avec si besoin les ISL (liens inter-satellites) existants. Il s'agit des fonctions `plot_nodes()` et `plot_edges()`.\n",
    "\n",
    "Affichez la topologie de l'essaim à un pas de temps donné, puis à un autre. \n",
    "\n",
    "Qu'observez-vous au niveau de la topologie ?"
   ]
  },
  {
   "cell_type": "code",
   "execution_count": null,
   "metadata": {},
   "outputs": [],
   "source": [
    "dict_swarm[0].plot_nodes()"
   ]
  },
  {
   "cell_type": "markdown",
   "metadata": {},
   "source": [
    "Vous avez sûrement remarqué que la fonction `plot_edges()` ne fonctionne pas, ou du moins elle n'affiche aucune connexion dans l'essaim. Pourquoi ?"
   ]
  },
  {
   "cell_type": "code",
   "execution_count": null,
   "metadata": {},
   "outputs": [],
   "source": [
    "\"\"\" \n",
    "Réponse\n",
    "\"\"\""
   ]
  },
  {
   "cell_type": "markdown",
   "metadata": {},
   "source": [
    "Etablissez les connexions entre noeuds voisins grâce à la fonction `neighbor_matrix()` (regardez la doc), puis affichez la topologie de l'essaim grâce à la fonction `plot_edges()`."
   ]
  },
  {
   "cell_type": "code",
   "execution_count": null,
   "metadata": {},
   "outputs": [],
   "source": [
    "help(Swarm.neighbor_matrix)"
   ]
  },
  {
   "cell_type": "code",
   "execution_count": null,
   "metadata": {},
   "outputs": [],
   "source": [
    "with tqdm(total=DURATION, desc='Neighbor matrix') as pbar:\n",
    "    for t in range(DURATION):\n",
    "        neighbor_matrix = dict_swarm[t].neighbor_matrix()\n",
    "        pbar.update(1)"
   ]
  },
  {
   "cell_type": "code",
   "execution_count": null,
   "metadata": {},
   "outputs": [],
   "source": [
    "dict_swarm[0].plot_edges()"
   ]
  },
  {
   "cell_type": "markdown",
   "metadata": {},
   "source": [
    "**Exercice bonus (s'il reste du temps à la fin du TP):** animez l'évolution de la topologie de l'essaim sur une période de 30 échantillons. Pour cela, utilisez la fonction `FuncAnimation()` de la librairie `matplotlib.animation`, qui prend une fonction `animate()` en paramètre (regardez la doc). La fonction `animate()` est justement celle qui modifie l'affichage au cours du temps."
   ]
  },
  {
   "cell_type": "code",
   "execution_count": null,
   "metadata": {},
   "outputs": [],
   "source": [
    "from matplotlib.animation import FuncAnimation"
   ]
  },
  {
   "cell_type": "code",
   "execution_count": null,
   "metadata": {},
   "outputs": [],
   "source": [
    "def animate(t):\n",
    "    swarm = dict_swarm[t]\n",
    "    x_data = [node.x for node in swarm.nodes]\n",
    "    y_data = [node.y for node in swarm.nodes]\n",
    "    z_data = [node.z for node in swarm.nodes]\n",
    "    # A faire\n",
    "\n",
    "x_data = []\n",
    "y_data = []\n",
    "z_data = []\n",
    "\n",
    "fig = plt.figure(figsize=(8,8))\n",
    "ax = plt.axes(projection='3d')\n",
    "anim = FuncAnimation(fig, animate, frames=30, interval=100, repeat=False)"
   ]
  },
  {
   "cell_type": "markdown",
   "metadata": {},
   "source": [
    "## 3. Caractérisation du réseau\n",
    "Nous allons maintenant déterminer les caractéristiques du réseau en calculant certaines métriques. Cette caractérisation permet de comprendre plus en détail les différentes dynamiques dans l'essaim, et mettre en avant différents modèles de mobilité. \n",
    "\n",
    "La métrique la plus simple est le degré, soit le nombre de voisins directs d'un noeud. Calculez le degré moyen de l'essaim à l'instant `0` (faites bien attention au format des données renvoyées par la fonction `degree`), puis affichez l'évolution de ce degré moyen sur une révolution complète. Vérifiez que vous avez bien établi la connexion sur une révolution complète avant !"
   ]
  },
  {
   "cell_type": "code",
   "execution_count": null,
   "metadata": {},
   "outputs": [],
   "source": [
    "help(Swarm.degree)"
   ]
  },
  {
   "cell_type": "code",
   "execution_count": null,
   "metadata": {},
   "outputs": [],
   "source": [
    "REVOLUTION = 1800\n",
    "\n",
    "# 1. Analyse du degré à l'instant 0\n",
    "swarm = dict_swarm[0]\n",
    "avg_degree = np.mean(swarm.degree())\n",
    "print(avg_degree)"
   ]
  },
  {
   "cell_type": "code",
   "execution_count": null,
   "metadata": {},
   "outputs": [],
   "source": [
    "# 2. Analyse du degré moyen sur une révolution\n",
    "avg_degrees = []\n",
    "\n",
    "for swarm in dict_swarm.values():\n",
    "    avg_degrees.append(np.mean(swarm.degree()))\n",
    "        \n",
    "\"\"\" \n",
    "NB: il est plus propre, en Python, d'écrire cette fonction comme suit :\n",
    "avg_degrees = [np.mean(swarm.degree()) for swarm in dict_swarm.values()] \n",
    "\"\"\""
   ]
  },
  {
   "cell_type": "code",
   "execution_count": null,
   "metadata": {},
   "outputs": [],
   "source": [
    "fig = plt.figure(figsize=(8,6))\n",
    "\n",
    "idx = np.arange(len(avg_degrees))\n",
    "plt.plot(idx, avg_degrees)\n",
    "\n",
    "plt.title('Evolution du degré moyen sur une période de révolution')\n",
    "plt.xlabel('Temps')\n",
    "plt.ylabel('# Voisins')"
   ]
  },
  {
   "cell_type": "markdown",
   "metadata": {},
   "source": [
    "De la même façon, vous pouvez à présent calculer et regarder l'évolution de la k-vicinity, c'est-à-dire le voisinnage étendu à k sauts, de l'essaim. La fonction correspondante est `k_vicinity()`, attention au format des données renvoyées. Calculez la k-vicinity pour k = {1,2,3}."
   ]
  },
  {
   "cell_type": "code",
   "execution_count": null,
   "metadata": {},
   "outputs": [],
   "source": [
    "help(Swarm.k_vicinity)"
   ]
  },
  {
   "cell_type": "code",
   "execution_count": null,
   "metadata": {},
   "outputs": [],
   "source": [
    "# A faire : calculs"
   ]
  },
  {
   "cell_type": "code",
   "execution_count": null,
   "metadata": {},
   "outputs": [],
   "source": [
    "fig = plt.figure(figsize=(8,6))\n",
    "# A faire\n",
    "plt.title('Evolution de la k-vicinity sur une période de révolution')\n",
    "plt.xlabel('Temps')\n",
    "plt.ylabel('# Voisins')"
   ]
  },
  {
   "cell_type": "markdown",
   "metadata": {},
   "source": [
    "Que pouvez-vous conclure sur le comportement de la connectivité (directe et indirecte) du réseau dans le temps ?"
   ]
  },
  {
   "cell_type": "code",
   "execution_count": null,
   "metadata": {},
   "outputs": [],
   "source": [
    "\"\"\" \n",
    "Réponse\n",
    "\"\"\""
   ]
  },
  {
   "cell_type": "markdown",
   "metadata": {},
   "source": [
    "## 4. Partage de charge sur le réseau\n",
    "Nous allons maintenant nous intéresser à la gestion de la redondance et du recouvrement dans le réseau (slides 26+ du cours).\n",
    "\n",
    "Considérons une mission d'interférométrie pour laquelle nous déployons l'essaim de 100 nanosatellites défini par nos données. Lors de la phase d'observation, i.e. lorsque la Lune bloque la quasi totalité des interférences radio terrestres, chaque nanosatellite va collecter près de 5 Gb de données brutes de l'espace. Afin de créer l'image globale collectée par l'essaim, toutes les données collectées doivent être échangées entre l'intégralité des satellites. Sans politique de limitation de recouvrement, le réseau va saturer très vite.\n",
    "\n",
    "Afin de limiter ce recouvrement, une solution possible est de diviser le réseau en plusieurs sous-réseaux grâce à des algorithmes de division de graphe **(Graph Division)**. En effet, les sous-réseaux obtenus vont faire office de \"noeuds\" dans le graphe simplifié, et on va ainsi limiter la quantité de données échangées simultanément. Nous allons analyser les performances de trois algorithmes: **Random Node Division (RND)**, **Multi-Dimensional Random Walk (MDRW)** et **Forest Fire Division (FFD)**.\n",
    "\n",
    "Cherchez les fonctions correspondantes à ces algorithmes dans la doc, et assurez-vous de bien comprendre leur principe de fonctionnement. Quelles sont les différences majeures dans leur implémentation ? "
   ]
  },
  {
   "cell_type": "code",
   "execution_count": null,
   "metadata": {},
   "outputs": [],
   "source": [
    "\"\"\" \n",
    "Réponse\n",
    "\"\"\""
   ]
  },
  {
   "cell_type": "markdown",
   "metadata": {},
   "source": [
    "Prenez un essaim à un instant T et appliquez-lui d'abord l'algorithme `RND`. Paramétrez-le de sorte à obtenir `5` groupes."
   ]
  },
  {
   "cell_type": "code",
   "execution_count": null,
   "metadata": {},
   "outputs": [],
   "source": [
    "help(Swarm.RND)"
   ]
  },
  {
   "cell_type": "code",
   "execution_count": null,
   "metadata": {},
   "outputs": [],
   "source": [
    "T = 0\n",
    "swarm = dict_swarm[T]\n",
    "\n",
    "swarm.reset_connection() # Bonne pratique avant de commencer : on remet tous les groupes à leur valeur par défaut (-1)\n",
    "swarms_rnd = swarm.RND()\n",
    "\n",
    "for i,sw in swarms_rnd.items():\n",
    "    print(sw)\n",
    "    print([n.id for n in sw.nodes])"
   ]
  },
  {
   "cell_type": "markdown",
   "metadata": {},
   "source": [
    "Faites maintenant la même chose mais avec l'algorithme `MDRW` afin d'obtenir une autre répartition."
   ]
  },
  {
   "cell_type": "code",
   "execution_count": null,
   "metadata": {},
   "outputs": [],
   "source": [
    "help(Swarm.MDRW)"
   ]
  },
  {
   "cell_type": "code",
   "execution_count": null,
   "metadata": {},
   "outputs": [],
   "source": [
    "swarm.reset_groups()\n",
    "swarms_mdrw = swarm.MDRW()\n",
    "\n",
    "for i,sw in swarms_mdrw.items():\n",
    "    print(sw)\n",
    "    print([n.id for n in sw.nodes])"
   ]
  },
  {
   "cell_type": "markdown",
   "metadata": {},
   "source": [
    "Enfin, obtenez une troisième répartition grâce à l'algorithme `FFD`."
   ]
  },
  {
   "cell_type": "code",
   "execution_count": null,
   "metadata": {},
   "outputs": [],
   "source": [
    "help(Swarm.FFD)"
   ]
  },
  {
   "cell_type": "code",
   "execution_count": null,
   "metadata": {},
   "outputs": [],
   "source": [
    "swarm.reset_groups()\n",
    "swarms_ffd = swarm.FFD()\n",
    "\n",
    "for i,sw in swarms_ffd.items():\n",
    "    print(sw)\n",
    "    print([n.id for n in sw.nodes])"
   ]
  },
  {
   "cell_type": "markdown",
   "metadata": {},
   "source": [
    "A présent, nous allons comparer ces algorithmes en fonction de la répartition de la taille des groupes obtenus, l'idéal étant d'obtenir la répartition la plus homogène possible.\n",
    "\n",
    "Exécutez les cellules suivantes afin de générer les graphiques correspondant aux répartitions des trois algorithmes. Adaptez le nom des variables si besoin."
   ]
  },
  {
   "cell_type": "code",
   "execution_count": null,
   "metadata": {},
   "outputs": [],
   "source": [
    "distrib_rnd = [len(sw.nodes) for sw in swarms_rnd.values()] # Distribution du nombre de noeuds par groupe\n",
    "distrib_mdrw = [len(sw.nodes) for sw in swarms_mdrw.values()]\n",
    "distrib_ffd = [len(sw.nodes) for sw in swarms_ffd.values()]\n",
    "\n",
    "values = [] # Variable utilisée pour comparer les trois distributions sur la même échelle\n",
    "values.extend(distrib_rnd)\n",
    "values.extend(distrib_mdrw)\n",
    "values.extend(distrib_ffd)"
   ]
  },
  {
   "cell_type": "code",
   "execution_count": null,
   "metadata": {},
   "outputs": [],
   "source": [
    "labels = sorted(set(values))\n",
    "x_pos = np.arange(min(labels), max(labels)+1)\n",
    "data_rnd, data_mdrw, data_ffd = [], [], []\n",
    "for k in x_pos:\n",
    "       a,b,c = 0,0,0\n",
    "       if k in distrib_rnd:\n",
    "            a = len([e for e in distrib_rnd if e==k])\n",
    "       data_rnd.append(a)\n",
    "       if k in distrib_mdrw:\n",
    "            b = len([e for e in distrib_mdrw if e==k])\n",
    "       data_mdrw.append(b)\n",
    "       if k in distrib_ffd:\n",
    "            c = len([e for e in distrib_ffd if e==k])\n",
    "       data_ffd.append(c)\n",
    "\n",
    "# Création des histogrammes pour la comparaison \n",
    "fig, axes = plt.subplots(nrows=3, figsize=(6,12))\n",
    "ax = axes[0] # Histogramme RND\n",
    "ax.bar(x_pos, data_rnd,\n",
    "       align='center',\n",
    "       alpha=0.5)\n",
    "ax.set_ylabel('# Occurrences')\n",
    "ax.set_xticks(x_pos)\n",
    "ax.set_xticklabels(x_pos)\n",
    "ax.set_title('RND distribution')\n",
    "ax.yaxis.grid(True)\n",
    "\n",
    "ax = axes[1] # Histogramme MDRW \n",
    "ax.bar(x_pos, data_mdrw,\n",
    "       align='center',\n",
    "       alpha=0.5)\n",
    "ax.set_ylabel('# Occurrences')\n",
    "ax.set_xticks(x_pos)\n",
    "ax.set_xticklabels(x_pos)\n",
    "ax.set_title('MDRW distribution')\n",
    "ax.yaxis.grid(True)\n",
    "\n",
    "ax = axes[2] # Histogramme FFD \n",
    "ax.bar(x_pos, data_ffd,\n",
    "       align='center',\n",
    "       alpha=0.5)\n",
    "ax.set_xlabel('# Nodes in group')\n",
    "ax.set_ylabel('# Occurrences')\n",
    "ax.set_xticks(x_pos)\n",
    "ax.set_xticklabels(x_pos)\n",
    "ax.set_title('FFD distribution')\n",
    "ax.yaxis.grid(True)"
   ]
  },
  {
   "cell_type": "markdown",
   "metadata": {},
   "source": [
    "Ici, nous avons effectué une division à `20%` (5 groupes). Quel algorithme semble le plus adapté dans ce cas ? Pourquoi ?"
   ]
  },
  {
   "cell_type": "code",
   "execution_count": null,
   "metadata": {},
   "outputs": [],
   "source": [
    "\"\"\" \n",
    "Réponse\n",
    "\"\"\""
   ]
  },
  {
   "cell_type": "markdown",
   "metadata": {},
   "source": [
    "Répétez les opérations précédentes, mais cette fois-ci en effectuant une division à `10%` (10 groupes), puis `5%` (20 groupes). \n",
    "\n",
    "*NB : pour être rigoureux, il faudrait répéter chaque expérience un grand nombre de fois, car les deux algorithmes se basent sur de l'aléatoire (d'où le paramètre \"seed\" dans les fonctions). Si cela est trop long à réaliser, vous pouvez choisir des seeds différentes de vos voisins afin de confronter vos résultats.*"
   ]
  },
  {
   "cell_type": "code",
   "execution_count": null,
   "metadata": {},
   "outputs": [],
   "source": [
    "# A faire"
   ]
  },
  {
   "cell_type": "markdown",
   "metadata": {},
   "source": [
    "D'après vos résultats et ceux de vos voisins, comment évolue la performance des algorithmes lorsqu'on augmente le nombre de groupes ? Qu'en concluez-vous sur la performance globale de ces algorithmes sur la division d'un essaim de nanosatellites ?"
   ]
  },
  {
   "cell_type": "code",
   "execution_count": null,
   "metadata": {},
   "outputs": [],
   "source": [
    "\"\"\" \n",
    "Réponse\n",
    "\"\"\""
   ]
  }
 ],
 "metadata": {
  "kernelspec": {
   "display_name": "Python 3",
   "language": "python",
   "name": "python3"
  },
  "language_info": {
   "codemirror_mode": {
    "name": "ipython",
    "version": 3
   },
   "file_extension": ".py",
   "mimetype": "text/x-python",
   "name": "python",
   "nbconvert_exporter": "python",
   "pygments_lexer": "ipython3",
   "version": "3.9.13"
  },
  "orig_nbformat": 4,
  "vscode": {
   "interpreter": {
    "hash": "2ac6d069bff998233dee9bcdfa94e87e94bde565510066770655f86bcf93c541"
   }
  }
 },
 "nbformat": 4,
 "nbformat_minor": 2
}
