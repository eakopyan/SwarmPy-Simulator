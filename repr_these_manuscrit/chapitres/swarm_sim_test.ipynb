{
 "cells": [
  {
   "cell_type": "code",
   "execution_count": 1,
   "metadata": {},
   "outputs": [],
   "source": [
    "import copy\n",
    "import networkx as nx\n",
    "import numpy as np\n",
    "import pandas as pd\n",
    "from tqdm import tqdm\n",
    "\n",
    "import matplotlib.pyplot as plt\n",
    "from mpl_toolkits import mplot3d\n",
    "\n",
    "from swarm_sim import *\n",
    "\n",
    "%matplotlib inline "
   ]
  },
  {
   "cell_type": "code",
   "execution_count": 2,
   "metadata": {},
   "outputs": [
    {
     "data": {
      "image/png": "[encoded data removed]",
      "text/plain": [
       "<Figure size 640x480 with 1 Axes>"
      ]
     },
     "metadata": {},
     "output_type": "display_data"
    }
   ],
   "source": [
    "G = nx.Graph([(0,1),(0,2),(0,3),(1,2),(1,3),(2,3)])\n",
    "nx.draw_networkx(G, with_labels=True)"
   ]
  },
  {
   "cell_type": "code",
   "execution_count": 3,
   "metadata": {},
   "outputs": [
    {
     "data": {
      "text/plain": [
       "1.0"
      ]
     },
     "execution_count": 3,
     "metadata": {},
     "output_type": "execute_result"
    }
   ],
   "source": [
    "nx.clustering(G, 0)"
   ]
  },
  {
   "cell_type": "code",
   "execution_count": 6,
   "metadata": {},
   "outputs": [
    {
     "data": {
      "text/plain": [
       "EdgeDataView([(0, 1, {'proba': 0.25}), (0, 2, {'proba': 1}), (0, 3, {'proba': 1}), (1, 2, {'proba': 1}), (1, 3, {'proba': 1}), (2, 3, {'proba': 1})])"
      ]
     },
     "execution_count": 6,
     "metadata": {},
     "output_type": "execute_result"
    }
   ],
   "source": [
    "nx.set_edge_attributes(G, values=1, name='proba')\n",
    "G.add_edge(0, 1, proba=1/4)\n",
    "G.edges(data=True)"
   ]
  },
  {
   "cell_type": "code",
   "execution_count": 7,
   "metadata": {},
   "outputs": [
    {
     "data": {
      "text/plain": [
       "0.7533070166316244"
      ]
     },
     "execution_count": 7,
     "metadata": {},
     "output_type": "execute_result"
    }
   ],
   "source": [
    "nx.clustering(G, 0, weight='proba')"
   ]
  },
  {
   "cell_type": "code",
   "execution_count": 2,
   "metadata": {},
   "outputs": [
    {
     "name": "stdout",
     "output_type": "stream",
     "text": [
      "Graph with 4 nodes and 3 edges\n"
     ]
    }
   ],
   "source": [
    "G = nx.path_graph(4)\n",
    "print(G)"
   ]
  },
  {
   "cell_type": "code",
   "execution_count": 11,
   "metadata": {},
   "outputs": [],
   "source": [
    "G.add_edge(4, 5, cost=4, proba=1/4)"
   ]
  },
  {
   "cell_type": "code",
   "execution_count": 13,
   "metadata": {},
   "outputs": [
    {
     "name": "stdout",
     "output_type": "stream",
     "text": [
      "{}\n",
      "{}\n",
      "{'cost': 4, 'proba': 0.25}\n"
     ]
    }
   ],
   "source": [
    "for n1, n2, data in G.edges(data=True):\n",
    "    print(data)"
   ]
  },
  {
   "cell_type": "code",
   "execution_count": 17,
   "metadata": {},
   "outputs": [
    {
     "name": "stdout",
     "output_type": "stream",
     "text": [
      "{'group': 10}\n",
      "{'group': 10}\n",
      "{'group': 10}\n",
      "{'group': 10}\n",
      "{'cost': 4, 'proba': 0.25, 'group': 10}\n",
      "{'group': 10}\n"
     ]
    }
   ],
   "source": [
    "nx.set_node_attributes(G, values=10, name='group')\n",
    "for node, data in G.nodes(data=True):\n",
    "    print(data)"
   ]
  },
  {
   "cell_type": "code",
   "execution_count": 2,
   "metadata": {},
   "outputs": [],
   "source": [
    "NB_NODES = 50\n",
    "DURATION = 10000   # Nb samples\n",
    "REVOLUTION = 1800  # Nb samples\n",
    "SAMPLE_FREQ = 0.1  # Hz, 1 sample every 10 seconds\n",
    "CONNECTION_RANGE = 30000 # m\n",
    "\n",
    "# Variables globales figures\n",
    "TMAX = REVOLUTION/SAMPLE_FREQ\n",
    "IDX = np.arange(0, TMAX, 1/SAMPLE_FREQ) # conversion en secondes"
   ]
  },
  {
   "cell_type": "code",
   "execution_count": 3,
   "metadata": {},
   "outputs": [
    {
     "name": "stderr",
     "output_type": "stream",
     "text": [
      "Extracting data: 100%|██████████| 50/50 [00:08<00:00,  5.58it/s]\n"
     ]
    },
    {
     "data": {
      "text/html": [
       "<div>\n",
       "<style scoped>\n",
       "    .dataframe tbody tr th:only-of-type {\n",
       "        vertical-align: middle;\n",
       "    }\n",
       "\n",
       "    .dataframe tbody tr th {\n",
       "        vertical-align: top;\n",
       "    }\n",
       "\n",
       "    .dataframe thead th {\n",
       "        text-align: right;\n",
       "    }\n",
       "</style>\n",
       "<table border=\"1\" class=\"dataframe\">\n",
       "  <thead>\n",
       "    <tr style=\"text-align: right;\">\n",
       "      <th></th>\n",
       "      <th>0</th>\n",
       "      <th>1</th>\n",
       "      <th>2</th>\n",
       "      <th>3</th>\n",
       "      <th>4</th>\n",
       "      <th>5</th>\n",
       "      <th>6</th>\n",
       "      <th>7</th>\n",
       "      <th>8</th>\n",
       "      <th>9</th>\n",
       "      <th>...</th>\n",
       "      <th>9990</th>\n",
       "      <th>9991</th>\n",
       "      <th>9992</th>\n",
       "      <th>9993</th>\n",
       "      <th>9994</th>\n",
       "      <th>9995</th>\n",
       "      <th>9996</th>\n",
       "      <th>9997</th>\n",
       "      <th>9998</th>\n",
       "      <th>9999</th>\n",
       "    </tr>\n",
       "    <tr>\n",
       "      <th>coords</th>\n",
       "      <th></th>\n",
       "      <th></th>\n",
       "      <th></th>\n",
       "      <th></th>\n",
       "      <th></th>\n",
       "      <th></th>\n",
       "      <th></th>\n",
       "      <th></th>\n",
       "      <th></th>\n",
       "      <th></th>\n",
       "      <th></th>\n",
       "      <th></th>\n",
       "      <th></th>\n",
       "      <th></th>\n",
       "      <th></th>\n",
       "      <th></th>\n",
       "      <th></th>\n",
       "      <th></th>\n",
       "      <th></th>\n",
       "      <th></th>\n",
       "      <th></th>\n",
       "    </tr>\n",
       "  </thead>\n",
       "  <tbody>\n",
       "    <tr>\n",
       "      <th>x</th>\n",
       "      <td>-4.428846e+05</td>\n",
       "      <td>-4.516533e+05</td>\n",
       "      <td>-4.604007e+05</td>\n",
       "      <td>-4.691266e+05</td>\n",
       "      <td>-4.778306e+05</td>\n",
       "      <td>-4.865122e+05</td>\n",
       "      <td>-4.951711e+05</td>\n",
       "      <td>-5.038068e+05</td>\n",
       "      <td>-5.124189e+05</td>\n",
       "      <td>-5.210071e+05</td>\n",
       "      <td>...</td>\n",
       "      <td>1.440812e+06</td>\n",
       "      <td>1.444147e+06</td>\n",
       "      <td>1.447475e+06</td>\n",
       "      <td>1.450795e+06</td>\n",
       "      <td>1.454108e+06</td>\n",
       "      <td>1.457413e+06</td>\n",
       "      <td>1.460711e+06</td>\n",
       "      <td>1.464001e+06</td>\n",
       "      <td>1.467284e+06</td>\n",
       "      <td>1.470559e+06</td>\n",
       "    </tr>\n",
       "    <tr>\n",
       "      <th>y</th>\n",
       "      <td>-7.388676e+05</td>\n",
       "      <td>-7.522884e+05</td>\n",
       "      <td>-7.656739e+05</td>\n",
       "      <td>-7.790237e+05</td>\n",
       "      <td>-7.923370e+05</td>\n",
       "      <td>-8.056132e+05</td>\n",
       "      <td>-8.188518e+05</td>\n",
       "      <td>-8.320520e+05</td>\n",
       "      <td>-8.452134e+05</td>\n",
       "      <td>-8.583352e+05</td>\n",
       "      <td>...</td>\n",
       "      <td>2.329204e+06</td>\n",
       "      <td>2.334225e+06</td>\n",
       "      <td>2.339233e+06</td>\n",
       "      <td>2.344229e+06</td>\n",
       "      <td>2.349213e+06</td>\n",
       "      <td>2.354185e+06</td>\n",
       "      <td>2.359145e+06</td>\n",
       "      <td>2.364092e+06</td>\n",
       "      <td>2.369028e+06</td>\n",
       "      <td>2.373951e+06</td>\n",
       "    </tr>\n",
       "    <tr>\n",
       "      <th>z</th>\n",
       "      <td>-2.011435e+06</td>\n",
       "      <td>-2.004528e+06</td>\n",
       "      <td>-1.997528e+06</td>\n",
       "      <td>-1.990435e+06</td>\n",
       "      <td>-1.983248e+06</td>\n",
       "      <td>-1.975968e+06</td>\n",
       "      <td>-1.968596e+06</td>\n",
       "      <td>-1.961132e+06</td>\n",
       "      <td>-1.953577e+06</td>\n",
       "      <td>-1.945930e+06</td>\n",
       "      <td>...</td>\n",
       "      <td>3.661057e+06</td>\n",
       "      <td>3.655167e+06</td>\n",
       "      <td>3.649258e+06</td>\n",
       "      <td>3.643331e+06</td>\n",
       "      <td>3.637384e+06</td>\n",
       "      <td>3.631419e+06</td>\n",
       "      <td>3.625435e+06</td>\n",
       "      <td>3.619433e+06</td>\n",
       "      <td>3.613412e+06</td>\n",
       "      <td>3.607372e+06</td>\n",
       "    </tr>\n",
       "  </tbody>\n",
       "</table>\n",
       "<p>3 rows × 10000 columns</p>\n",
       "</div>"
      ],
      "text/plain": [
       "                   0             1             2             3             4  \\\n",
       "coords                                                                         \n",
       "x      -4.428846e+05 -4.516533e+05 -4.604007e+05 -4.691266e+05 -4.778306e+05   \n",
       "y      -7.388676e+05 -7.522884e+05 -7.656739e+05 -7.790237e+05 -7.923370e+05   \n",
       "z      -2.011435e+06 -2.004528e+06 -1.997528e+06 -1.990435e+06 -1.983248e+06   \n",
       "\n",
       "                   5             6             7             8             9  \\\n",
       "coords                                                                         \n",
       "x      -4.865122e+05 -4.951711e+05 -5.038068e+05 -5.124189e+05 -5.210071e+05   \n",
       "y      -8.056132e+05 -8.188518e+05 -8.320520e+05 -8.452134e+05 -8.583352e+05   \n",
       "z      -1.975968e+06 -1.968596e+06 -1.961132e+06 -1.953577e+06 -1.945930e+06   \n",
       "\n",
       "        ...          9990          9991          9992          9993  \\\n",
       "coords  ...                                                           \n",
       "x       ...  1.440812e+06  1.444147e+06  1.447475e+06  1.450795e+06   \n",
       "y       ...  2.329204e+06  2.334225e+06  2.339233e+06  2.344229e+06   \n",
       "z       ...  3.661057e+06  3.655167e+06  3.649258e+06  3.643331e+06   \n",
       "\n",
       "                9994          9995          9996          9997          9998  \\\n",
       "coords                                                                         \n",
       "x       1.454108e+06  1.457413e+06  1.460711e+06  1.464001e+06  1.467284e+06   \n",
       "y       2.349213e+06  2.354185e+06  2.359145e+06  2.364092e+06  2.369028e+06   \n",
       "z       3.637384e+06  3.631419e+06  3.625435e+06  3.619433e+06  3.613412e+06   \n",
       "\n",
       "                9999  \n",
       "coords                \n",
       "x       1.470559e+06  \n",
       "y       2.373951e+06  \n",
       "z       3.607372e+06  \n",
       "\n",
       "[3 rows x 10000 columns]"
      ]
     },
     "execution_count": 3,
     "metadata": {},
     "output_type": "execute_result"
    }
   ],
   "source": [
    "PATH = '..\\..\\data\\cnes_swarm50\\\\track_'\n",
    "satellites = {}\n",
    "\n",
    "with tqdm(total=NB_NODES, desc='Extracting data') as pbar:\n",
    "    for i in range(NB_NODES):\n",
    "        df = pd.read_csv(PATH+str(i)+'.csv')\n",
    "        df['coords'] = ['x','y','z']\n",
    "        satellites[i] = df.set_index('coords', drop=True)\n",
    "        pbar.update(1)\n",
    "\n",
    "satellites[0]"
   ]
  },
  {
   "cell_type": "code",
   "execution_count": 4,
   "metadata": {},
   "outputs": [
    {
     "name": "stderr",
     "output_type": "stream",
     "text": [
      "Converting to Swarm:   0%|          | 0/1800 [00:00<?, ?it/s]"
     ]
    },
    {
     "name": "stderr",
     "output_type": "stream",
     "text": [
      "Converting to Swarm: 100%|██████████| 1800/1800 [00:05<00:00, 307.39it/s]"
     ]
    },
    {
     "name": "stdout",
     "output_type": "stream",
     "text": [
      "Swarm of 50 node(s), connection range: 30000\n"
     ]
    },
    {
     "name": "stderr",
     "output_type": "stream",
     "text": [
      "\n"
     ]
    }
   ],
   "source": [
    "swarm_data = {}\n",
    "\n",
    "with tqdm(total = REVOLUTION, desc = 'Converting to Swarm') as pbar:\n",
    "    for t in range(REVOLUTION):\n",
    "        swarm_data[t] = Swarm(\n",
    "            connection_range=CONNECTION_RANGE, \n",
    "            nodes=[Node(id, node[str(t)].x, node[str(t)].y, node[str(t)].z) for id,node in satellites.items()]\n",
    "            )\n",
    "        pbar.update(1)\n",
    "\n",
    "print(swarm_data[0])"
   ]
  },
  {
   "cell_type": "code",
   "execution_count": 25,
   "metadata": {},
   "outputs": [
    {
     "name": "stdout",
     "output_type": "stream",
     "text": [
      "Node ID 0 (-442884.649447147,-738867.558987548,-2011434.55664482) has 10 neighbor(s)\tGroup: -1\n",
      "Graph with 50 nodes and 106 edges\n",
      "Degree of node 0: 10\n"
     ]
    }
   ],
   "source": [
    "swarm_plain = swarm_data[0]\n",
    "nmat = swarm_plain.neighbor_matrix()\n",
    "print(swarm_plain.nodes[0])\n",
    "swarm_plain.create_graph()\n",
    "print(swarm_plain.graph)\n",
    "print('Degree of node 0:', nx.degree(swarm_plain.graph, 0))"
   ]
  },
  {
   "cell_type": "code",
   "execution_count": 21,
   "metadata": {},
   "outputs": [
    {
     "name": "stdout",
     "output_type": "stream",
     "text": [
      "Node ID 0 (-442884.649447147,-738867.558987548,-2011434.55664482) has 0 neighbor(s)\tGroup: -1\n"
     ]
    }
   ],
   "source": [
    "swarm_data[0].reset_connection()\n",
    "print(swarm_data[0].nodes[0])"
   ]
  },
  {
   "cell_type": "code",
   "execution_count": 23,
   "metadata": {},
   "outputs": [
    {
     "name": "stdout",
     "output_type": "stream",
     "text": [
      "Node ID 0 (-442884.649447147,-738867.558987548,-2011434.55664482) has 30 neighbor(s)\tGroup: -1\n",
      "Graph with 50 nodes and 485 edges\n",
      "Degree of node 0: 30\n"
     ]
    }
   ],
   "source": [
    "swarm_weighted = copy.deepcopy(swarm_data) # or else it changes both dictionaries\n",
    "swarm_w = swarm_weighted[0]\n",
    "nmat_w = swarm_w.neighbor_matrix(weighted=True)\n",
    "print(swarm_w.nodes[0])\n",
    "swarm_w.create_graph()\n",
    "print(swarm_w.graph)\n",
    "print('Degree of node 0:', nx.degree(swarm_w.graph, 0))"
   ]
  },
  {
   "cell_type": "code",
   "execution_count": 24,
   "metadata": {},
   "outputs": [
    {
     "name": "stdout",
     "output_type": "stream",
     "text": [
      "(0, 1, {'cost': 1, 'proba': 1.0})\n",
      "(0, 4, {'cost': 4, 'proba': 0.25})\n",
      "(0, 8, {'cost': 4, 'proba': 0.25})\n",
      "(0, 9, {'cost': 4, 'proba': 0.25})\n",
      "(0, 12, {'cost': 1, 'proba': 1.0})\n",
      "(0, 14, {'cost': 1, 'proba': 1.0})\n",
      "(0, 15, {'cost': 4, 'proba': 0.25})\n",
      "(0, 16, {'cost': 1, 'proba': 1.0})\n",
      "(0, 17, {'cost': 4, 'proba': 0.25})\n",
      "(0, 18, {'cost': 1, 'proba': 1.0})\n",
      "(0, 19, {'cost': 4, 'proba': 0.25})\n",
      "(0, 20, {'cost': 4, 'proba': 0.25})\n",
      "(0, 21, {'cost': 1, 'proba': 1.0})\n",
      "(0, 22, {'cost': 4, 'proba': 0.25})\n",
      "(0, 24, {'cost': 1, 'proba': 1.0})\n",
      "(0, 25, {'cost': 4, 'proba': 0.25})\n",
      "(0, 26, {'cost': 4, 'proba': 0.25})\n",
      "(0, 32, {'cost': 4, 'proba': 0.25})\n",
      "(0, 34, {'cost': 4, 'proba': 0.25})\n",
      "(0, 35, {'cost': 4, 'proba': 0.25})\n",
      "(0, 36, {'cost': 4, 'proba': 0.25})\n",
      "(0, 37, {'cost': 4, 'proba': 0.25})\n",
      "(0, 38, {'cost': 4, 'proba': 0.25})\n",
      "(0, 39, {'cost': 4, 'proba': 0.25})\n",
      "(0, 41, {'cost': 1, 'proba': 1.0})\n",
      "(0, 42, {'cost': 4, 'proba': 0.25})\n",
      "(0, 43, {'cost': 1, 'proba': 1.0})\n",
      "(0, 44, {'cost': 1, 'proba': 1.0})\n",
      "(0, 45, {'cost': 4, 'proba': 0.25})\n",
      "(0, 48, {'cost': 4, 'proba': 0.25})\n",
      "(1, 9, {'cost': 4, 'proba': 0.25})\n",
      "(1, 11, {'cost': 4, 'proba': 0.25})\n",
      "(1, 12, {'cost': 1, 'proba': 1.0})\n",
      "(1, 14, {'cost': 4, 'proba': 0.25})\n",
      "(1, 15, {'cost': 4, 'proba': 0.25})\n",
      "(1, 16, {'cost': 4, 'proba': 0.25})\n",
      "(1, 17, {'cost': 4, 'proba': 0.25})\n",
      "(1, 18, {'cost': 1, 'proba': 1.0})\n",
      "(1, 19, {'cost': 4, 'proba': 0.25})\n",
      "(1, 20, {'cost': 4, 'proba': 0.25})\n",
      "(1, 21, {'cost': 1, 'proba': 1.0})\n",
      "(1, 24, {'cost': 4, 'proba': 0.25})\n",
      "(1, 25, {'cost': 1, 'proba': 1.0})\n",
      "(1, 26, {'cost': 4, 'proba': 0.25})\n",
      "(1, 30, {'cost': 4, 'proba': 0.25})\n",
      "(1, 32, {'cost': 4, 'proba': 0.25})\n",
      "(1, 34, {'cost': 4, 'proba': 0.25})\n",
      "(1, 35, {'cost': 1, 'proba': 1.0})\n",
      "(1, 36, {'cost': 4, 'proba': 0.25})\n",
      "(1, 37, {'cost': 4, 'proba': 0.25})\n",
      "(1, 38, {'cost': 4, 'proba': 0.25})\n",
      "(1, 39, {'cost': 1, 'proba': 1.0})\n",
      "(1, 41, {'cost': 4, 'proba': 0.25})\n",
      "(1, 43, {'cost': 4, 'proba': 0.25})\n",
      "(1, 44, {'cost': 4, 'proba': 0.25})\n",
      "(1, 45, {'cost': 4, 'proba': 0.25})\n",
      "(1, 46, {'cost': 4, 'proba': 0.25})\n",
      "(1, 48, {'cost': 1, 'proba': 1.0})\n",
      "(2, 5, {'cost': 4, 'proba': 0.25})\n",
      "(2, 9, {'cost': 4, 'proba': 0.25})\n",
      "(2, 11, {'cost': 4, 'proba': 0.25})\n",
      "(2, 30, {'cost': 1, 'proba': 1.0})\n",
      "(2, 32, {'cost': 4, 'proba': 0.25})\n",
      "(2, 34, {'cost': 4, 'proba': 0.25})\n",
      "(2, 38, {'cost': 4, 'proba': 0.25})\n",
      "(2, 40, {'cost': 4, 'proba': 0.25})\n",
      "(2, 46, {'cost': 4, 'proba': 0.25})\n",
      "(2, 48, {'cost': 4, 'proba': 0.25})\n",
      "(3, 4, {'cost': 4, 'proba': 0.25})\n",
      "(3, 6, {'cost': 4, 'proba': 0.25})\n",
      "(3, 10, {'cost': 1, 'proba': 1.0})\n",
      "(3, 15, {'cost': 4, 'proba': 0.25})\n",
      "(3, 19, {'cost': 4, 'proba': 0.25})\n",
      "(3, 25, {'cost': 4, 'proba': 0.25})\n",
      "(3, 31, {'cost': 4, 'proba': 0.25})\n",
      "(3, 33, {'cost': 4, 'proba': 0.25})\n",
      "(3, 35, {'cost': 4, 'proba': 0.25})\n",
      "(3, 37, {'cost': 4, 'proba': 0.25})\n",
      "(3, 42, {'cost': 4, 'proba': 0.25})\n",
      "(3, 47, {'cost': 4, 'proba': 0.25})\n",
      "(4, 6, {'cost': 1, 'proba': 1.0})\n",
      "(4, 10, {'cost': 1, 'proba': 1.0})\n",
      "(4, 13, {'cost': 4, 'proba': 0.25})\n",
      "(4, 15, {'cost': 4, 'proba': 0.25})\n",
      "(4, 16, {'cost': 4, 'proba': 0.25})\n",
      "(4, 17, {'cost': 4, 'proba': 0.25})\n",
      "(4, 19, {'cost': 4, 'proba': 0.25})\n",
      "(4, 21, {'cost': 4, 'proba': 0.25})\n",
      "(4, 24, {'cost': 4, 'proba': 0.25})\n",
      "(4, 25, {'cost': 4, 'proba': 0.25})\n",
      "(4, 28, {'cost': 4, 'proba': 0.25})\n",
      "(4, 29, {'cost': 4, 'proba': 0.25})\n",
      "(4, 31, {'cost': 4, 'proba': 0.25})\n",
      "(4, 33, {'cost': 1, 'proba': 1.0})\n",
      "(4, 35, {'cost': 4, 'proba': 0.25})\n",
      "(4, 37, {'cost': 1, 'proba': 1.0})\n",
      "(4, 41, {'cost': 4, 'proba': 0.25})\n",
      "(4, 42, {'cost': 1, 'proba': 1.0})\n",
      "(4, 43, {'cost': 4, 'proba': 0.25})\n",
      "(4, 47, {'cost': 1, 'proba': 1.0})\n",
      "(5, 30, {'cost': 4, 'proba': 0.25})\n",
      "(5, 40, {'cost': 1, 'proba': 1.0})\n",
      "(5, 46, {'cost': 4, 'proba': 0.25})\n",
      "(6, 10, {'cost': 4, 'proba': 0.25})\n",
      "(6, 13, {'cost': 1, 'proba': 1.0})\n",
      "(6, 15, {'cost': 4, 'proba': 0.25})\n",
      "(6, 17, {'cost': 4, 'proba': 0.25})\n",
      "(6, 28, {'cost': 1, 'proba': 1.0})\n",
      "(6, 29, {'cost': 1, 'proba': 1.0})\n",
      "(6, 31, {'cost': 1, 'proba': 1.0})\n",
      "(6, 33, {'cost': 1, 'proba': 1.0})\n",
      "(6, 37, {'cost': 4, 'proba': 0.25})\n",
      "(6, 42, {'cost': 4, 'proba': 0.25})\n",
      "(6, 47, {'cost': 1, 'proba': 1.0})\n",
      "(7, 9, {'cost': 4, 'proba': 0.25})\n",
      "(7, 11, {'cost': 1, 'proba': 1.0})\n",
      "(7, 14, {'cost': 4, 'proba': 0.25})\n",
      "(7, 18, {'cost': 4, 'proba': 0.25})\n",
      "(7, 20, {'cost': 4, 'proba': 0.25})\n",
      "(7, 23, {'cost': 4, 'proba': 0.25})\n",
      "(7, 34, {'cost': 4, 'proba': 0.25})\n",
      "(7, 36, {'cost': 4, 'proba': 0.25})\n",
      "(7, 39, {'cost': 4, 'proba': 0.25})\n",
      "(7, 40, {'cost': 4, 'proba': 0.25})\n",
      "(7, 46, {'cost': 4, 'proba': 0.25})\n",
      "(7, 48, {'cost': 4, 'proba': 0.25})\n",
      "(8, 14, {'cost': 4, 'proba': 0.25})\n",
      "(8, 22, {'cost': 4, 'proba': 0.25})\n",
      "(8, 26, {'cost': 1, 'proba': 1.0})\n",
      "(8, 36, {'cost': 4, 'proba': 0.25})\n",
      "(8, 38, {'cost': 4, 'proba': 0.25})\n",
      "(8, 41, {'cost': 4, 'proba': 0.25})\n",
      "(8, 43, {'cost': 4, 'proba': 0.25})\n",
      "(8, 44, {'cost': 4, 'proba': 0.25})\n",
      "(8, 45, {'cost': 4, 'proba': 0.25})\n",
      "(9, 11, {'cost': 1, 'proba': 1.0})\n",
      "(9, 12, {'cost': 4, 'proba': 0.25})\n",
      "(9, 14, {'cost': 4, 'proba': 0.25})\n",
      "(9, 18, {'cost': 4, 'proba': 0.25})\n",
      "(9, 20, {'cost': 1, 'proba': 1.0})\n",
      "(9, 25, {'cost': 4, 'proba': 0.25})\n",
      "(9, 30, {'cost': 4, 'proba': 0.25})\n",
      "(9, 34, {'cost': 1, 'proba': 1.0})\n",
      "(9, 36, {'cost': 4, 'proba': 0.25})\n",
      "(9, 38, {'cost': 4, 'proba': 0.25})\n",
      "(9, 39, {'cost': 1, 'proba': 1.0})\n",
      "(9, 40, {'cost': 4, 'proba': 0.25})\n",
      "(9, 44, {'cost': 4, 'proba': 0.25})\n",
      "(9, 45, {'cost': 4, 'proba': 0.25})\n",
      "(9, 46, {'cost': 1, 'proba': 1.0})\n",
      "(9, 48, {'cost': 1, 'proba': 1.0})\n",
      "(10, 13, {'cost': 4, 'proba': 0.25})\n",
      "(10, 15, {'cost': 4, 'proba': 0.25})\n",
      "(10, 16, {'cost': 4, 'proba': 0.25})\n",
      "(10, 17, {'cost': 4, 'proba': 0.25})\n",
      "(10, 19, {'cost': 4, 'proba': 0.25})\n",
      "(10, 21, {'cost': 4, 'proba': 0.25})\n",
      "(10, 24, {'cost': 4, 'proba': 0.25})\n",
      "(10, 25, {'cost': 4, 'proba': 0.25})\n",
      "(10, 28, {'cost': 4, 'proba': 0.25})\n",
      "(10, 29, {'cost': 4, 'proba': 0.25})\n",
      "(10, 31, {'cost': 4, 'proba': 0.25})\n",
      "(10, 33, {'cost': 4, 'proba': 0.25})\n",
      "(10, 35, {'cost': 4, 'proba': 0.25})\n",
      "(10, 37, {'cost': 1, 'proba': 1.0})\n",
      "(10, 41, {'cost': 4, 'proba': 0.25})\n",
      "(10, 42, {'cost': 4, 'proba': 0.25})\n",
      "(10, 47, {'cost': 1, 'proba': 1.0})\n",
      "(11, 12, {'cost': 4, 'proba': 0.25})\n",
      "(11, 14, {'cost': 4, 'proba': 0.25})\n",
      "(11, 18, {'cost': 4, 'proba': 0.25})\n",
      "(11, 20, {'cost': 4, 'proba': 0.25})\n",
      "(11, 23, {'cost': 4, 'proba': 0.25})\n",
      "(11, 30, {'cost': 4, 'proba': 0.25})\n",
      "(11, 34, {'cost': 1, 'proba': 1.0})\n",
      "(11, 36, {'cost': 4, 'proba': 0.25})\n",
      "(11, 38, {'cost': 4, 'proba': 0.25})\n",
      "(11, 39, {'cost': 4, 'proba': 0.25})\n",
      "(11, 40, {'cost': 4, 'proba': 0.25})\n",
      "(11, 44, {'cost': 4, 'proba': 0.25})\n",
      "(11, 46, {'cost': 4, 'proba': 0.25})\n",
      "(11, 48, {'cost': 4, 'proba': 0.25})\n",
      "(12, 14, {'cost': 1, 'proba': 1.0})\n",
      "(12, 15, {'cost': 4, 'proba': 0.25})\n",
      "(12, 16, {'cost': 4, 'proba': 0.25})\n",
      "(12, 17, {'cost': 4, 'proba': 0.25})\n",
      "(12, 18, {'cost': 1, 'proba': 1.0})\n",
      "(12, 19, {'cost': 4, 'proba': 0.25})\n",
      "(12, 20, {'cost': 4, 'proba': 0.25})\n",
      "(12, 21, {'cost': 1, 'proba': 1.0})\n",
      "(12, 22, {'cost': 4, 'proba': 0.25})\n",
      "(12, 24, {'cost': 4, 'proba': 0.25})\n",
      "(12, 25, {'cost': 1, 'proba': 1.0})\n",
      "(12, 26, {'cost': 4, 'proba': 0.25})\n",
      "(12, 30, {'cost': 4, 'proba': 0.25})\n",
      "(12, 34, {'cost': 4, 'proba': 0.25})\n",
      "(12, 35, {'cost': 4, 'proba': 0.25})\n",
      "(12, 36, {'cost': 4, 'proba': 0.25})\n",
      "(12, 37, {'cost': 4, 'proba': 0.25})\n",
      "(12, 38, {'cost': 4, 'proba': 0.25})\n",
      "(12, 39, {'cost': 1, 'proba': 1.0})\n",
      "(12, 41, {'cost': 1, 'proba': 1.0})\n",
      "(12, 43, {'cost': 4, 'proba': 0.25})\n",
      "(12, 44, {'cost': 1, 'proba': 1.0})\n",
      "(12, 45, {'cost': 1, 'proba': 1.0})\n",
      "(12, 46, {'cost': 4, 'proba': 0.25})\n",
      "(12, 48, {'cost': 4, 'proba': 0.25})\n",
      "(13, 15, {'cost': 4, 'proba': 0.25})\n",
      "(13, 17, {'cost': 4, 'proba': 0.25})\n",
      "(13, 28, {'cost': 1, 'proba': 1.0})\n",
      "(13, 29, {'cost': 1, 'proba': 1.0})\n",
      "(13, 31, {'cost': 4, 'proba': 0.25})\n",
      "(13, 33, {'cost': 1, 'proba': 1.0})\n",
      "(13, 37, {'cost': 4, 'proba': 0.25})\n",
      "(13, 42, {'cost': 4, 'proba': 0.25})\n",
      "(13, 47, {'cost': 4, 'proba': 0.25})\n",
      "(14, 15, {'cost': 4, 'proba': 0.25})\n",
      "(14, 16, {'cost': 4, 'proba': 0.25})\n",
      "(14, 17, {'cost': 4, 'proba': 0.25})\n",
      "(14, 18, {'cost': 1, 'proba': 1.0})\n",
      "(14, 19, {'cost': 4, 'proba': 0.25})\n",
      "(14, 20, {'cost': 4, 'proba': 0.25})\n",
      "(14, 21, {'cost': 4, 'proba': 0.25})\n",
      "(14, 22, {'cost': 4, 'proba': 0.25})\n",
      "(14, 24, {'cost': 4, 'proba': 0.25})\n",
      "(14, 25, {'cost': 4, 'proba': 0.25})\n",
      "(14, 26, {'cost': 1, 'proba': 1.0})\n",
      "(14, 30, {'cost': 4, 'proba': 0.25})\n",
      "(14, 34, {'cost': 4, 'proba': 0.25})\n",
      "(14, 35, {'cost': 4, 'proba': 0.25})\n",
      "(14, 36, {'cost': 1, 'proba': 1.0})\n",
      "(14, 38, {'cost': 4, 'proba': 0.25})\n",
      "(14, 39, {'cost': 1, 'proba': 1.0})\n",
      "(14, 41, {'cost': 1, 'proba': 1.0})\n",
      "(14, 43, {'cost': 4, 'proba': 0.25})\n",
      "(14, 44, {'cost': 1, 'proba': 1.0})\n",
      "(14, 45, {'cost': 1, 'proba': 1.0})\n",
      "(14, 46, {'cost': 4, 'proba': 0.25})\n",
      "(14, 48, {'cost': 4, 'proba': 0.25})\n",
      "(15, 16, {'cost': 4, 'proba': 0.25})\n",
      "(15, 17, {'cost': 1, 'proba': 1.0})\n",
      "(15, 18, {'cost': 4, 'proba': 0.25})\n",
      "(15, 19, {'cost': 4, 'proba': 0.25})\n",
      "(15, 21, {'cost': 1, 'proba': 1.0})\n",
      "(15, 24, {'cost': 4, 'proba': 0.25})\n",
      "(15, 25, {'cost': 4, 'proba': 0.25})\n",
      "(15, 26, {'cost': 4, 'proba': 0.25})\n",
      "(15, 28, {'cost': 4, 'proba': 0.25})\n",
      "(15, 33, {'cost': 4, 'proba': 0.25})\n",
      "(15, 35, {'cost': 4, 'proba': 0.25})\n",
      "(15, 37, {'cost': 4, 'proba': 0.25})\n",
      "(15, 39, {'cost': 4, 'proba': 0.25})\n",
      "(15, 41, {'cost': 4, 'proba': 0.25})\n",
      "(15, 42, {'cost': 1, 'proba': 1.0})\n",
      "(15, 43, {'cost': 4, 'proba': 0.25})\n",
      "(15, 44, {'cost': 4, 'proba': 0.25})\n",
      "(15, 45, {'cost': 4, 'proba': 0.25})\n",
      "(15, 47, {'cost': 4, 'proba': 0.25})\n",
      "(16, 17, {'cost': 4, 'proba': 0.25})\n",
      "(16, 18, {'cost': 4, 'proba': 0.25})\n",
      "(16, 19, {'cost': 4, 'proba': 0.25})\n",
      "(16, 21, {'cost': 4, 'proba': 0.25})\n",
      "(16, 22, {'cost': 4, 'proba': 0.25})\n",
      "(16, 24, {'cost': 1, 'proba': 1.0})\n",
      "(16, 25, {'cost': 4, 'proba': 0.25})\n",
      "(16, 26, {'cost': 4, 'proba': 0.25})\n",
      "(16, 32, {'cost': 4, 'proba': 0.25})\n",
      "(16, 35, {'cost': 4, 'proba': 0.25})\n",
      "(16, 36, {'cost': 4, 'proba': 0.25})\n",
      "(16, 37, {'cost': 4, 'proba': 0.25})\n",
      "(16, 38, {'cost': 4, 'proba': 0.25})\n",
      "(16, 39, {'cost': 4, 'proba': 0.25})\n",
      "(16, 41, {'cost': 1, 'proba': 1.0})\n",
      "(16, 43, {'cost': 1, 'proba': 1.0})\n",
      "(16, 44, {'cost': 4, 'proba': 0.25})\n",
      "(16, 45, {'cost': 4, 'proba': 0.25})\n",
      "(16, 47, {'cost': 4, 'proba': 0.25})\n",
      "(16, 48, {'cost': 4, 'proba': 0.25})\n",
      "(17, 18, {'cost': 4, 'proba': 0.25})\n",
      "(17, 19, {'cost': 4, 'proba': 0.25})\n",
      "(17, 21, {'cost': 1, 'proba': 1.0})\n",
      "(17, 24, {'cost': 4, 'proba': 0.25})\n",
      "(17, 25, {'cost': 4, 'proba': 0.25})\n",
      "(17, 26, {'cost': 4, 'proba': 0.25})\n",
      "(17, 33, {'cost': 4, 'proba': 0.25})\n",
      "(17, 35, {'cost': 4, 'proba': 0.25})\n",
      "(17, 37, {'cost': 4, 'proba': 0.25})\n",
      "(17, 39, {'cost': 4, 'proba': 0.25})\n",
      "(17, 41, {'cost': 4, 'proba': 0.25})\n",
      "(17, 42, {'cost': 1, 'proba': 1.0})\n",
      "(17, 43, {'cost': 4, 'proba': 0.25})\n",
      "(17, 44, {'cost': 4, 'proba': 0.25})\n",
      "(17, 45, {'cost': 1, 'proba': 1.0})\n",
      "(17, 47, {'cost': 4, 'proba': 0.25})\n",
      "(18, 19, {'cost': 4, 'proba': 0.25})\n",
      "(18, 20, {'cost': 1, 'proba': 1.0})\n",
      "(18, 21, {'cost': 1, 'proba': 1.0})\n",
      "(18, 24, {'cost': 4, 'proba': 0.25})\n",
      "(18, 25, {'cost': 1, 'proba': 1.0})\n",
      "(18, 26, {'cost': 4, 'proba': 0.25})\n",
      "(18, 30, {'cost': 4, 'proba': 0.25})\n",
      "(18, 34, {'cost': 4, 'proba': 0.25})\n",
      "(18, 35, {'cost': 4, 'proba': 0.25})\n",
      "(18, 36, {'cost': 4, 'proba': 0.25})\n",
      "(18, 37, {'cost': 4, 'proba': 0.25})\n",
      "(18, 38, {'cost': 4, 'proba': 0.25})\n",
      "(18, 39, {'cost': 1, 'proba': 1.0})\n",
      "(18, 41, {'cost': 4, 'proba': 0.25})\n",
      "(18, 43, {'cost': 4, 'proba': 0.25})\n",
      "(18, 44, {'cost': 1, 'proba': 1.0})\n",
      "(18, 45, {'cost': 1, 'proba': 1.0})\n",
      "(18, 46, {'cost': 4, 'proba': 0.25})\n",
      "(18, 48, {'cost': 1, 'proba': 1.0})\n",
      "(19, 20, {'cost': 4, 'proba': 0.25})\n",
      "(19, 21, {'cost': 4, 'proba': 0.25})\n",
      "(19, 24, {'cost': 4, 'proba': 0.25})\n",
      "(19, 25, {'cost': 1, 'proba': 1.0})\n",
      "(19, 33, {'cost': 4, 'proba': 0.25})\n",
      "(19, 35, {'cost': 1, 'proba': 1.0})\n",
      "(19, 37, {'cost': 4, 'proba': 0.25})\n",
      "(19, 39, {'cost': 4, 'proba': 0.25})\n",
      "(19, 41, {'cost': 4, 'proba': 0.25})\n",
      "(19, 42, {'cost': 4, 'proba': 0.25})\n",
      "(19, 44, {'cost': 4, 'proba': 0.25})\n",
      "(19, 45, {'cost': 4, 'proba': 0.25})\n",
      "(19, 47, {'cost': 4, 'proba': 0.25})\n",
      "(20, 21, {'cost': 4, 'proba': 0.25})\n",
      "(20, 25, {'cost': 4, 'proba': 0.25})\n",
      "(20, 30, {'cost': 4, 'proba': 0.25})\n",
      "(20, 34, {'cost': 4, 'proba': 0.25})\n",
      "(20, 35, {'cost': 4, 'proba': 0.25})\n",
      "(20, 36, {'cost': 4, 'proba': 0.25})\n",
      "(20, 39, {'cost': 1, 'proba': 1.0})\n",
      "(20, 40, {'cost': 4, 'proba': 0.25})\n",
      "(20, 44, {'cost': 4, 'proba': 0.25})\n",
      "(20, 45, {'cost': 4, 'proba': 0.25})\n",
      "(20, 46, {'cost': 4, 'proba': 0.25})\n",
      "(20, 48, {'cost': 4, 'proba': 0.25})\n",
      "(21, 22, {'cost': 4, 'proba': 0.25})\n",
      "(21, 24, {'cost': 1, 'proba': 1.0})\n",
      "(21, 25, {'cost': 4, 'proba': 0.25})\n",
      "(21, 26, {'cost': 4, 'proba': 0.25})\n",
      "(21, 33, {'cost': 4, 'proba': 0.25})\n",
      "(21, 35, {'cost': 1, 'proba': 1.0})\n",
      "(21, 36, {'cost': 4, 'proba': 0.25})\n",
      "(21, 37, {'cost': 4, 'proba': 0.25})\n",
      "(21, 39, {'cost': 4, 'proba': 0.25})\n",
      "(21, 41, {'cost': 1, 'proba': 1.0})\n",
      "(21, 42, {'cost': 4, 'proba': 0.25})\n",
      "(21, 43, {'cost': 4, 'proba': 0.25})\n",
      "(21, 44, {'cost': 1, 'proba': 1.0})\n",
      "(21, 45, {'cost': 1, 'proba': 1.0})\n",
      "(21, 47, {'cost': 4, 'proba': 0.25})\n",
      "(21, 48, {'cost': 4, 'proba': 0.25})\n",
      "(22, 24, {'cost': 4, 'proba': 0.25})\n",
      "(22, 26, {'cost': 4, 'proba': 0.25})\n",
      "(22, 36, {'cost': 4, 'proba': 0.25})\n",
      "(22, 37, {'cost': 4, 'proba': 0.25})\n",
      "(22, 38, {'cost': 4, 'proba': 0.25})\n",
      "(22, 41, {'cost': 4, 'proba': 0.25})\n",
      "(22, 43, {'cost': 1, 'proba': 1.0})\n",
      "(22, 44, {'cost': 4, 'proba': 0.25})\n",
      "(23, 27, {'cost': 1, 'proba': 1.0})\n",
      "(23, 49, {'cost': 4, 'proba': 0.25})\n",
      "(24, 25, {'cost': 4, 'proba': 0.25})\n",
      "(24, 26, {'cost': 4, 'proba': 0.25})\n",
      "(24, 32, {'cost': 4, 'proba': 0.25})\n",
      "(24, 35, {'cost': 4, 'proba': 0.25})\n",
      "(24, 36, {'cost': 4, 'proba': 0.25})\n",
      "(24, 37, {'cost': 4, 'proba': 0.25})\n",
      "(24, 38, {'cost': 4, 'proba': 0.25})\n",
      "(24, 39, {'cost': 4, 'proba': 0.25})\n",
      "(24, 41, {'cost': 1, 'proba': 1.0})\n",
      "(24, 42, {'cost': 4, 'proba': 0.25})\n",
      "(24, 43, {'cost': 1, 'proba': 1.0})\n",
      "(24, 44, {'cost': 1, 'proba': 1.0})\n",
      "(24, 45, {'cost': 4, 'proba': 0.25})\n",
      "(24, 47, {'cost': 4, 'proba': 0.25})\n",
      "(24, 48, {'cost': 4, 'proba': 0.25})\n",
      "(25, 30, {'cost': 4, 'proba': 0.25})\n",
      "(25, 32, {'cost': 4, 'proba': 0.25})\n",
      "(25, 35, {'cost': 1, 'proba': 1.0})\n",
      "(25, 37, {'cost': 4, 'proba': 0.25})\n",
      "(25, 39, {'cost': 4, 'proba': 0.25})\n",
      "(25, 41, {'cost': 4, 'proba': 0.25})\n",
      "(25, 43, {'cost': 4, 'proba': 0.25})\n",
      "(25, 44, {'cost': 4, 'proba': 0.25})\n",
      "(25, 45, {'cost': 4, 'proba': 0.25})\n",
      "(25, 46, {'cost': 4, 'proba': 0.25})\n",
      "(25, 48, {'cost': 4, 'proba': 0.25})\n",
      "(26, 36, {'cost': 1, 'proba': 1.0})\n",
      "(26, 38, {'cost': 4, 'proba': 0.25})\n",
      "(26, 39, {'cost': 4, 'proba': 0.25})\n",
      "(26, 41, {'cost': 4, 'proba': 0.25})\n",
      "(26, 43, {'cost': 4, 'proba': 0.25})\n",
      "(26, 44, {'cost': 1, 'proba': 1.0})\n",
      "(26, 45, {'cost': 4, 'proba': 0.25})\n",
      "(27, 49, {'cost': 1, 'proba': 1.0})\n",
      "(28, 29, {'cost': 1, 'proba': 1.0})\n",
      "(28, 31, {'cost': 4, 'proba': 0.25})\n",
      "(28, 33, {'cost': 1, 'proba': 1.0})\n",
      "(28, 37, {'cost': 4, 'proba': 0.25})\n",
      "(28, 42, {'cost': 4, 'proba': 0.25})\n",
      "(28, 47, {'cost': 4, 'proba': 0.25})\n",
      "(29, 31, {'cost': 4, 'proba': 0.25})\n",
      "(29, 33, {'cost': 4, 'proba': 0.25})\n",
      "(29, 37, {'cost': 4, 'proba': 0.25})\n",
      "(29, 42, {'cost': 4, 'proba': 0.25})\n",
      "(29, 47, {'cost': 4, 'proba': 0.25})\n",
      "(30, 32, {'cost': 4, 'proba': 0.25})\n",
      "(30, 34, {'cost': 4, 'proba': 0.25})\n",
      "(30, 35, {'cost': 4, 'proba': 0.25})\n",
      "(30, 38, {'cost': 4, 'proba': 0.25})\n",
      "(30, 39, {'cost': 4, 'proba': 0.25})\n",
      "(30, 40, {'cost': 4, 'proba': 0.25})\n",
      "(30, 44, {'cost': 4, 'proba': 0.25})\n",
      "(30, 46, {'cost': 1, 'proba': 1.0})\n",
      "(30, 48, {'cost': 1, 'proba': 1.0})\n",
      "(31, 33, {'cost': 4, 'proba': 0.25})\n",
      "(31, 37, {'cost': 4, 'proba': 0.25})\n",
      "(31, 47, {'cost': 4, 'proba': 0.25})\n",
      "(32, 34, {'cost': 4, 'proba': 0.25})\n",
      "(32, 38, {'cost': 4, 'proba': 0.25})\n",
      "(32, 43, {'cost': 4, 'proba': 0.25})\n",
      "(32, 48, {'cost': 4, 'proba': 0.25})\n",
      "(33, 37, {'cost': 4, 'proba': 0.25})\n",
      "(33, 42, {'cost': 1, 'proba': 1.0})\n",
      "(33, 47, {'cost': 4, 'proba': 0.25})\n",
      "(34, 36, {'cost': 4, 'proba': 0.25})\n",
      "(34, 38, {'cost': 4, 'proba': 0.25})\n",
      "(34, 39, {'cost': 4, 'proba': 0.25})\n",
      "(34, 40, {'cost': 4, 'proba': 0.25})\n",
      "(34, 44, {'cost': 4, 'proba': 0.25})\n",
      "(34, 46, {'cost': 4, 'proba': 0.25})\n",
      "(34, 48, {'cost': 4, 'proba': 0.25})\n",
      "(35, 37, {'cost': 4, 'proba': 0.25})\n",
      "(35, 39, {'cost': 4, 'proba': 0.25})\n",
      "(35, 41, {'cost': 4, 'proba': 0.25})\n",
      "(35, 42, {'cost': 4, 'proba': 0.25})\n",
      "(35, 43, {'cost': 4, 'proba': 0.25})\n",
      "(35, 44, {'cost': 4, 'proba': 0.25})\n",
      "(35, 45, {'cost': 4, 'proba': 0.25})\n",
      "(35, 46, {'cost': 4, 'proba': 0.25})\n",
      "(35, 47, {'cost': 4, 'proba': 0.25})\n",
      "(35, 48, {'cost': 4, 'proba': 0.25})\n",
      "(36, 38, {'cost': 4, 'proba': 0.25})\n",
      "(36, 39, {'cost': 4, 'proba': 0.25})\n",
      "(36, 41, {'cost': 4, 'proba': 0.25})\n",
      "(36, 43, {'cost': 4, 'proba': 0.25})\n",
      "(36, 44, {'cost': 1, 'proba': 1.0})\n",
      "(36, 45, {'cost': 4, 'proba': 0.25})\n",
      "(36, 46, {'cost': 4, 'proba': 0.25})\n",
      "(36, 48, {'cost': 4, 'proba': 0.25})\n",
      "(37, 41, {'cost': 4, 'proba': 0.25})\n",
      "(37, 42, {'cost': 4, 'proba': 0.25})\n",
      "(37, 43, {'cost': 4, 'proba': 0.25})\n",
      "(37, 44, {'cost': 4, 'proba': 0.25})\n",
      "(37, 45, {'cost': 4, 'proba': 0.25})\n",
      "(37, 47, {'cost': 1, 'proba': 1.0})\n",
      "(38, 41, {'cost': 4, 'proba': 0.25})\n",
      "(38, 43, {'cost': 4, 'proba': 0.25})\n",
      "(38, 44, {'cost': 4, 'proba': 0.25})\n",
      "(38, 48, {'cost': 4, 'proba': 0.25})\n",
      "(39, 41, {'cost': 4, 'proba': 0.25})\n",
      "(39, 44, {'cost': 4, 'proba': 0.25})\n",
      "(39, 45, {'cost': 1, 'proba': 1.0})\n",
      "(39, 46, {'cost': 4, 'proba': 0.25})\n",
      "(39, 48, {'cost': 4, 'proba': 0.25})\n",
      "(40, 46, {'cost': 4, 'proba': 0.25})\n",
      "(40, 48, {'cost': 4, 'proba': 0.25})\n",
      "(41, 42, {'cost': 4, 'proba': 0.25})\n",
      "(41, 43, {'cost': 1, 'proba': 1.0})\n",
      "(41, 44, {'cost': 1, 'proba': 1.0})\n",
      "(41, 45, {'cost': 4, 'proba': 0.25})\n",
      "(41, 48, {'cost': 4, 'proba': 0.25})\n",
      "(42, 45, {'cost': 4, 'proba': 0.25})\n",
      "(42, 47, {'cost': 4, 'proba': 0.25})\n",
      "(43, 44, {'cost': 4, 'proba': 0.25})\n",
      "(43, 45, {'cost': 4, 'proba': 0.25})\n",
      "(43, 48, {'cost': 4, 'proba': 0.25})\n",
      "(44, 45, {'cost': 1, 'proba': 1.0})\n",
      "(44, 46, {'cost': 4, 'proba': 0.25})\n",
      "(44, 48, {'cost': 4, 'proba': 0.25})\n",
      "(45, 48, {'cost': 4, 'proba': 0.25})\n",
      "(46, 48, {'cost': 1, 'proba': 1.0})\n"
     ]
    }
   ],
   "source": [
    "for edge in swarm_w.graph.edges(data=True):\n",
    "    print(edge)"
   ]
  },
  {
   "cell_type": "code",
   "execution_count": 26,
   "metadata": {},
   "outputs": [
    {
     "name": "stdout",
     "output_type": "stream",
     "text": [
      "(0, 1, {'cost': 1, 'proba': 1.0})\n",
      "(0, 12, {'cost': 1, 'proba': 1.0})\n",
      "(0, 14, {'cost': 1, 'proba': 1.0})\n",
      "(0, 16, {'cost': 1, 'proba': 1.0})\n",
      "(0, 18, {'cost': 1, 'proba': 1.0})\n",
      "(0, 21, {'cost': 1, 'proba': 1.0})\n",
      "(0, 24, {'cost': 1, 'proba': 1.0})\n",
      "(0, 41, {'cost': 1, 'proba': 1.0})\n",
      "(0, 43, {'cost': 1, 'proba': 1.0})\n",
      "(0, 44, {'cost': 1, 'proba': 1.0})\n",
      "(1, 12, {'cost': 1, 'proba': 1.0})\n",
      "(1, 18, {'cost': 1, 'proba': 1.0})\n",
      "(1, 21, {'cost': 1, 'proba': 1.0})\n",
      "(1, 25, {'cost': 1, 'proba': 1.0})\n",
      "(1, 35, {'cost': 1, 'proba': 1.0})\n",
      "(1, 39, {'cost': 1, 'proba': 1.0})\n",
      "(1, 48, {'cost': 1, 'proba': 1.0})\n",
      "(2, 30, {'cost': 1, 'proba': 1.0})\n",
      "(3, 10, {'cost': 1, 'proba': 1.0})\n",
      "(4, 6, {'cost': 1, 'proba': 1.0})\n",
      "(4, 10, {'cost': 1, 'proba': 1.0})\n",
      "(4, 33, {'cost': 1, 'proba': 1.0})\n",
      "(4, 37, {'cost': 1, 'proba': 1.0})\n",
      "(4, 42, {'cost': 1, 'proba': 1.0})\n",
      "(4, 47, {'cost': 1, 'proba': 1.0})\n",
      "(5, 40, {'cost': 1, 'proba': 1.0})\n",
      "(6, 13, {'cost': 1, 'proba': 1.0})\n",
      "(6, 28, {'cost': 1, 'proba': 1.0})\n",
      "(6, 29, {'cost': 1, 'proba': 1.0})\n",
      "(6, 31, {'cost': 1, 'proba': 1.0})\n",
      "(6, 33, {'cost': 1, 'proba': 1.0})\n",
      "(6, 47, {'cost': 1, 'proba': 1.0})\n",
      "(7, 11, {'cost': 1, 'proba': 1.0})\n",
      "(8, 26, {'cost': 1, 'proba': 1.0})\n",
      "(9, 11, {'cost': 1, 'proba': 1.0})\n",
      "(9, 20, {'cost': 1, 'proba': 1.0})\n",
      "(9, 34, {'cost': 1, 'proba': 1.0})\n",
      "(9, 39, {'cost': 1, 'proba': 1.0})\n",
      "(9, 46, {'cost': 1, 'proba': 1.0})\n",
      "(9, 48, {'cost': 1, 'proba': 1.0})\n",
      "(10, 37, {'cost': 1, 'proba': 1.0})\n",
      "(10, 47, {'cost': 1, 'proba': 1.0})\n",
      "(11, 34, {'cost': 1, 'proba': 1.0})\n",
      "(12, 14, {'cost': 1, 'proba': 1.0})\n",
      "(12, 18, {'cost': 1, 'proba': 1.0})\n",
      "(12, 21, {'cost': 1, 'proba': 1.0})\n",
      "(12, 25, {'cost': 1, 'proba': 1.0})\n",
      "(12, 39, {'cost': 1, 'proba': 1.0})\n",
      "(12, 41, {'cost': 1, 'proba': 1.0})\n",
      "(12, 44, {'cost': 1, 'proba': 1.0})\n",
      "(12, 45, {'cost': 1, 'proba': 1.0})\n",
      "(13, 28, {'cost': 1, 'proba': 1.0})\n",
      "(13, 29, {'cost': 1, 'proba': 1.0})\n",
      "(13, 33, {'cost': 1, 'proba': 1.0})\n",
      "(14, 18, {'cost': 1, 'proba': 1.0})\n",
      "(14, 26, {'cost': 1, 'proba': 1.0})\n",
      "(14, 36, {'cost': 1, 'proba': 1.0})\n",
      "(14, 39, {'cost': 1, 'proba': 1.0})\n",
      "(14, 41, {'cost': 1, 'proba': 1.0})\n",
      "(14, 44, {'cost': 1, 'proba': 1.0})\n",
      "(14, 45, {'cost': 1, 'proba': 1.0})\n",
      "(15, 17, {'cost': 1, 'proba': 1.0})\n",
      "(15, 21, {'cost': 1, 'proba': 1.0})\n",
      "(15, 42, {'cost': 1, 'proba': 1.0})\n",
      "(16, 24, {'cost': 1, 'proba': 1.0})\n",
      "(16, 41, {'cost': 1, 'proba': 1.0})\n",
      "(16, 43, {'cost': 1, 'proba': 1.0})\n",
      "(17, 21, {'cost': 1, 'proba': 1.0})\n",
      "(17, 42, {'cost': 1, 'proba': 1.0})\n",
      "(17, 45, {'cost': 1, 'proba': 1.0})\n",
      "(18, 20, {'cost': 1, 'proba': 1.0})\n",
      "(18, 21, {'cost': 1, 'proba': 1.0})\n",
      "(18, 25, {'cost': 1, 'proba': 1.0})\n",
      "(18, 39, {'cost': 1, 'proba': 1.0})\n",
      "(18, 44, {'cost': 1, 'proba': 1.0})\n",
      "(18, 45, {'cost': 1, 'proba': 1.0})\n",
      "(18, 48, {'cost': 1, 'proba': 1.0})\n",
      "(19, 25, {'cost': 1, 'proba': 1.0})\n",
      "(19, 35, {'cost': 1, 'proba': 1.0})\n",
      "(20, 39, {'cost': 1, 'proba': 1.0})\n",
      "(21, 24, {'cost': 1, 'proba': 1.0})\n",
      "(21, 35, {'cost': 1, 'proba': 1.0})\n",
      "(21, 41, {'cost': 1, 'proba': 1.0})\n",
      "(21, 44, {'cost': 1, 'proba': 1.0})\n",
      "(21, 45, {'cost': 1, 'proba': 1.0})\n",
      "(22, 43, {'cost': 1, 'proba': 1.0})\n",
      "(23, 27, {'cost': 1, 'proba': 1.0})\n",
      "(24, 41, {'cost': 1, 'proba': 1.0})\n",
      "(24, 43, {'cost': 1, 'proba': 1.0})\n",
      "(24, 44, {'cost': 1, 'proba': 1.0})\n",
      "(25, 35, {'cost': 1, 'proba': 1.0})\n",
      "(26, 36, {'cost': 1, 'proba': 1.0})\n",
      "(26, 44, {'cost': 1, 'proba': 1.0})\n",
      "(27, 49, {'cost': 1, 'proba': 1.0})\n",
      "(28, 29, {'cost': 1, 'proba': 1.0})\n",
      "(28, 33, {'cost': 1, 'proba': 1.0})\n",
      "(30, 46, {'cost': 1, 'proba': 1.0})\n",
      "(30, 48, {'cost': 1, 'proba': 1.0})\n",
      "(33, 42, {'cost': 1, 'proba': 1.0})\n",
      "(36, 44, {'cost': 1, 'proba': 1.0})\n",
      "(37, 47, {'cost': 1, 'proba': 1.0})\n",
      "(39, 45, {'cost': 1, 'proba': 1.0})\n",
      "(41, 43, {'cost': 1, 'proba': 1.0})\n",
      "(41, 44, {'cost': 1, 'proba': 1.0})\n",
      "(44, 45, {'cost': 1, 'proba': 1.0})\n",
      "(46, 48, {'cost': 1, 'proba': 1.0})\n"
     ]
    }
   ],
   "source": [
    "for edge in swarm_plain.graph.edges(data=True):\n",
    "    print(edge)"
   ]
  },
  {
   "cell_type": "code",
   "execution_count": 33,
   "metadata": {},
   "outputs": [
    {
     "data": {
      "text/plain": [
       "0.4401414141414141"
      ]
     },
     "execution_count": 33,
     "metadata": {},
     "output_type": "execute_result"
    }
   ],
   "source": [
    "np.mean(list(swarm_plain.cluster_coef().values()))"
   ]
  },
  {
   "cell_type": "code",
   "execution_count": 34,
   "metadata": {},
   "outputs": [
    {
     "data": {
      "text/plain": [
       "0.3001639166576574"
      ]
     },
     "execution_count": 34,
     "metadata": {},
     "output_type": "execute_result"
    }
   ],
   "source": [
    "np.mean(list(swarm_w.cluster_coef(weight='proba').values()))"
   ]
  },
  {
   "cell_type": "code",
   "execution_count": 35,
   "metadata": {},
   "outputs": [
    {
     "data": {
      "text/plain": [
       "10"
      ]
     },
     "execution_count": 35,
     "metadata": {},
     "output_type": "execute_result"
    }
   ],
   "source": [
    "swarm_plain.degree()[0]"
   ]
  },
  {
   "cell_type": "code",
   "execution_count": 36,
   "metadata": {},
   "outputs": [
    {
     "data": {
      "text/plain": [
       "30"
      ]
     },
     "execution_count": 36,
     "metadata": {},
     "output_type": "execute_result"
    }
   ],
   "source": [
    "swarm_w.degree()[0]"
   ]
  },
  {
   "cell_type": "code",
   "execution_count": 38,
   "metadata": {},
   "outputs": [
    {
     "data": {
      "text/plain": [
       "15.0"
      ]
     },
     "execution_count": 38,
     "metadata": {},
     "output_type": "execute_result"
    }
   ],
   "source": [
    "def strength(swarm): \n",
    "    return [sum([1/cost for cost in node.neighbors.values()]) for node in swarm.nodes]\n",
    "\n",
    "strength(swarm_w)[0]"
   ]
  },
  {
   "cell_type": "code",
   "execution_count": 34,
   "metadata": {},
   "outputs": [
    {
     "name": "stdout",
     "output_type": "stream",
     "text": [
      "7 23 {'cost': 4, 'proba': 0.25}\n",
      "11 23 {'cost': 4, 'proba': 0.25}\n",
      "23 27 {'cost': 1, 'proba': 1.0}\n",
      "23 49 {'cost': 4, 'proba': 0.25}\n"
     ]
    }
   ],
   "source": [
    "for n1, n2, data in swarm.graph.edges(data=True):\n",
    "    if 23 in (n1,n2):\n",
    "        print(n1, n2, data)"
   ]
  },
  {
   "cell_type": "code",
   "execution_count": 21,
   "metadata": {},
   "outputs": [
    {
     "data": {
      "text/plain": [
       "30"
      ]
     },
     "execution_count": 21,
     "metadata": {},
     "output_type": "execute_result"
    }
   ],
   "source": [
    "len(swarm.nodes[0].neighbors)"
   ]
  },
  {
   "cell_type": "code",
   "execution_count": 22,
   "metadata": {},
   "outputs": [],
   "source": [
    "iso = swarm.isolated_nodes()\n",
    "for n in iso:\n",
    "    print(n)"
   ]
  },
  {
   "cell_type": "code",
   "execution_count": 23,
   "metadata": {},
   "outputs": [
    {
     "data": {
      "image/png": "[encoded data removed]",
      "text/plain": [
       "<Figure size 600x600 with 1 Axes>"
      ]
     },
     "metadata": {},
     "output_type": "display_data"
    }
   ],
   "source": [
    "def plot_edges(swarm, n_color='gray', edgecolors=None):\n",
    "    fig = plt.figure(figsize=(6,6))\n",
    "    ax = plt.axes(projection='3d')\n",
    "    ax.set_axis_off()\n",
    "    x_data = [node.x for node in swarm.nodes]\n",
    "    y_data = [node.y for node in swarm.nodes]\n",
    "    z_data = [node.z for node in swarm.nodes]\n",
    "    ax.scatter(x_data, y_data, z_data, c=n_color, edgecolor='black', s=50)\n",
    "    if edgecolors==None:\n",
    "        edgecolors = {1:'blue', 4:'red'}\n",
    "    for n1 in swarm.nodes:\n",
    "        for nid,w in n1.neighbors.items():\n",
    "            n2 = swarm.get_node_by_id(nid)\n",
    "            ax.plot([n1.x, n2.x], [n1.y, n2.y], [n1.z, n2.z], c=edgecolors[w])\n",
    "                \n",
    "plot_edges(swarm)"
   ]
  },
  {
   "cell_type": "code",
   "execution_count": 24,
   "metadata": {},
   "outputs": [
    {
     "name": "stdout",
     "output_type": "stream",
     "text": [
      "Graph with 50 nodes and 485 edges\n"
     ]
    }
   ],
   "source": [
    "def swarm_to_weighted_graph(swarm):\n",
    "    G = nx.Graph()\n",
    "    G.add_nodes_from([n.id for n in swarm.nodes])\n",
    "    visited = []\n",
    "    for node in swarm.nodes:\n",
    "        n1 = node.id\n",
    "        for n2, w in node.neighbors.items():\n",
    "            if n1 != n2 and set((n1, n2)) not in visited:\n",
    "                visited.append((n1,n2))\n",
    "                G.add_edge(n1, n2, weight=w)\n",
    "    return G\n",
    "\n",
    "g = swarm_to_weighted_graph(swarm)\n",
    "print(g)"
   ]
  },
  {
   "cell_type": "code",
   "execution_count": 25,
   "metadata": {},
   "outputs": [
    {
     "name": "stdout",
     "output_type": "stream",
     "text": [
      "ISL weight: 1 SPL: 1\n",
      "ISL weight: 4 SPL: 4\n",
      "ISL weight: 4 SPL: 3\n",
      "ISL weight: 4 SPL: 3\n",
      "ISL weight: 1 SPL: 1\n",
      "ISL weight: 1 SPL: 1\n",
      "ISL weight: 4 SPL: 2\n",
      "ISL weight: 1 SPL: 1\n",
      "ISL weight: 4 SPL: 2\n",
      "ISL weight: 1 SPL: 1\n",
      "ISL weight: 4 SPL: 3\n",
      "ISL weight: 4 SPL: 2\n",
      "ISL weight: 1 SPL: 1\n",
      "ISL weight: 4 SPL: 2\n",
      "ISL weight: 1 SPL: 1\n",
      "ISL weight: 4 SPL: 2\n",
      "ISL weight: 4 SPL: 2\n",
      "ISL weight: 4 SPL: 4\n",
      "ISL weight: 4 SPL: 4\n",
      "ISL weight: 4 SPL: 2\n",
      "ISL weight: 4 SPL: 2\n",
      "ISL weight: 4 SPL: 4\n",
      "ISL weight: 4 SPL: 4\n",
      "ISL weight: 4 SPL: 2\n",
      "ISL weight: 1 SPL: 1\n",
      "ISL weight: 4 SPL: 3\n",
      "ISL weight: 1 SPL: 1\n",
      "ISL weight: 1 SPL: 1\n",
      "ISL weight: 4 SPL: 2\n",
      "ISL weight: 4 SPL: 2\n"
     ]
    }
   ],
   "source": [
    "for n,w in swarm.nodes[0].neighbors.items():\n",
    "    print('ISL weight:', w, 'SPL:', nx.shortest_path_length(g, 0, n, weight='weight'))"
   ]
  },
  {
   "cell_type": "code",
   "execution_count": 26,
   "metadata": {},
   "outputs": [],
   "source": [
    "for node in swarm.nodes:\n",
    "    n1 = node.id\n",
    "    ncopy = dict(node.neighbors)\n",
    "    for n2,w in ncopy.items():\n",
    "        if nx.shortest_path_length(g, n1, n2, weight='weight') < w:\n",
    "            node.remove_neighbor(n2)"
   ]
  },
  {
   "cell_type": "code",
   "execution_count": 27,
   "metadata": {},
   "outputs": [
    {
     "name": "stdout",
     "output_type": "stream",
     "text": [
      "ISL weight: 1 SPL: 1\n",
      "ISL weight: 4 SPL: 4\n",
      "ISL weight: 1 SPL: 1\n",
      "ISL weight: 1 SPL: 1\n",
      "ISL weight: 1 SPL: 1\n",
      "ISL weight: 1 SPL: 1\n",
      "ISL weight: 1 SPL: 1\n",
      "ISL weight: 1 SPL: 1\n",
      "ISL weight: 4 SPL: 4\n",
      "ISL weight: 4 SPL: 4\n",
      "ISL weight: 4 SPL: 4\n",
      "ISL weight: 4 SPL: 4\n",
      "ISL weight: 1 SPL: 1\n",
      "ISL weight: 1 SPL: 1\n",
      "ISL weight: 1 SPL: 1\n"
     ]
    }
   ],
   "source": []
  },
  {
   "cell_type": "code",
   "execution_count": 28,
   "metadata": {},
   "outputs": [
    {
     "data": {
      "image/png": "[encoded data removed]",
      "text/plain": [
       "<Figure size 600x600 with 1 Axes>"
      ]
     },
     "metadata": {},
     "output_type": "display_data"
    }
   ],
   "source": [
    "plot_edges(swarm)"
   ]
  },
  {
   "cell_type": "code",
   "execution_count": 29,
   "metadata": {},
   "outputs": [],
   "source": [
    "for node in swarm.nodes:\n",
    "    n1 = node.id\n",
    "    ncopy = dict(node.neighbors)\n",
    "    for n2,w in ncopy.items():\n",
    "        if nx.shortest_path_length(g, n1, n2, weight='weight') < w:\n",
    "            node.remove_neighbor(n2)\n",
    "        elif len(list(nx.all_shortest_paths(g, n1, n2, weight='weight'))) > 1:\n",
    "            node.remove_neighbor(n2)"
   ]
  },
  {
   "cell_type": "code",
   "execution_count": 30,
   "metadata": {},
   "outputs": [
    {
     "data": {
      "image/png": "[encoded data removed]",
      "text/plain": [
       "<Figure size 600x600 with 1 Axes>"
      ]
     },
     "metadata": {},
     "output_type": "display_data"
    }
   ],
   "source": [
    "plot_edges(swarm)"
   ]
  },
  {
   "cell_type": "code",
   "execution_count": 31,
   "metadata": {},
   "outputs": [
    {
     "name": "stdout",
     "output_type": "stream",
     "text": [
      "Graph with 50 nodes and 184 edges\n"
     ]
    }
   ],
   "source": [
    "g2 = swarm_to_weighted_graph(swarm)\n",
    "print(g2)"
   ]
  },
  {
   "cell_type": "code",
   "execution_count": null,
   "metadata": {},
   "outputs": [],
   "source": []
  }
 ],
 "metadata": {
  "kernelspec": {
   "display_name": ".venv",
   "language": "python",
   "name": "python3"
  },
  "language_info": {
   "codemirror_mode": {
    "name": "ipython",
    "version": 3
   },
   "file_extension": ".py",
   "mimetype": "text/x-python",
   "name": "python",
   "nbconvert_exporter": "python",
   "pygments_lexer": "ipython3",
   "version": "3.9.0"
  }
 },
 "nbformat": 4,
 "nbformat_minor": 2
}
