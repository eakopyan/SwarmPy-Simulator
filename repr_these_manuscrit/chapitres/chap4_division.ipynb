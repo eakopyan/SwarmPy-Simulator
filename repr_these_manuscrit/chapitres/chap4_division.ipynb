{
 "cells": [
  {
   "cell_type": "code",
   "execution_count": 1,
   "metadata": {},
   "outputs": [],
   "source": [
    "import copy\n",
    "import numpy as np\n",
    "import pandas as pd\n",
    "from tqdm import tqdm\n",
    "\n",
    "import matplotlib.pyplot as plt\n",
    "from mpl_toolkits import mplot3d\n",
    "\n",
    "from swarm_sim import *\n",
    "\n",
    "%matplotlib inline "
   ]
  },
  {
   "cell_type": "code",
   "execution_count": 2,
   "metadata": {},
   "outputs": [],
   "source": [
    "NB_NODES = 50\n",
    "DURATION = 10000   # Nb samples\n",
    "REVOLUTION = 1800  # Nb samples\n",
    "SAMPLE_FREQ = 0.1  # Hz, 1 sample every 10 seconds\n",
    "CONNECTION_RANGE = 30000 # m\n",
    "\n",
    "# Variables globales figures\n",
    "TMAX = REVOLUTION/SAMPLE_FREQ\n",
    "IDX = np.arange(0, TMAX, 1/SAMPLE_FREQ) # conversion en secondes"
   ]
  },
  {
   "cell_type": "markdown",
   "metadata": {},
   "source": [
    "## 1. Formattage des données pour l'analyse\n",
    "### 1.1 Importation du dataset"
   ]
  },
  {
   "cell_type": "code",
   "execution_count": 3,
   "metadata": {},
   "outputs": [
    {
     "name": "stderr",
     "output_type": "stream",
     "text": [
      "Extracting data: 100%|██████████| 50/50 [00:09<00:00,  5.55it/s]\n"
     ]
    },
    {
     "data": {
      "text/html": [
       "<div>\n",
       "<style scoped>\n",
       "    .dataframe tbody tr th:only-of-type {\n",
       "        vertical-align: middle;\n",
       "    }\n",
       "\n",
       "    .dataframe tbody tr th {\n",
       "        vertical-align: top;\n",
       "    }\n",
       "\n",
       "    .dataframe thead th {\n",
       "        text-align: right;\n",
       "    }\n",
       "</style>\n",
       "<table border=\"1\" class=\"dataframe\">\n",
       "  <thead>\n",
       "    <tr style=\"text-align: right;\">\n",
       "      <th></th>\n",
       "      <th>0</th>\n",
       "      <th>1</th>\n",
       "      <th>2</th>\n",
       "      <th>3</th>\n",
       "      <th>4</th>\n",
       "      <th>5</th>\n",
       "      <th>6</th>\n",
       "      <th>7</th>\n",
       "      <th>8</th>\n",
       "      <th>9</th>\n",
       "      <th>...</th>\n",
       "      <th>9990</th>\n",
       "      <th>9991</th>\n",
       "      <th>9992</th>\n",
       "      <th>9993</th>\n",
       "      <th>9994</th>\n",
       "      <th>9995</th>\n",
       "      <th>9996</th>\n",
       "      <th>9997</th>\n",
       "      <th>9998</th>\n",
       "      <th>9999</th>\n",
       "    </tr>\n",
       "    <tr>\n",
       "      <th>coords</th>\n",
       "      <th></th>\n",
       "      <th></th>\n",
       "      <th></th>\n",
       "      <th></th>\n",
       "      <th></th>\n",
       "      <th></th>\n",
       "      <th></th>\n",
       "      <th></th>\n",
       "      <th></th>\n",
       "      <th></th>\n",
       "      <th></th>\n",
       "      <th></th>\n",
       "      <th></th>\n",
       "      <th></th>\n",
       "      <th></th>\n",
       "      <th></th>\n",
       "      <th></th>\n",
       "      <th></th>\n",
       "      <th></th>\n",
       "      <th></th>\n",
       "      <th></th>\n",
       "    </tr>\n",
       "  </thead>\n",
       "  <tbody>\n",
       "    <tr>\n",
       "      <th>x</th>\n",
       "      <td>-4.428846e+05</td>\n",
       "      <td>-4.516533e+05</td>\n",
       "      <td>-4.604007e+05</td>\n",
       "      <td>-4.691266e+05</td>\n",
       "      <td>-4.778306e+05</td>\n",
       "      <td>-4.865122e+05</td>\n",
       "      <td>-4.951711e+05</td>\n",
       "      <td>-5.038068e+05</td>\n",
       "      <td>-5.124189e+05</td>\n",
       "      <td>-5.210071e+05</td>\n",
       "      <td>...</td>\n",
       "      <td>1.440812e+06</td>\n",
       "      <td>1.444147e+06</td>\n",
       "      <td>1.447475e+06</td>\n",
       "      <td>1.450795e+06</td>\n",
       "      <td>1.454108e+06</td>\n",
       "      <td>1.457413e+06</td>\n",
       "      <td>1.460711e+06</td>\n",
       "      <td>1.464001e+06</td>\n",
       "      <td>1.467284e+06</td>\n",
       "      <td>1.470559e+06</td>\n",
       "    </tr>\n",
       "    <tr>\n",
       "      <th>y</th>\n",
       "      <td>-7.388676e+05</td>\n",
       "      <td>-7.522884e+05</td>\n",
       "      <td>-7.656739e+05</td>\n",
       "      <td>-7.790237e+05</td>\n",
       "      <td>-7.923370e+05</td>\n",
       "      <td>-8.056132e+05</td>\n",
       "      <td>-8.188518e+05</td>\n",
       "      <td>-8.320520e+05</td>\n",
       "      <td>-8.452134e+05</td>\n",
       "      <td>-8.583352e+05</td>\n",
       "      <td>...</td>\n",
       "      <td>2.329204e+06</td>\n",
       "      <td>2.334225e+06</td>\n",
       "      <td>2.339233e+06</td>\n",
       "      <td>2.344229e+06</td>\n",
       "      <td>2.349213e+06</td>\n",
       "      <td>2.354185e+06</td>\n",
       "      <td>2.359145e+06</td>\n",
       "      <td>2.364092e+06</td>\n",
       "      <td>2.369028e+06</td>\n",
       "      <td>2.373951e+06</td>\n",
       "    </tr>\n",
       "    <tr>\n",
       "      <th>z</th>\n",
       "      <td>-2.011435e+06</td>\n",
       "      <td>-2.004528e+06</td>\n",
       "      <td>-1.997528e+06</td>\n",
       "      <td>-1.990435e+06</td>\n",
       "      <td>-1.983248e+06</td>\n",
       "      <td>-1.975968e+06</td>\n",
       "      <td>-1.968596e+06</td>\n",
       "      <td>-1.961132e+06</td>\n",
       "      <td>-1.953577e+06</td>\n",
       "      <td>-1.945930e+06</td>\n",
       "      <td>...</td>\n",
       "      <td>3.661057e+06</td>\n",
       "      <td>3.655167e+06</td>\n",
       "      <td>3.649258e+06</td>\n",
       "      <td>3.643331e+06</td>\n",
       "      <td>3.637384e+06</td>\n",
       "      <td>3.631419e+06</td>\n",
       "      <td>3.625435e+06</td>\n",
       "      <td>3.619433e+06</td>\n",
       "      <td>3.613412e+06</td>\n",
       "      <td>3.607372e+06</td>\n",
       "    </tr>\n",
       "  </tbody>\n",
       "</table>\n",
       "<p>3 rows × 10000 columns</p>\n",
       "</div>"
      ],
      "text/plain": [
       "                   0             1             2             3             4  \\\n",
       "coords                                                                         \n",
       "x      -4.428846e+05 -4.516533e+05 -4.604007e+05 -4.691266e+05 -4.778306e+05   \n",
       "y      -7.388676e+05 -7.522884e+05 -7.656739e+05 -7.790237e+05 -7.923370e+05   \n",
       "z      -2.011435e+06 -2.004528e+06 -1.997528e+06 -1.990435e+06 -1.983248e+06   \n",
       "\n",
       "                   5             6             7             8             9  \\\n",
       "coords                                                                         \n",
       "x      -4.865122e+05 -4.951711e+05 -5.038068e+05 -5.124189e+05 -5.210071e+05   \n",
       "y      -8.056132e+05 -8.188518e+05 -8.320520e+05 -8.452134e+05 -8.583352e+05   \n",
       "z      -1.975968e+06 -1.968596e+06 -1.961132e+06 -1.953577e+06 -1.945930e+06   \n",
       "\n",
       "        ...          9990          9991          9992          9993  \\\n",
       "coords  ...                                                           \n",
       "x       ...  1.440812e+06  1.444147e+06  1.447475e+06  1.450795e+06   \n",
       "y       ...  2.329204e+06  2.334225e+06  2.339233e+06  2.344229e+06   \n",
       "z       ...  3.661057e+06  3.655167e+06  3.649258e+06  3.643331e+06   \n",
       "\n",
       "                9994          9995          9996          9997          9998  \\\n",
       "coords                                                                         \n",
       "x       1.454108e+06  1.457413e+06  1.460711e+06  1.464001e+06  1.467284e+06   \n",
       "y       2.349213e+06  2.354185e+06  2.359145e+06  2.364092e+06  2.369028e+06   \n",
       "z       3.637384e+06  3.631419e+06  3.625435e+06  3.619433e+06  3.613412e+06   \n",
       "\n",
       "                9999  \n",
       "coords                \n",
       "x       1.470559e+06  \n",
       "y       2.373951e+06  \n",
       "z       3.607372e+06  \n",
       "\n",
       "[3 rows x 10000 columns]"
      ]
     },
     "execution_count": 3,
     "metadata": {},
     "output_type": "execute_result"
    }
   ],
   "source": [
    "PATH = '..\\..\\data\\cnes_swarm50\\\\track_'\n",
    "satellites = {}\n",
    "\n",
    "with tqdm(total=NB_NODES, desc='Extracting data') as pbar:\n",
    "    for i in range(NB_NODES):\n",
    "        df = pd.read_csv(PATH+str(i)+'.csv')\n",
    "        df['coords'] = ['x','y','z']\n",
    "        satellites[i] = df.set_index('coords', drop=True)\n",
    "        pbar.update(1)\n",
    "\n",
    "satellites[0]"
   ]
  },
  {
   "cell_type": "markdown",
   "metadata": {},
   "source": [
    "### 1.2 Conversion en objet Swarm (module swarm_sim)"
   ]
  },
  {
   "cell_type": "code",
   "execution_count": 4,
   "metadata": {},
   "outputs": [
    {
     "name": "stderr",
     "output_type": "stream",
     "text": [
      "Converting to Swarm: 100%|██████████| 1800/1800 [00:05<00:00, 305.32it/s]\n"
     ]
    }
   ],
   "source": [
    "swarm_data = {}\n",
    "\n",
    "with tqdm(total = REVOLUTION, desc = 'Converting to Swarm') as pbar:\n",
    "    for t in range(REVOLUTION):\n",
    "        swarm_data[t] = Swarm(\n",
    "            connection_range=CONNECTION_RANGE, \n",
    "            nodes=[Node(id, node[str(t)].x, node[str(t)].y, node[str(t)].z) for id,node in satellites.items()]\n",
    "            )\n",
    "        pbar.update(1)"
   ]
  },
  {
   "cell_type": "markdown",
   "metadata": {},
   "source": [
    "### 1.3 Création de la topologie : établissement des ISL d'après la portée de connexion"
   ]
  },
  {
   "cell_type": "code",
   "execution_count": 5,
   "metadata": {},
   "outputs": [],
   "source": [
    "# Génération des matrices d'adjacence\n",
    "neighbor_matrix_list = [swarm_data[t].neighbor_matrix(weighted=True) for t in range(REVOLUTION)]"
   ]
  },
  {
   "cell_type": "code",
   "execution_count": 6,
   "metadata": {},
   "outputs": [
    {
     "name": "stderr",
     "output_type": "stream",
     "text": [
      "Création des graphes: 100%|██████████| 1800/1800 [00:17<00:00, 104.83it/s]\n"
     ]
    }
   ],
   "source": [
    "# Création des graphes associés  \n",
    "with tqdm(total=REVOLUTION, desc='Création des graphes') as pbar:\n",
    "    for t in range(REVOLUTION):\n",
    "        swarm_data[t].create_graph()\n",
    "        pbar.update(1)"
   ]
  },
  {
   "cell_type": "code",
   "execution_count": 7,
   "metadata": {},
   "outputs": [
    {
     "name": "stderr",
     "output_type": "stream",
     "text": [
      "Nettoyage des ISL redondants: 100%|██████████| 1800/1800 [06:24<00:00,  4.68it/s]\n"
     ]
    }
   ],
   "source": [
    "# Enlever les ISL trop chers de l'essaim (ceux dont le coût est supérieur au coût du plus court chemin)\n",
    "with tqdm(total = REVOLUTION, desc = 'Nettoyage des ISL redondants') as pbar:\n",
    "    for t in range(REVOLUTION):\n",
    "        swarm_data[t].remove_expensive_edges()\n",
    "        pbar.update(1)"
   ]
  },
  {
   "cell_type": "code",
   "execution_count": 8,
   "metadata": {},
   "outputs": [],
   "source": [
    "def rmse(data, ref=None):\n",
    "    \"\"\"\n",
    "    This function calculates the Root Mean Square Error (RMSE) between the observed distribution and a reference value.\n",
    "\n",
    "    Parameters:\n",
    "    data (list or numpy array): A list or numpy array containing the observed data points.\n",
    "    ref (float, optional): A reference value to compare the observed distribution with. Defaults to the mean of the observed data.\n",
    "\n",
    "    Returns:\n",
    "    float: The RMSE value, which represents the standard deviation of the differences between the observed data and the reference value.\n",
    "\n",
    "    Example:\n",
    "    >>> data = [1, 2, 3, 4, 5]\n",
    "    >>> ref = 3\n",
    "    >>> rmse(data, ref)\n",
    "    0.8164965809277461\n",
    "    \"\"\"\n",
    "    if ref is None:\n",
    "        ref = np.mean(data)\n",
    "    errors = [(e - ref) ** 2 for e in data]\n",
    "    ratio = sum(errors) / len(data)\n",
    "    return np.sqrt(ratio)"
   ]
  },
  {
   "cell_type": "code",
   "execution_count": 9,
   "metadata": {},
   "outputs": [
    {
     "data": {
      "text/plain": [
       "[10.75,\n",
       " 8.75,\n",
       " 2.0,\n",
       " 1.75,\n",
       " 7.0,\n",
       " 1.75,\n",
       " 7.0,\n",
       " 1.75,\n",
       " 1.5,\n",
       " 6.5,\n",
       " 5.5,\n",
       " 3.75,\n",
       " 10.5,\n",
       " 4.0,\n",
       " 9.5,\n",
       " 3.25,\n",
       " 5.5,\n",
       " 4.0,\n",
       " 11.5,\n",
       " 3.5,\n",
       " 3.25,\n",
       " 11.0,\n",
       " 1.75,\n",
       " 1.5,\n",
       " 7.25,\n",
       " 6.25,\n",
       " 4.25,\n",
       " 2.0,\n",
       " 4.0,\n",
       " 3.0,\n",
       " 4.0,\n",
       " 1.0,\n",
       " 2.75,\n",
       " 5.25,\n",
       " 2.75,\n",
       " 5.0,\n",
       " 4.0,\n",
       " 6.25,\n",
       " 5.25,\n",
       " 7.0,\n",
       " 3.25,\n",
       " 8.75,\n",
       " 4.0,\n",
       " 6.0,\n",
       " 10.5,\n",
       " 7.25,\n",
       " 3.5,\n",
       " 5.0,\n",
       " 5.75,\n",
       " 1.0]"
      ]
     },
     "execution_count": 9,
     "metadata": {},
     "output_type": "execute_result"
    }
   ],
   "source": [
    "swarm = swarm_data[0]\n",
    "strength_ref = swarm.strength()\n",
    "strength_ref"
   ]
  },
  {
   "cell_type": "code",
   "execution_count": 11,
   "metadata": {},
   "outputs": [],
   "source": [
    "def RND(swarm, n=10, s=1):\n",
    "    \"\"\"\n",
    "    This function assigns each node in the swarm to a random group.\n",
    "\n",
    "    Parameters:\n",
    "    n (int, optional): The number of groups to create. Defaults to 10.\n",
    "    s (int, optional): A random seed for the random group assignment. Defaults to 1.\n",
    "\n",
    "    Returns:\n",
    "    dict: A dictionary where the keys are the group IDs and the values are lists of node IDs.\n",
    "    \"\"\"\n",
    "    groups = {}  \n",
    "    for i, node in enumerate(swarm.nodes):\n",
    "        node.random_group(range(n), s * i)\n",
    "    for group_id in range(n):\n",
    "        groups[group_id] = [node.id for node in swarm.nodes if node.group == group_id]\n",
    "    return groups"
   ]
  },
  {
   "cell_type": "code",
   "execution_count": 12,
   "metadata": {},
   "outputs": [
    {
     "data": {
      "text/plain": [
       "{0: [2, 19, 31, 43],\n",
       " 1: [14, 28, 32, 42, 46, 49],\n",
       " 2: [1, 18, 20, 21, 22],\n",
       " 3: [3, 4, 8, 15, 26, 39],\n",
       " 4: [13, 23, 45],\n",
       " 5: [7, 16, 36, 47],\n",
       " 6: [0, 24, 25, 38, 41, 44],\n",
       " 7: [9, 11, 12, 27, 40],\n",
       " 8: [17, 29, 30, 34, 35, 48],\n",
       " 9: [5, 6, 10, 33, 37]}"
      ]
     },
     "execution_count": 12,
     "metadata": {},
     "output_type": "execute_result"
    }
   ],
   "source": [
    "RND(swarm)"
   ]
  },
  {
   "cell_type": "code",
   "execution_count": 64,
   "metadata": {},
   "outputs": [],
   "source": [
    "def MIRW(self, n=10, s=1):\n",
    "    \"\"\"\n",
    "    This function assigns each node in the swarm to a random group by following the Multiple Independent Random Walks (MIRW) algorithm.\n",
    "\n",
    "    Parameters:\n",
    "    n (int, optional): The number of groups to create. Defaults to 10.\n",
    "    s (int, optional): A random seed for the random group assignment. Defaults to 1.\n",
    "\n",
    "    Returns:\n",
    "    dict: A dictionary where the keys are the group IDs and the values are lists of node IDs.\n",
    "\n",
    "    Example:\n",
    "    >>> swarm = Swarm(...)  # Initialize a swarm object\n",
    "    >>> groups = swarm.MIRW(n=10, s=1)\n",
    "    >>> print(groups)\n",
    "    {0: [1, 2, 3], 1: [4, 5, 6], 2: [7, 8, 9], 3: [10, 11, 12], 4: [13, 14, 15], 5: [16, 17, 18], 6: [19, 20, 21], 7: [22, 23, 24], 8: [25, 26, 27], 9: [28, 29, 30]}\n",
    "    \"\"\"\n",
    "    sources = sample(self.nodes, n) # Initial random sources\n",
    "    groups = {} # Dict(group ID:list(Node ID))\n",
    "    for group_id, src in enumerate(sources): # Initialize swarms\n",
    "        src.set_group(group_id)\n",
    "        groups[group_id] = [src.id]\n",
    "    free_nodes = [n.id for n in self.nodes if n.group==-1]\n",
    "    while free_nodes: # Spread paths\n",
    "        for group_id in groups.keys():\n",
    "            nid1 = groups[group_id][-1] # Current node\n",
    "            n1 = self.get_node_by_id(nid1)\n",
    "            free_neighbors = list(set(free_nodes).intersection(n1.neighbors.keys()))\n",
    "            if free_neighbors: # At least one unassigned neighbor\n",
    "                nid2 = random_node(search_list=free_neighbors, s=s*group_id) # Next node\n",
    "            else:\n",
    "                if free_nodes == []:\n",
    "                    break\n",
    "                nid2 = random_node(search_list=free_nodes) # If no neighbor, perform random jump in the graph\n",
    "            n2 = self.get_node_by_id(nid2)\n",
    "            n2.set_group(n1.group)\n",
    "            groups[group_id].append(nid2)\n",
    "            free_nodes.remove(nid2)\n",
    "    return groups\n",
    "\n",
    "\n",
    "\n",
    "def random_node(search_list, s=1):\n",
    "    seed(s)\n",
    "    return choice(search_list)\n",
    "    "
   ]
  },
  {
   "cell_type": "code",
   "execution_count": 65,
   "metadata": {},
   "outputs": [
    {
     "data": {
      "text/plain": [
       "{0: [36, 44, 18, 21, 45],\n",
       " 1: [48, 1, 37, 35, 20],\n",
       " 2: [4, 33, 42, 17, 15],\n",
       " 3: [16, 32, 2, 12, 0],\n",
       " 4: [7, 40, 9, 11, 34],\n",
       " 5: [31, 6, 47, 19, 26],\n",
       " 6: [28, 29, 13, 8, 27],\n",
       " 7: [30, 5, 46, 14, 39],\n",
       " 8: [41, 10, 25, 3, 23],\n",
       " 9: [24, 43, 38, 22, 49]}"
      ]
     },
     "execution_count": 65,
     "metadata": {},
     "output_type": "execute_result"
    }
   ],
   "source": [
    "swarm.reset_groups()\n",
    "MIRW(swarm)"
   ]
  },
  {
   "cell_type": "code",
   "execution_count": 70,
   "metadata": {},
   "outputs": [],
   "source": [
    "def FFD(self, n=10, p=0.7, s=1):\n",
    "    \"\"\"\n",
    "    This function assigns each node in the swarm to a group using the Forest Fire Division (FFD) algorithm.\n",
    "\n",
    "    Parameters:\n",
    "    n (int, optional): The number of groups to create. Defaults to 10.\n",
    "    p (float, optional): The fire spreading probability. Defaults to 0.7.\n",
    "    s (int, optional): A random seed for the random group assignment. Defaults to 1.\n",
    "\n",
    "    Returns:\n",
    "    dict: A dictionary where the keys are the group IDs and the values are lists of node IDs.\n",
    "    \"\"\"\n",
    "    sources = sample(self.nodes, n) # Initial random sources\n",
    "    groups = {} # Dict(group ID:list(Node ID))\n",
    "    for group_id,src in enumerate(sources): # Initialize swarms\n",
    "        src.set_group(group_id)\n",
    "        groups[group_id] = [src.id]\n",
    "    free_nodes = [n.id for n in self.nodes if n.group==-1]\n",
    "    burning_nodes = sources\n",
    "    next_nodes = []\n",
    "    while free_nodes: # Spread paths from each burning node in parallel\n",
    "        for bn in burning_nodes:\n",
    "            if not free_nodes:\n",
    "                break\n",
    "            free_neighbors = list(set(free_nodes).intersection(bn.neighbors.keys()))\n",
    "            if free_neighbors: # At least one unassigned neighbor\n",
    "                nodes = proba_nodes(search_list=free_neighbors, proba=p, s=s) # Next node(s)\n",
    "                for nid in nodes:\n",
    "                    n = self.get_node_by_id(nid)\n",
    "                    n.set_group(bn.group)\n",
    "                    groups[bn.group].append(nid)\n",
    "                    free_nodes.remove(nid)\n",
    "                    next_nodes.append(n)\n",
    "            else:\n",
    "                nid = random_node(search_list=free_nodes) # If no neighbor, perform random jump in the graphn.set_group(bn.group)\n",
    "                n = self.get_node_by_id(nid)\n",
    "                n.set_group(bn.group)\n",
    "                groups[bn.group].append(nid)\n",
    "                free_nodes.remove(nid)\n",
    "                next_nodes.append(n)\n",
    "        burning_nodes = next_nodes\n",
    "    return groups\n",
    "\n",
    "\n",
    "\n",
    "def proba_nodes(search_list, proba=0.7, s=1):\n",
    "    seed(s)\n",
    "    trial = binomial(1, proba, len(search_list))\n",
    "    nodes = [n for i,n in enumerate(search_list) if trial[i]==1] # Select the nodes that obtained a success above\n",
    "    return nodes"
   ]
  },
  {
   "cell_type": "code",
   "execution_count": 84,
   "metadata": {},
   "outputs": [
    {
     "data": {
      "text/plain": [
       "{0: [36, 11, 44, 14, 9, 34, 18, 26, 45],\n",
       " 1: [48, 32, 38, 46, 1, 8, 22, 17],\n",
       " 2: [4, 6, 10, 42, 43, 25, 29, 47, 19, 35, 15, 20],\n",
       " 3: [16, 37, 27],\n",
       " 4: [7, 40, 23, 3, 39],\n",
       " 5: [31, 5, 49],\n",
       " 6: [28, 33, 13],\n",
       " 7: [30, 2],\n",
       " 8: [41, 0, 12],\n",
       " 9: [24, 21]}"
      ]
     },
     "execution_count": 84,
     "metadata": {},
     "output_type": "execute_result"
    }
   ],
   "source": [
    "swarm.reset_groups()\n",
    "FFD(swarm, p=0.7)"
   ]
  }
 ],
 "metadata": {
  "kernelspec": {
   "display_name": ".venv",
   "language": "python",
   "name": "python3"
  },
  "language_info": {
   "codemirror_mode": {
    "name": "ipython",
    "version": 3
   },
   "file_extension": ".py",
   "mimetype": "text/x-python",
   "name": "python",
   "nbconvert_exporter": "python",
   "pygments_lexer": "ipython3",
   "version": "3.9.0"
  }
 },
 "nbformat": 4,
 "nbformat_minor": 2
}
