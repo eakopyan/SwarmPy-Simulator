{
 "cells": [
  {
   "cell_type": "code",
   "execution_count": 1,
   "metadata": {},
   "outputs": [],
   "source": [
    "import copy\n",
    "import numpy as np\n",
    "import pandas as pd\n",
    "from tqdm import tqdm\n",
    "\n",
    "import matplotlib.pyplot as plt\n",
    "from mpl_toolkits import mplot3d\n",
    "\n",
    "from swarm_sim import *\n",
    "\n",
    "%matplotlib inline "
   ]
  },
  {
   "cell_type": "code",
   "execution_count": 2,
   "metadata": {},
   "outputs": [],
   "source": [
    "NB_NODES = 50\n",
    "DURATION = 10000   # Nb samples\n",
    "REVOLUTION = 1800  # Nb samples\n",
    "SAMPLE_FREQ = 0.1  # Hz, 1 sample every 10 seconds\n",
    "CONNECTION_RANGE = 30000 # m\n",
    "\n",
    "# Variables globales figures\n",
    "TMAX = REVOLUTION/SAMPLE_FREQ\n",
    "IDX = np.arange(0, TMAX, 1/SAMPLE_FREQ) # conversion en secondes"
   ]
  },
  {
   "cell_type": "markdown",
   "metadata": {},
   "source": [
    "## 1. Formattage des données pour l'analyse\n",
    "### 1.1 Importation du dataset"
   ]
  },
  {
   "cell_type": "code",
   "execution_count": 3,
   "metadata": {},
   "outputs": [
    {
     "name": "stderr",
     "output_type": "stream",
     "text": [
      "Extracting data: 100%|██████████| 50/50 [00:09<00:00,  5.55it/s]\n"
     ]
    },
    {
     "data": {
      "text/html": [
       "<div>\n",
       "<style scoped>\n",
       "    .dataframe tbody tr th:only-of-type {\n",
       "        vertical-align: middle;\n",
       "    }\n",
       "\n",
       "    .dataframe tbody tr th {\n",
       "        vertical-align: top;\n",
       "    }\n",
       "\n",
       "    .dataframe thead th {\n",
       "        text-align: right;\n",
       "    }\n",
       "</style>\n",
       "<table border=\"1\" class=\"dataframe\">\n",
       "  <thead>\n",
       "    <tr style=\"text-align: right;\">\n",
       "      <th></th>\n",
       "      <th>0</th>\n",
       "      <th>1</th>\n",
       "      <th>2</th>\n",
       "      <th>3</th>\n",
       "      <th>4</th>\n",
       "      <th>5</th>\n",
       "      <th>6</th>\n",
       "      <th>7</th>\n",
       "      <th>8</th>\n",
       "      <th>9</th>\n",
       "      <th>...</th>\n",
       "      <th>9990</th>\n",
       "      <th>9991</th>\n",
       "      <th>9992</th>\n",
       "      <th>9993</th>\n",
       "      <th>9994</th>\n",
       "      <th>9995</th>\n",
       "      <th>9996</th>\n",
       "      <th>9997</th>\n",
       "      <th>9998</th>\n",
       "      <th>9999</th>\n",
       "    </tr>\n",
       "    <tr>\n",
       "      <th>coords</th>\n",
       "      <th></th>\n",
       "      <th></th>\n",
       "      <th></th>\n",
       "      <th></th>\n",
       "      <th></th>\n",
       "      <th></th>\n",
       "      <th></th>\n",
       "      <th></th>\n",
       "      <th></th>\n",
       "      <th></th>\n",
       "      <th></th>\n",
       "      <th></th>\n",
       "      <th></th>\n",
       "      <th></th>\n",
       "      <th></th>\n",
       "      <th></th>\n",
       "      <th></th>\n",
       "      <th></th>\n",
       "      <th></th>\n",
       "      <th></th>\n",
       "      <th></th>\n",
       "    </tr>\n",
       "  </thead>\n",
       "  <tbody>\n",
       "    <tr>\n",
       "      <th>x</th>\n",
       "      <td>-4.428846e+05</td>\n",
       "      <td>-4.516533e+05</td>\n",
       "      <td>-4.604007e+05</td>\n",
       "      <td>-4.691266e+05</td>\n",
       "      <td>-4.778306e+05</td>\n",
       "      <td>-4.865122e+05</td>\n",
       "      <td>-4.951711e+05</td>\n",
       "      <td>-5.038068e+05</td>\n",
       "      <td>-5.124189e+05</td>\n",
       "      <td>-5.210071e+05</td>\n",
       "      <td>...</td>\n",
       "      <td>1.440812e+06</td>\n",
       "      <td>1.444147e+06</td>\n",
       "      <td>1.447475e+06</td>\n",
       "      <td>1.450795e+06</td>\n",
       "      <td>1.454108e+06</td>\n",
       "      <td>1.457413e+06</td>\n",
       "      <td>1.460711e+06</td>\n",
       "      <td>1.464001e+06</td>\n",
       "      <td>1.467284e+06</td>\n",
       "      <td>1.470559e+06</td>\n",
       "    </tr>\n",
       "    <tr>\n",
       "      <th>y</th>\n",
       "      <td>-7.388676e+05</td>\n",
       "      <td>-7.522884e+05</td>\n",
       "      <td>-7.656739e+05</td>\n",
       "      <td>-7.790237e+05</td>\n",
       "      <td>-7.923370e+05</td>\n",
       "      <td>-8.056132e+05</td>\n",
       "      <td>-8.188518e+05</td>\n",
       "      <td>-8.320520e+05</td>\n",
       "      <td>-8.452134e+05</td>\n",
       "      <td>-8.583352e+05</td>\n",
       "      <td>...</td>\n",
       "      <td>2.329204e+06</td>\n",
       "      <td>2.334225e+06</td>\n",
       "      <td>2.339233e+06</td>\n",
       "      <td>2.344229e+06</td>\n",
       "      <td>2.349213e+06</td>\n",
       "      <td>2.354185e+06</td>\n",
       "      <td>2.359145e+06</td>\n",
       "      <td>2.364092e+06</td>\n",
       "      <td>2.369028e+06</td>\n",
       "      <td>2.373951e+06</td>\n",
       "    </tr>\n",
       "    <tr>\n",
       "      <th>z</th>\n",
       "      <td>-2.011435e+06</td>\n",
       "      <td>-2.004528e+06</td>\n",
       "      <td>-1.997528e+06</td>\n",
       "      <td>-1.990435e+06</td>\n",
       "      <td>-1.983248e+06</td>\n",
       "      <td>-1.975968e+06</td>\n",
       "      <td>-1.968596e+06</td>\n",
       "      <td>-1.961132e+06</td>\n",
       "      <td>-1.953577e+06</td>\n",
       "      <td>-1.945930e+06</td>\n",
       "      <td>...</td>\n",
       "      <td>3.661057e+06</td>\n",
       "      <td>3.655167e+06</td>\n",
       "      <td>3.649258e+06</td>\n",
       "      <td>3.643331e+06</td>\n",
       "      <td>3.637384e+06</td>\n",
       "      <td>3.631419e+06</td>\n",
       "      <td>3.625435e+06</td>\n",
       "      <td>3.619433e+06</td>\n",
       "      <td>3.613412e+06</td>\n",
       "      <td>3.607372e+06</td>\n",
       "    </tr>\n",
       "  </tbody>\n",
       "</table>\n",
       "<p>3 rows × 10000 columns</p>\n",
       "</div>"
      ],
      "text/plain": [
       "                   0             1             2             3             4  \\\n",
       "coords                                                                         \n",
       "x      -4.428846e+05 -4.516533e+05 -4.604007e+05 -4.691266e+05 -4.778306e+05   \n",
       "y      -7.388676e+05 -7.522884e+05 -7.656739e+05 -7.790237e+05 -7.923370e+05   \n",
       "z      -2.011435e+06 -2.004528e+06 -1.997528e+06 -1.990435e+06 -1.983248e+06   \n",
       "\n",
       "                   5             6             7             8             9  \\\n",
       "coords                                                                         \n",
       "x      -4.865122e+05 -4.951711e+05 -5.038068e+05 -5.124189e+05 -5.210071e+05   \n",
       "y      -8.056132e+05 -8.188518e+05 -8.320520e+05 -8.452134e+05 -8.583352e+05   \n",
       "z      -1.975968e+06 -1.968596e+06 -1.961132e+06 -1.953577e+06 -1.945930e+06   \n",
       "\n",
       "        ...          9990          9991          9992          9993  \\\n",
       "coords  ...                                                           \n",
       "x       ...  1.440812e+06  1.444147e+06  1.447475e+06  1.450795e+06   \n",
       "y       ...  2.329204e+06  2.334225e+06  2.339233e+06  2.344229e+06   \n",
       "z       ...  3.661057e+06  3.655167e+06  3.649258e+06  3.643331e+06   \n",
       "\n",
       "                9994          9995          9996          9997          9998  \\\n",
       "coords                                                                         \n",
       "x       1.454108e+06  1.457413e+06  1.460711e+06  1.464001e+06  1.467284e+06   \n",
       "y       2.349213e+06  2.354185e+06  2.359145e+06  2.364092e+06  2.369028e+06   \n",
       "z       3.637384e+06  3.631419e+06  3.625435e+06  3.619433e+06  3.613412e+06   \n",
       "\n",
       "                9999  \n",
       "coords                \n",
       "x       1.470559e+06  \n",
       "y       2.373951e+06  \n",
       "z       3.607372e+06  \n",
       "\n",
       "[3 rows x 10000 columns]"
      ]
     },
     "execution_count": 3,
     "metadata": {},
     "output_type": "execute_result"
    }
   ],
   "source": [
    "PATH = '..\\..\\data\\cnes_swarm50\\\\track_'\n",
    "satellites = {}\n",
    "\n",
    "with tqdm(total=NB_NODES, desc='Extracting data') as pbar:\n",
    "    for i in range(NB_NODES):\n",
    "        df = pd.read_csv(PATH+str(i)+'.csv')\n",
    "        df['coords'] = ['x','y','z']\n",
    "        satellites[i] = df.set_index('coords', drop=True)\n",
    "        pbar.update(1)\n",
    "\n",
    "satellites[0]"
   ]
  },
  {
   "cell_type": "markdown",
   "metadata": {},
   "source": [
    "### 1.2 Conversion en objet Swarm (module swarm_sim)"
   ]
  },
  {
   "cell_type": "code",
   "execution_count": 4,
   "metadata": {},
   "outputs": [
    {
     "name": "stderr",
     "output_type": "stream",
     "text": [
      "Converting to Swarm: 100%|██████████| 1800/1800 [00:05<00:00, 305.32it/s]\n"
     ]
    }
   ],
   "source": [
    "swarm_data = {}\n",
    "\n",
    "with tqdm(total = REVOLUTION, desc = 'Converting to Swarm') as pbar:\n",
    "    for t in range(REVOLUTION):\n",
    "        swarm_data[t] = Swarm(\n",
    "            connection_range=CONNECTION_RANGE, \n",
    "            nodes=[Node(id, node[str(t)].x, node[str(t)].y, node[str(t)].z) for id,node in satellites.items()]\n",
    "            )\n",
    "        pbar.update(1)"
   ]
  },
  {
   "cell_type": "markdown",
   "metadata": {},
   "source": [
    "### 1.3 Création de la topologie : établissement des ISL d'après la portée de connexion"
   ]
  },
  {
   "cell_type": "code",
   "execution_count": 5,
   "metadata": {},
   "outputs": [],
   "source": [
    "# Génération des matrices d'adjacence\n",
    "neighbor_matrix_list = [swarm_data[t].neighbor_matrix(weighted=True) for t in range(REVOLUTION)]"
   ]
  },
  {
   "cell_type": "code",
   "execution_count": 6,
   "metadata": {},
   "outputs": [
    {
     "name": "stderr",
     "output_type": "stream",
     "text": [
      "Création des graphes: 100%|██████████| 1800/1800 [00:17<00:00, 104.83it/s]\n"
     ]
    }
   ],
   "source": [
    "# Création des graphes associés  \n",
    "with tqdm(total=REVOLUTION, desc='Création des graphes') as pbar:\n",
    "    for t in range(REVOLUTION):\n",
    "        swarm_data[t].create_graph()\n",
    "        pbar.update(1)"
   ]
  },
  {
   "cell_type": "code",
   "execution_count": 7,
   "metadata": {},
   "outputs": [
    {
     "name": "stderr",
     "output_type": "stream",
     "text": [
      "Nettoyage des ISL redondants: 100%|██████████| 1800/1800 [06:24<00:00,  4.68it/s]\n"
     ]
    }
   ],
   "source": [
    "# Enlever les ISL trop chers de l'essaim (ceux dont le coût est supérieur au coût du plus court chemin)\n",
    "with tqdm(total = REVOLUTION, desc = 'Nettoyage des ISL redondants') as pbar:\n",
    "    for t in range(REVOLUTION):\n",
    "        swarm_data[t].remove_expensive_edges()\n",
    "        pbar.update(1)"
   ]
  },
  {
   "cell_type": "code",
   "execution_count": 8,
   "metadata": {},
   "outputs": [],
   "source": [
    "def rmse(data, ref=None):\n",
    "    \"\"\"\n",
    "    This function calculates the Root Mean Square Error (RMSE) between the observed distribution and a reference value.\n",
    "\n",
    "    Parameters:\n",
    "    data (list or numpy array): A list or numpy array containing the observed data points.\n",
    "    ref (float, optional): A reference value to compare the observed distribution with. Defaults to the mean of the observed data.\n",
    "\n",
    "    Returns:\n",
    "    float: The RMSE value, which represents the standard deviation of the differences between the observed data and the reference value.\n",
    "\n",
    "    Example:\n",
    "    >>> data = [1, 2, 3, 4, 5]\n",
    "    >>> ref = 3\n",
    "    >>> rmse(data, ref)\n",
    "    0.8164965809277461\n",
    "    \"\"\"\n",
    "    if ref is None:\n",
    "        ref = np.mean(data)\n",
    "    errors = [(e - ref) ** 2 for e in data]\n",
    "    ratio = sum(errors) / len(data)\n",
    "    return np.sqrt(ratio)"
   ]
  },
  {
   "cell_type": "code",
   "execution_count": 88,
   "metadata": {},
   "outputs": [],
   "source": [
    "swarm = swarm_data[0]"
   ]
  },
  {
   "cell_type": "code",
   "execution_count": 11,
   "metadata": {},
   "outputs": [],
   "source": [
    "def RND(swarm, n=10, s=1):\n",
    "    \"\"\"\n",
    "    This function assigns each node in the swarm to a random group.\n",
    "\n",
    "    Parameters:\n",
    "    n (int, optional): The number of groups to create. Defaults to 10.\n",
    "    s (int, optional): A random seed for the random group assignment. Defaults to 1.\n",
    "\n",
    "    Returns:\n",
    "    dict: A dictionary where the keys are the group IDs and the values are lists of node IDs.\n",
    "    \"\"\"\n",
    "    groups = {}  \n",
    "    for i, node in enumerate(swarm.nodes):\n",
    "        node.random_group(range(n), s * i)\n",
    "    for group_id in range(n):\n",
    "        groups[group_id] = [node.id for node in swarm.nodes if node.group == group_id]\n",
    "    return groups"
   ]
  },
  {
   "cell_type": "code",
   "execution_count": 89,
   "metadata": {},
   "outputs": [
    {
     "data": {
      "text/plain": [
       "{0: [2, 19, 31, 43],\n",
       " 1: [14, 28, 32, 42, 46, 49],\n",
       " 2: [1, 18, 20, 21, 22],\n",
       " 3: [3, 4, 8, 15, 26, 39],\n",
       " 4: [13, 23, 45],\n",
       " 5: [7, 16, 36, 47],\n",
       " 6: [0, 24, 25, 38, 41, 44],\n",
       " 7: [9, 11, 12, 27, 40],\n",
       " 8: [17, 29, 30, 34, 35, 48],\n",
       " 9: [5, 6, 10, 33, 37]}"
      ]
     },
     "execution_count": 89,
     "metadata": {},
     "output_type": "execute_result"
    }
   ],
   "source": [
    "RND(swarm)"
   ]
  },
  {
   "cell_type": "code",
   "execution_count": 64,
   "metadata": {},
   "outputs": [],
   "source": [
    "def MIRW(self, n=10, s=1):\n",
    "    \"\"\"\n",
    "    This function assigns each node in the swarm to a random group by following the Multiple Independent Random Walks (MIRW) algorithm.\n",
    "\n",
    "    Parameters:\n",
    "    n (int, optional): The number of groups to create. Defaults to 10.\n",
    "    s (int, optional): A random seed for the random group assignment. Defaults to 1.\n",
    "\n",
    "    Returns:\n",
    "    dict: A dictionary where the keys are the group IDs and the values are lists of node IDs.\n",
    "\n",
    "    Example:\n",
    "    >>> swarm = Swarm(...)  # Initialize a swarm object\n",
    "    >>> groups = swarm.MIRW(n=10, s=1)\n",
    "    >>> print(groups)\n",
    "    {0: [1, 2, 3], 1: [4, 5, 6], 2: [7, 8, 9], 3: [10, 11, 12], 4: [13, 14, 15], 5: [16, 17, 18], 6: [19, 20, 21], 7: [22, 23, 24], 8: [25, 26, 27], 9: [28, 29, 30]}\n",
    "    \"\"\"\n",
    "    sources = sample(self.nodes, n) # Initial random sources\n",
    "    groups = {} # Dict(group ID:list(Node ID))\n",
    "    for group_id, src in enumerate(sources): # Initialize swarms\n",
    "        src.set_group(group_id)\n",
    "        groups[group_id] = [src.id]\n",
    "    free_nodes = [n.id for n in self.nodes if n.group==-1]\n",
    "    while free_nodes: # Spread paths\n",
    "        for group_id in groups.keys():\n",
    "            nid1 = groups[group_id][-1] # Current node\n",
    "            n1 = self.get_node_by_id(nid1)\n",
    "            free_neighbors = list(set(free_nodes).intersection(n1.neighbors.keys()))\n",
    "            if free_neighbors: # At least one unassigned neighbor\n",
    "                nid2 = random_node(search_list=free_neighbors, s=s*group_id) # Next node\n",
    "            else:\n",
    "                if free_nodes == []:\n",
    "                    break\n",
    "                nid2 = random_node(search_list=free_nodes) # If no neighbor, perform random jump in the graph\n",
    "            n2 = self.get_node_by_id(nid2)\n",
    "            n2.set_group(n1.group)\n",
    "            groups[group_id].append(nid2)\n",
    "            free_nodes.remove(nid2)\n",
    "    return groups\n",
    "\n",
    "\n",
    "\n",
    "def random_node(search_list, s=1):\n",
    "    seed(s)\n",
    "    return choice(search_list)\n",
    "    "
   ]
  },
  {
   "cell_type": "code",
   "execution_count": 99,
   "metadata": {},
   "outputs": [
    {
     "data": {
      "text/plain": [
       "{0: [22, 38, 12, 44, 41],\n",
       " 1: [26, 36, 11, 34, 23],\n",
       " 2: [7, 40, 48, 14, 39],\n",
       " 3: [20, 18, 1, 0, 43],\n",
       " 4: [35, 37, 10, 25, 4],\n",
       " 5: [32, 16, 47, 6, 31],\n",
       " 6: [3, 19, 33, 28, 27],\n",
       " 7: [2, 30, 5, 15, 42],\n",
       " 8: [17, 45, 21, 24, 8],\n",
       " 9: [9, 46, 13, 29, 49]}"
      ]
     },
     "execution_count": 99,
     "metadata": {},
     "output_type": "execute_result"
    }
   ],
   "source": [
    "swarm.reset_groups()\n",
    "MIRW(swarm)"
   ]
  },
  {
   "cell_type": "code",
   "execution_count": 70,
   "metadata": {},
   "outputs": [],
   "source": [
    "def FFD(self, n=10, p=0.7, s=1):\n",
    "    \"\"\"\n",
    "    This function assigns each node in the swarm to a group using the Forest Fire Division (FFD) algorithm.\n",
    "\n",
    "    Parameters:\n",
    "    n (int, optional): The number of groups to create. Defaults to 10.\n",
    "    p (float, optional): The fire spreading probability. Defaults to 0.7.\n",
    "    s (int, optional): A random seed for the random group assignment. Defaults to 1.\n",
    "\n",
    "    Returns:\n",
    "    dict: A dictionary where the keys are the group IDs and the values are lists of node IDs.\n",
    "    \"\"\"\n",
    "    sources = sample(self.nodes, n) # Initial random sources\n",
    "    groups = {} # Dict(group ID:list(Node ID))\n",
    "    for group_id,src in enumerate(sources): # Initialize swarms\n",
    "        src.set_group(group_id)\n",
    "        groups[group_id] = [src.id]\n",
    "    free_nodes = [n.id for n in self.nodes if n.group==-1]\n",
    "    burning_nodes = sources\n",
    "    next_nodes = []\n",
    "    while free_nodes: # Spread paths from each burning node in parallel\n",
    "        for bn in burning_nodes:\n",
    "            if not free_nodes:\n",
    "                break\n",
    "            free_neighbors = list(set(free_nodes).intersection(bn.neighbors.keys()))\n",
    "            if free_neighbors: # At least one unassigned neighbor\n",
    "                nodes = proba_nodes(search_list=free_neighbors, proba=p, s=s) # Next node(s)\n",
    "                for nid in nodes:\n",
    "                    n = self.get_node_by_id(nid)\n",
    "                    n.set_group(bn.group)\n",
    "                    groups[bn.group].append(nid)\n",
    "                    free_nodes.remove(nid)\n",
    "                    next_nodes.append(n)\n",
    "            else:\n",
    "                nid = random_node(search_list=free_nodes) # If no neighbor, perform random jump in the graphn.set_group(bn.group)\n",
    "                n = self.get_node_by_id(nid)\n",
    "                n.set_group(bn.group)\n",
    "                groups[bn.group].append(nid)\n",
    "                free_nodes.remove(nid)\n",
    "                next_nodes.append(n)\n",
    "        burning_nodes = next_nodes\n",
    "    return groups\n",
    "\n",
    "\n",
    "\n",
    "def proba_nodes(search_list, proba=0.7, s=1):\n",
    "    seed(s)\n",
    "    trial = binomial(1, proba, len(search_list))\n",
    "    nodes = [n for i,n in enumerate(search_list) if trial[i]==1] # Select the nodes that obtained a success above\n",
    "    return nodes"
   ]
  },
  {
   "cell_type": "code",
   "execution_count": 87,
   "metadata": {},
   "outputs": [
    {
     "data": {
      "text/plain": [
       "{0: [36, 34, 38, 11, 44, 14, 26, 15, 1, 8, 12, 18, 22, 20, 45, 27],\n",
       " 1: [48, 32, 9, 17, 39],\n",
       " 2: [4, 33, 37, 6, 10, 47, 19, 25, 42, 35, 3, 46, 49],\n",
       " 3: [16, 43],\n",
       " 4: [7, 40, 23],\n",
       " 5: [31, 5],\n",
       " 6: [28, 29, 13],\n",
       " 7: [30, 2],\n",
       " 8: [41, 21],\n",
       " 9: [24, 0]}"
      ]
     },
     "execution_count": 87,
     "metadata": {},
     "output_type": "execute_result"
    }
   ],
   "source": [
    "swarm.reset_groups()\n",
    "FFD(swarm, p=0.7, s=2)"
   ]
  },
  {
   "cell_type": "code",
   "execution_count": 118,
   "metadata": {},
   "outputs": [
    {
     "name": "stdout",
     "output_type": "stream",
     "text": [
      "Reference strength: 5.04 \tClustering coefficient: 0.25\n"
     ]
    }
   ],
   "source": [
    "strength_ref = np.mean(swarm.strength())\n",
    "acc_ref = np.mean(list(swarm.cluster_coef(weight='cost').values()))\n",
    "print('Reference strength:', np.round(strength_ref,2), '\\tClustering coefficient:', np.round(acc_ref,2))"
   ]
  },
  {
   "cell_type": "code",
   "execution_count": 111,
   "metadata": {},
   "outputs": [],
   "source": [
    "def strength(swarm, node_ids=None):\n",
    "    if node_ids is None:\n",
    "        nodes = swarm.nodes\n",
    "    else:\n",
    "        nodes = [swarm.get_node_by_id(nid) for nid in node_ids]\n",
    "    return [sum([1/cost for cost in node.neighbors.values()]) for node in nodes]\n",
    "\n",
    "\n",
    "def cluster_coef(swarm, node_ids=None, weight=None):    \n",
    "    if node_ids is None:\n",
    "        node_ids = swarm.graph.nodes()\n",
    "    return nx.clustering(swarm.graph, node_ids, weight=weight)"
   ]
  },
  {
   "cell_type": "code",
   "execution_count": 125,
   "metadata": {},
   "outputs": [
    {
     "name": "stdout",
     "output_type": "stream",
     "text": [
      "Strength RMSE: 0.3049999999999997 \tClustering coef RMSE: 0.0035859217261817594\n"
     ]
    }
   ],
   "source": [
    "swarm.reset_groups()\n",
    "groups = MIRW(swarm, n=2)\n",
    "\n",
    "group_strength = [] \n",
    "group_acc = []\n",
    "\n",
    "for group_id, node_list in groups.items():\n",
    "    if len(node_list)>0:\n",
    "        group_strength.append(np.mean(strength(swarm, node_list)))\n",
    "        group_acc.append(np.mean(list(cluster_coef(swarm, node_list, weight='cost').values())))\n",
    "\n",
    "rmse_strength = rmse(group_strength, strength_ref) \n",
    "rmse_acc = rmse(group_acc, acc_ref) \n",
    "print('Strength RMSE:', rmse_strength, '\\tClustering coef RMSE:', rmse_acc)"
   ]
  },
  {
   "cell_type": "code",
   "execution_count": 129,
   "metadata": {},
   "outputs": [],
   "source": [
    "NB_REPETITIONS = 1\n",
    "NB_GROUPS = [2] #np.arange(1,NB_NODES+1)\n",
    "SAMPLE_STEP = 12"
   ]
  },
  {
   "cell_type": "code",
   "execution_count": 139,
   "metadata": {},
   "outputs": [
    {
     "name": "stderr",
     "output_type": "stream",
     "text": [
      "Computing reference metrics: 100%|██████████| 150/150.0 [00:00<00:00, 212.75it/s]\n"
     ]
    }
   ],
   "source": [
    "strength_ref, acc_ref = [], []\n",
    "\n",
    "with tqdm(total=REVOLUTION/SAMPLE_STEP, desc='Computing reference metrics') as pbar:\n",
    "    for t in np.arange(0, REVOLUTION, SAMPLE_STEP):\n",
    "        strength_ref.append(np.mean(swarm_data[t].strength()))\n",
    "        acc_ref.append(np.mean(list(swarm_data[t].cluster_coef(weight='cost').values())))\n",
    "        pbar.update(1)"
   ]
  },
  {
   "cell_type": "code",
   "execution_count": 140,
   "metadata": {},
   "outputs": [
    {
     "name": "stdout",
     "output_type": "stream",
     "text": [
      "\n",
      "Division algorithm: RND \t\tNumber of repetitions: 1\n"
     ]
    },
    {
     "name": "stderr",
     "output_type": "stream",
     "text": [
      "Number of groups: 100%|██████████| 1/1 [00:00<00:00, 166.63it/s]\n"
     ]
    }
   ],
   "source": [
    "rmse_dict = {\n",
    "    'Timestamp':[],\n",
    "    'Nb groups':[],\n",
    "    'RMSE AS':[],\n",
    "    'RMSE ACC':[]\n",
    "}\n",
    "\n",
    "\n",
    "ALGO = 'RND'\n",
    "print('\\nDivision algorithm:', ALGO, '\\t\\tNumber of repetitions:', NB_REPETITIONS)\n",
    "\n",
    "with tqdm(total=len(NB_GROUPS), desc='Number of groups') as group_bar:\n",
    "    for nb_group in NB_GROUPS:\n",
    "        for rep in range(NB_REPETITIONS):\n",
    "            swarm_data[0].reset_groups()\n",
    "            groups = RND(swarm_data[0],n=nb_group, s=rep+1)# <==================== ALGO CHOICE \n",
    "            \n",
    "            for t in [0]: #np.arange(0, REVOLUTION, SAMPLE_STEP):\n",
    "                swarm = swarm_data[t]\n",
    "                group_strength = [] \n",
    "                group_acc = []\n",
    "\n",
    "                for group_id, node_list in groups.items():\n",
    "                    if len(node_list)>0:\n",
    "                        group_strength.append(np.mean(strength(swarm,node_list)))\n",
    "                        group_acc.append(np.mean(list(cluster_coef(swarm,node_list, weight='cost').values())))\n",
    "                    \n",
    "                rmse_strength = rmse(group_strength, strength_ref[int(t/SAMPLE_STEP)]) \n",
    "                rmse_acc = rmse(group_acc, acc_ref[int(t/SAMPLE_STEP)]) \n",
    "                \n",
    "                rmse_dict['Timestamp'].append(t)\n",
    "                rmse_dict['Nb groups'].append(nb_group)\n",
    "                rmse_dict['RMSE AS'].append(rmse_strength)\n",
    "                rmse_dict['RMSE ACC'].append(rmse_acc)      \n",
    "        group_bar.update(1)"
   ]
  }
 ],
 "metadata": {
  "kernelspec": {
   "display_name": ".venv",
   "language": "python",
   "name": "python3"
  },
  "language_info": {
   "codemirror_mode": {
    "name": "ipython",
    "version": 3
   },
   "file_extension": ".py",
   "mimetype": "text/x-python",
   "name": "python",
   "nbconvert_exporter": "python",
   "pygments_lexer": "ipython3",
   "version": "3.9.0"
  }
 },
 "nbformat": 4,
 "nbformat_minor": 2
}
