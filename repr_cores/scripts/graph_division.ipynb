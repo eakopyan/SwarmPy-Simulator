{
 "cells": [
  {
   "cell_type": "code",
   "execution_count": 1,
   "metadata": {},
   "outputs": [],
   "source": [
    "import numpy as np\n",
    "import pandas as pd\n",
    "\n",
    "import matplotlib.pyplot as plt\n",
    "from mpl_toolkits import mplot3d\n",
    "from collections import Counter \n",
    "from tqdm import tqdm\n",
    "from random import seed, randint, choice\n",
    "\n",
    "from swarm_sim import *\n",
    "\n",
    "%matplotlib inline "
   ]
  },
  {
   "cell_type": "code",
   "execution_count": 2,
   "metadata": {},
   "outputs": [],
   "source": [
    "# 1st dataset: N=50\n",
    "PATH = '..\\\\..\\\\data\\\\swarm-50-sats-scenario\\\\coords_v1_if_LLO-'\n",
    "EXPORT_PATH = 'output\\\\data'\n",
    "ROW_DATA = 7\n",
    "NB_NODES = 50\n",
    "DURATION = 8641 # Number of data rows, not time!\n",
    "REVOLUTION = 1800 # Number of data rows\n",
    "CONNECTION_RANGE = 30 # km\n"
   ]
  },
  {
   "cell_type": "code",
   "execution_count": 3,
   "metadata": {},
   "outputs": [
    {
     "name": "stderr",
     "output_type": "stream",
     "text": [
      "Extracting data:   0%|          | 0/50 [00:00<?, ?it/s]"
     ]
    },
    {
     "name": "stderr",
     "output_type": "stream",
     "text": [
      "Extracting data: 100%|██████████| 50/50 [00:01<00:00, 35.92it/s]\n",
      "Converting to topologies: 100%|██████████| 1800/1800 [00:04<00:00, 388.50it/s]\n",
      "Computing neighbor matrices: 100%|██████████| 1800/1800 [00:05<00:00, 357.90it/s]\n",
      "Converting to NetworkX graphs: 100%|██████████| 1800/1800 [00:05<00:00, 302.35it/s]\n"
     ]
    }
   ],
   "source": [
    "satellites = {} # Dict(sat_id: DataFrame)\n",
    "with tqdm(total=NB_NODES, desc='Extracting data') as pbar:\n",
    "    for i in range(NB_NODES):\n",
    "        df_data = pd.read_csv(PATH+str(i)+'.csv', skiprows= lambda x: x<ROW_DATA, header=0)\n",
    "        satellites[i] = df_data\n",
    "        pbar.update(1)\n",
    "        \n",
    "swarm_data = {} # Dict{timestamp: Swarm}\n",
    "with tqdm(total=REVOLUTION, desc='Converting to topologies') as pbar:\n",
    "    for t in range(REVOLUTION):\n",
    "        swarm_data[t] = Swarm(CONNECTION_RANGE,\n",
    "                    nodes = [Node(id, sat['xF[km]'].iloc[t], sat['yF[km]'].iloc[t], sat['zF[km]'].iloc[t]) for id,sat in satellites.items()]\n",
    "                    )\n",
    "        pbar.update(1)\n",
    "\n",
    "neighbor_matrices = {} # Dict{timestamp: matrix}\n",
    "with tqdm(total=REVOLUTION, desc='Computing neighbor matrices') as pbar:\n",
    "    for t in range(REVOLUTION):\n",
    "        neighbor_matrices[t] = swarm_data[t].neighbor_matrix()\n",
    "        pbar.update(1)\n",
    "\n",
    "topo_graphs = {} # Dict{timestamp: Graph}\n",
    "with tqdm(total=REVOLUTION, desc='Converting to NetworkX graphs') as pbar:\n",
    "    for t in range(REVOLUTION):\n",
    "        topo_graphs[t] = swarm_data[t].swarm_to_nxgraph()\n",
    "        pbar.update(1)"
   ]
  },
  {
   "cell_type": "markdown",
   "metadata": {},
   "source": [
    "## Temporal evolution\n",
    "Analysed metrics:\n",
    "- Network size (NS)\n",
    "- Average degree (AD): number of direct neighbor(s) for each node, averaged\n",
    "- Graph density (GD): ratio of observed edges over maximum possible number of edges\n",
    "- Average clustering coefficient (ACC): ratio of observed edges in the neighborhood over maximum possible number of edges, averaged\n",
    "- Diameter (Dia): maximum shortest path length between all pairs of nodes\n",
    "\n",
    "Implemented algorithms for comparison:\n",
    "- Random Node Division (RND)\n",
    "- Multiple Independent Random Walks (MIRW)\n",
    "- Forest Fire Division (FFD)"
   ]
  },
  {
   "cell_type": "code",
   "execution_count": 16,
   "metadata": {},
   "outputs": [],
   "source": [
    "def jain(avg, std):\n",
    "    cv = std/avg\n",
    "    return 1.0/(1 + pow(cv,2))"
   ]
  },
  {
   "cell_type": "code",
   "execution_count": 9,
   "metadata": {},
   "outputs": [
    {
     "name": "stderr",
     "output_type": "stream",
     "text": [
      "Diameter: 100%|██████████| 1800/1800 [02:32<00:00, 11.80it/s]\n"
     ]
    }
   ],
   "source": [
    "# Reference temporal evolution: Average Degree, Graph Density, Average Clustering Coefficient\n",
    "ref_ad, ref_gd, ref_acc = [], [], []\n",
    "\n",
    "for t,swarm in swarm_data.items():\n",
    "    ref_ad.append(np.mean(swarm.degree()))\n",
    "    ref_gd.append(swarm.graph_density())\n",
    "    ref_acc.append(np.mean(swarm.cluster_coef()))\n",
    "    \n",
    "# Run only once\n",
    "diameters = []\n",
    "with tqdm(total=len(swarm_data.keys()), desc='Diameter') as pbar:\n",
    "    for swarm in swarm_data.values():\n",
    "        diameters.append(swarm.diameter(swarm)[2]-1)\n",
    "        pbar.update(1)\n",
    "ref_ml = np.mean(diameters)"
   ]
  },
  {
   "cell_type": "code",
   "execution_count": 18,
   "metadata": {},
   "outputs": [
    {
     "name": "stdout",
     "output_type": "stream",
     "text": [
      "Reference values (whole swarm)\n",
      "\tAverage degree: 6.53\n",
      "\tAverage clustering coefficient: 0.49\n",
      "\tGraph Density: 0.13\n"
     ]
    }
   ],
   "source": [
    "avg_ref_ad = np.mean(ref_ad)\n",
    "avg_ref_acc = np.mean(ref_acc)\n",
    "avg_ref_gd = np.mean(ref_gd)\n",
    "\n",
    "x = 2\n",
    "print('Reference values (whole swarm)')\n",
    "print('\\tAverage degree:', round(avg_ref_ad, x))\n",
    "print('\\tAverage clustering coefficient:', round(avg_ref_acc, x))\n",
    "print('\\tGraph Density:', round(avg_ref_gd, x))"
   ]
  },
  {
   "cell_type": "code",
   "execution_count": 24,
   "metadata": {},
   "outputs": [],
   "source": [
    "NB_GROUPS = 10\n",
    "NB_REPETITIONS = 1"
   ]
  },
  {
   "cell_type": "markdown",
   "metadata": {},
   "source": [
    "## 1. Random Node Division"
   ]
  },
  {
   "cell_type": "code",
   "execution_count": 5,
   "metadata": {},
   "outputs": [
    {
     "name": "stdout",
     "output_type": "stream",
     "text": [
      "Graph with 50 nodes and 320 edges\n"
     ]
    }
   ],
   "source": [
    "graph = topo_graphs[0]\n",
    "print(graph)"
   ]
  },
  {
   "cell_type": "code",
   "execution_count": 4,
   "metadata": {},
   "outputs": [],
   "source": [
    "swarm = swarm_data[0]\n",
    "swarm.reset_groups()\n",
    "\n",
    "groups = swarm.RND(n=10, s=1, by_id=True) # <==================== ALGO CHOICE \n",
    "\n",
    "group_assignment = {}\n",
    "for node in swarm.nodes:\n",
    "    group_assignment[node.id] = node.group"
   ]
  },
  {
   "cell_type": "code",
   "execution_count": 14,
   "metadata": {},
   "outputs": [
    {
     "data": {
      "text/plain": [
       "2.25"
      ]
     },
     "execution_count": 14,
     "metadata": {},
     "output_type": "execute_result"
    }
   ],
   "source": [
    "# use this to compute group degree (replace nbunch by group nodes)\n",
    "np.mean(nx.degree(graph, nbunch=[0,1]))"
   ]
  },
  {
   "cell_type": "code",
   "execution_count": 10,
   "metadata": {},
   "outputs": [],
   "source": [
    "# Separate groups into swarms\n",
    "swarm_rnd = {} # Dict(timestamp:swarms)\n",
    "\n",
    "for t,swarm in swarm_data.items():\n",
    "    swarms = [] #List(Swarm)\n",
    "    for gid in range(NB_GROUPS):\n",
    "        sw = Swarm(connection_range=30000,\n",
    "                        nodes=[node for node in swarm.nodes if node.group==gid])\n",
    "        neighbor_matrix = sw.neighbor_matrix()\n",
    "        swarms.append(sw)\n",
    "    swarm_rnd[t] = swarms"
   ]
  },
  {
   "cell_type": "code",
   "execution_count": 11,
   "metadata": {},
   "outputs": [
    {
     "name": "stderr",
     "output_type": "stream",
     "text": [
      "C:\\Users\\ankoc\\AppData\\Local\\Temp\\ipykernel_1732\\268300152.py:5: RuntimeWarning: Mean of empty slice\n",
      "  group_ad.append(np.nanmean([np.nanmean(sw.degree()) for sw in swarms]))\n",
      "C:\\Users\\ankoc\\AppData\\Local\\Temp\\ipykernel_1732\\268300152.py:7: RuntimeWarning: Mean of empty slice\n",
      "  group_acc.append(np.nanmean([np.nanmean(sw.cluster_coef()) for sw in swarms]))\n"
     ]
    }
   ],
   "source": [
    "# Group temporal evolution: Average Degree, Graph Density, Average Clustering Coefficient\n",
    "group_ad, group_gd, group_acc = [], [], []\n",
    "\n",
    "for t,swarms in swarm_rnd.items():\n",
    "    group_ad.append(np.nanmean([np.nanmean(sw.degree()) for sw in swarms]))\n",
    "    group_gd.append(np.mean([sw.graph_density() for sw in swarms]))\n",
    "    group_acc.append(np.nanmean([np.nanmean(sw.cluster_coef()) for sw in swarms]))  \n",
    "\n",
    "avg_group_ad = np.nanmean(group_ad)\n",
    "avg_group_acc = np.nanmean(group_acc)    \n",
    "avg_group_gd = np.nanmean(group_gd)\n",
    "\n",
    "std_ad = np.sqrt(np.nanmean((group_ad - avg_ref_ad)**2))\n",
    "std_acc = np.sqrt(np.nanmean((group_acc - avg_ref_acc)**2))\n",
    "std_gd = np.sqrt(np.nanmean((group_gd - avg_ref_gd)**2))"
   ]
  },
  {
   "cell_type": "code",
   "execution_count": 12,
   "metadata": {},
   "outputs": [
    {
     "name": "stdout",
     "output_type": "stream",
     "text": [
      "Reference values (whole swarm)\n",
      "\tAverage degree: 6.53\n",
      "\tAverage clustering coefficient: 0.49\n",
      "\tGraph Density: 0.13\n",
      "\n",
      "Group values\n",
      "\tAverage degree: 10.02\n",
      "\tAverage clustering coefficient: 0.52\n",
      "\tGraph Density: 0.96\n",
      "\n",
      "Standard deviations\n",
      "\tAD: 4.65\n",
      "\tACC: 0.05\n",
      "\tGD: 0.83\n",
      "\n",
      "Variation coefficients\n",
      "\tAD: 0.4644\n",
      "\tACC: 0.1065\n",
      "\tGD: 0.8638\n"
     ]
    }
   ],
   "source": [
    "avg_group_ad = np.mean(group_ad)\n",
    "avg_group_acc = np.mean(group_acc)    \n",
    "avg_group_gd = np.mean(group_gd)\n",
    "\n",
    "std_ad = np.sqrt(np.mean((group_ad - avg_ref_ad)**2))\n",
    "std_acc = np.sqrt(np.mean((group_acc - avg_ref_acc)**2))\n",
    "std_gd = np.sqrt(np.mean((group_gd - avg_ref_gd)**2))\n",
    "\n",
    "print('\\nGroup values')\n",
    "print('\\tAverage degree:', round(avg_group_ad, x))\n",
    "print('\\tAverage clustering coefficient:', round(avg_group_acc, x))\n",
    "print('\\tGraph Density:', round(avg_group_gd, x))\n",
    "\n",
    "print('\\nStandard deviations')\n",
    "print('\\tAD:', round(std_ad, x))\n",
    "print('\\tACC:', round(std_acc, x))\n",
    "print('\\tGD:', round(std_gd, x))\n",
    "\n",
    "print('\\nVariation coefficients')\n",
    "print('\\tAD:', round(std_ad/avg_group_ad, x+2))\n",
    "print('\\tACC:', round(std_acc/avg_group_acc, x+2))\n",
    "print('\\tGD:', round(std_gd/avg_group_gd, x+2))"
   ]
  },
  {
   "cell_type": "code",
   "execution_count": 14,
   "metadata": {},
   "outputs": [
    {
     "name": "stderr",
     "output_type": "stream",
     "text": [
      "Group diameter: 100%|██████████| 10/10 [01:27<00:00,  8.79s/it]\n"
     ]
    }
   ],
   "source": [
    "group_diameters = []\n",
    "\n",
    "with tqdm(total=NB_GROUPS, desc='Group diameter') as pbar:\n",
    "    for group_id in range(NB_GROUPS):\n",
    "        for t,swarm in swarm_data.items():\n",
    "            group_diameters.append(swarm.diameter(swarm_rnd[t][group_id])[2]-1)\n",
    "        pbar.update(1)\n",
    "            "
   ]
  },
  {
   "cell_type": "code",
   "execution_count": 22,
   "metadata": {},
   "outputs": [
    {
     "name": "stdout",
     "output_type": "stream",
     "text": [
      "Group diameter\n",
      "Mean: 3.24\n",
      "Deviation: 2.08\n",
      "Jains index: 0.7077\n"
     ]
    }
   ],
   "source": [
    "avg_dia = np.mean(group_diameters)\n",
    "std_dia = np.std(group_diameters)\n",
    "\n",
    "print('Group diameter')\n",
    "print('Mean:', round(avg_dia, x))\n",
    "print('Deviation:', round(std_dia, x))\n",
    "print('Jains index:', round(jain(avg_dia, std_dia), x+2))"
   ]
  },
  {
   "cell_type": "code",
   "execution_count": 23,
   "metadata": {},
   "outputs": [
    {
     "name": "stdout",
     "output_type": "stream",
     "text": [
      "Group size\n",
      "Mean: 5.0\n",
      "Deviation: 2.12\n",
      "Jains index: 0.8472\n"
     ]
    }
   ],
   "source": [
    "network_sizes = []\n",
    "\n",
    "for t, group_data in group_distrib.items(): # comm_data = Dict(comm_id:list(count)), groups = Dict(timestamp:comm_data)\n",
    "    network_sizes.extend([e for distribs in group_data.values() for e in distribs])\n",
    "    pbar.update()\n",
    "\n",
    "avg_ns = np.mean(network_sizes)\n",
    "std_ns = np.std(network_sizes)\n",
    "\n",
    "print('Group size')\n",
    "print('Mean:', round(avg_ns, x))\n",
    "print('Deviation:', round(std_ns, x))\n",
    "print('Jains index:', round(jain(avg_ns, std_ns), x+2))"
   ]
  },
  {
   "cell_type": "code",
   "execution_count": null,
   "metadata": {},
   "outputs": [],
   "source": []
  }
 ],
 "metadata": {
  "kernelspec": {
   "display_name": ".venv",
   "language": "python",
   "name": "python3"
  },
  "language_info": {
   "codemirror_mode": {
    "name": "ipython",
    "version": 3
   },
   "file_extension": ".py",
   "mimetype": "text/x-python",
   "name": "python",
   "nbconvert_exporter": "python",
   "pygments_lexer": "ipython3",
   "version": "3.9.5"
  }
 },
 "nbformat": 4,
 "nbformat_minor": 2
}
