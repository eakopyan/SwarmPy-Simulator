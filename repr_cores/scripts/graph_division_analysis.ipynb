{
 "cells": [
  {
   "cell_type": "code",
   "execution_count": 2,
   "metadata": {},
   "outputs": [],
   "source": [
    "import numpy as np\n",
    "import pandas as pd\n",
    "\n",
    "import matplotlib.pyplot as plt\n",
    "from mpl_toolkits import mplot3d\n",
    "from collections import Counter \n",
    "from tqdm import tqdm\n",
    "\n",
    "from swarm_sim import *\n",
    "\n",
    "%matplotlib inline "
   ]
  },
  {
   "cell_type": "code",
   "execution_count": 16,
   "metadata": {},
   "outputs": [],
   "source": [
    "NB_NODES = 50\n",
    "REVOLUTION = 1800 # Number of data rows\n",
    "CONNECTION_RANGE = 30 # km\n",
    "SAMPLE_STEP = 12\n",
    "NB_REPETITIONS = 30"
   ]
  },
  {
   "cell_type": "markdown",
   "metadata": {},
   "source": [
    "## 1. Analyse du degré moyen"
   ]
  },
  {
   "cell_type": "code",
   "execution_count": 39,
   "metadata": {},
   "outputs": [],
   "source": [
    "df_rnd = pd.read_csv('..\\output\\data\\sat50_RMSE_RND_sampled12_rep30.csv', sep=',', index_col='Unnamed: 0')\n",
    "df_mirw = pd.read_csv('..\\output\\data\\sat50_RMSE_MIRW_sampled12_rep30.csv', sep=',', index_col='Unnamed: 0')\n",
    "df_ffd = pd.read_csv('..\\output\\data\\sat50_RMSE_FFD_sampled12_rep30.csv', sep=',', index_col='Unnamed: 0')\n",
    "\n",
    "df_rnd = df_rnd.groupby('Nb groups').mean()\n",
    "df_mirw = df_mirw.groupby('Nb groups').mean()\n",
    "df_ffd = df_ffd.groupby('Nb groups').mean()"
   ]
  },
  {
   "cell_type": "code",
   "execution_count": 40,
   "metadata": {},
   "outputs": [
    {
     "data": {
      "text/html": [
       "<div>\n",
       "<style scoped>\n",
       "    .dataframe tbody tr th:only-of-type {\n",
       "        vertical-align: middle;\n",
       "    }\n",
       "\n",
       "    .dataframe tbody tr th {\n",
       "        vertical-align: top;\n",
       "    }\n",
       "\n",
       "    .dataframe thead th {\n",
       "        text-align: right;\n",
       "    }\n",
       "</style>\n",
       "<table border=\"1\" class=\"dataframe\">\n",
       "  <thead>\n",
       "    <tr style=\"text-align: right;\">\n",
       "      <th></th>\n",
       "      <th>Timestamp</th>\n",
       "      <th>RMSE AD</th>\n",
       "      <th>RMSE ACC</th>\n",
       "    </tr>\n",
       "    <tr>\n",
       "      <th>Nb groups</th>\n",
       "      <th></th>\n",
       "      <th></th>\n",
       "      <th></th>\n",
       "    </tr>\n",
       "  </thead>\n",
       "  <tbody>\n",
       "    <tr>\n",
       "      <th>1</th>\n",
       "      <td>894.0</td>\n",
       "      <td>0.000000</td>\n",
       "      <td>8.551184e-17</td>\n",
       "    </tr>\n",
       "    <tr>\n",
       "      <th>2</th>\n",
       "      <td>894.0</td>\n",
       "      <td>2.210178</td>\n",
       "      <td>3.836971e-02</td>\n",
       "    </tr>\n",
       "    <tr>\n",
       "      <th>3</th>\n",
       "      <td>894.0</td>\n",
       "      <td>2.669514</td>\n",
       "      <td>6.049052e-02</td>\n",
       "    </tr>\n",
       "    <tr>\n",
       "      <th>4</th>\n",
       "      <td>894.0</td>\n",
       "      <td>3.142866</td>\n",
       "      <td>7.334696e-02</td>\n",
       "    </tr>\n",
       "    <tr>\n",
       "      <th>5</th>\n",
       "      <td>894.0</td>\n",
       "      <td>3.185426</td>\n",
       "      <td>8.475906e-02</td>\n",
       "    </tr>\n",
       "  </tbody>\n",
       "</table>\n",
       "</div>"
      ],
      "text/plain": [
       "           Timestamp   RMSE AD      RMSE ACC\n",
       "Nb groups                                   \n",
       "1              894.0  0.000000  8.551184e-17\n",
       "2              894.0  2.210178  3.836971e-02\n",
       "3              894.0  2.669514  6.049052e-02\n",
       "4              894.0  3.142866  7.334696e-02\n",
       "5              894.0  3.185426  8.475906e-02"
      ]
     },
     "execution_count": 40,
     "metadata": {},
     "output_type": "execute_result"
    }
   ],
   "source": [
    "df_mirw.head()"
   ]
  },
  {
   "cell_type": "code",
   "execution_count": 41,
   "metadata": {},
   "outputs": [
    {
     "data": {
      "text/plain": [
       "<matplotlib.legend.Legend at 0x243e01dd340>"
      ]
     },
     "execution_count": 41,
     "metadata": {},
     "output_type": "execute_result"
    },
    {
     "data": {
      "image/png": "[encoded data removed]",
      "text/plain": [
       "<Figure size 300x300 with 1 Axes>"
      ]
     },
     "metadata": {},
     "output_type": "display_data"
    }
   ],
   "source": [
    "plt.figure(figsize=(3,3))\n",
    "idx = np.arange(1, NB_NODES+1)\n",
    "#idx_scat = np.arange(1, NB_NODES+1, 5)\n",
    "\n",
    "col = 'RMSE AD' \n",
    "plt.plot(idx, df_rnd[col], '--r', label='RND')\n",
    "plt.plot(idx, df_mirw[col], '-.b', label='MIRW')\n",
    "plt.plot(idx, df_ffd[col], ':g', label='FFD')\n",
    "\n",
    "#plt.plot(idx, df_rnd[col], marker='x', markevery=idx_scat, label='RND')\n",
    "#plt.plot(idx, df_mirw[col], marker='o', markevery=idx_scat, label='MIRW')\n",
    "#plt.plot(idx, df_ffd[col], marker='d', markevery=idx_scat, label='FFD')\n",
    "\n",
    "plt.xlabel('Nombre de groupes')\n",
    "plt.ylabel('RMSE (# noeuds)')\n",
    "plt.xlim(1,50)\n",
    "plt.ylim(0,8)\n",
    "plt.legend()"
   ]
  },
  {
   "cell_type": "markdown",
   "metadata": {},
   "source": [
    "## 2. Analyse de la taille des groupes"
   ]
  },
  {
   "cell_type": "code",
   "execution_count": 21,
   "metadata": {},
   "outputs": [],
   "source": [
    "PATH = '..\\\\..\\\\data\\\\swarm-50-sats-scenario\\\\coords_v1_if_LLO-'\n",
    "ROW_DATA = 7"
   ]
  },
  {
   "cell_type": "code",
   "execution_count": 23,
   "metadata": {},
   "outputs": [],
   "source": [
    "def rmse(data, ref=None): # Compare the observed distribution to a reference value\n",
    "    if ref == None:\n",
    "        ref = np.mean(data)\n",
    "    errors = [(e-ref)**2 for e in data]\n",
    "    ratio = sum(errors)/len(data)\n",
    "    return np.sqrt(ratio)"
   ]
  },
  {
   "cell_type": "code",
   "execution_count": 22,
   "metadata": {},
   "outputs": [
    {
     "name": "stderr",
     "output_type": "stream",
     "text": [
      "Extracting data: 100%|██████████| 50/50 [00:01<00:00, 29.82it/s]\n",
      "Converting to topologies: 100%|██████████| 1800/1800 [00:03<00:00, 553.05it/s]\n",
      "Computing neighbor matrices: 100%|██████████| 1800/1800 [00:03<00:00, 576.97it/s]\n",
      "Converting to NetworkX graphs: 100%|██████████| 1800/1800 [00:03<00:00, 482.10it/s]\n"
     ]
    }
   ],
   "source": [
    "satellites = {} # Dict(sat_id: DataFrame)\n",
    "with tqdm(total=NB_NODES, desc='Extracting data') as pbar:\n",
    "    for i in range(NB_NODES):\n",
    "        df_data = pd.read_csv(PATH+str(i)+'.csv', skiprows= lambda x: x<ROW_DATA, header=0)\n",
    "        satellites[i] = df_data\n",
    "        pbar.update(1)\n",
    "        \n",
    "swarm_data = {} # Dict{timestamp: Swarm}\n",
    "with tqdm(total=REVOLUTION, desc='Converting to topologies') as pbar:\n",
    "    for t in range(REVOLUTION):\n",
    "        swarm_data[t] = Swarm(CONNECTION_RANGE,\n",
    "                    nodes = [Node(id, sat['xF[km]'].iloc[t], sat['yF[km]'].iloc[t], sat['zF[km]'].iloc[t]) for id,sat in satellites.items()]\n",
    "                    )\n",
    "        pbar.update(1)\n",
    "\n",
    "neighbor_matrices = {} # Dict{timestamp: matrix}\n",
    "with tqdm(total=REVOLUTION, desc='Computing neighbor matrices') as pbar:\n",
    "    for t in range(REVOLUTION):\n",
    "        neighbor_matrices[t] = swarm_data[t].neighbor_matrix()\n",
    "        pbar.update(1)\n",
    "\n",
    "topo_graphs = {} # Dict{timestamp: Graph}\n",
    "with tqdm(total=REVOLUTION, desc='Converting to NetworkX graphs') as pbar:\n",
    "    for t in range(REVOLUTION):\n",
    "        topo_graphs[t] = swarm_data[t].swarm_to_nxgraph()\n",
    "        pbar.update(1)"
   ]
  },
  {
   "cell_type": "code",
   "execution_count": 24,
   "metadata": {},
   "outputs": [],
   "source": [
    "nb_groups = np.arange(1,NB_NODES+1)\n",
    "rmse_rnd = []\n",
    "rmse_mirw = []\n",
    "rmse_ffd = []\n",
    "\n",
    "for nb in nb_groups:\n",
    "    ref_ns = NB_NODES/nb\n",
    "    #print('Testing RND')\n",
    "    ns = []\n",
    "    for rep in range(NB_REPETITIONS):\n",
    "        swarm_data[0].reset_groups()\n",
    "        groups = swarm_data[0].RND(n=nb, s=rep+1, by_id=True)# <==================== ALGO CHOICE \n",
    "        ns.extend([len(group) for group in groups.values()])\n",
    "    rmse_rnd.append(rmse(ns, ref_ns))\n",
    "    #print('Testing MIRW')\n",
    "    ns = []\n",
    "    for rep in range(NB_REPETITIONS):\n",
    "        swarm_data[0].reset_groups()\n",
    "        groups = swarm_data[0].MIRW(n=nb, s=rep+1, by_id=True)# <==================== ALGO CHOICE \n",
    "        ns.extend([len(group) for group in groups.values()])\n",
    "    rmse_mirw.append(rmse(ns, ref_ns))\n",
    "    #print('Testing FFD')\n",
    "    ns = []\n",
    "    for rep in range(NB_REPETITIONS):\n",
    "        swarm_data[0].reset_groups()\n",
    "        groups = swarm_data[0].FFD(n=nb, s=rep+1, by_id=True)# <==================== ALGO CHOICE \n",
    "        ns.extend([len(group) for group in groups.values()])\n",
    "    rmse_ffd.append(rmse(ns, ref_ns))"
   ]
  },
  {
   "cell_type": "code",
   "execution_count": 37,
   "metadata": {},
   "outputs": [
    {
     "data": {
      "text/plain": [
       "<matplotlib.legend.Legend at 0x243e00ccfd0>"
      ]
     },
     "execution_count": 37,
     "metadata": {},
     "output_type": "execute_result"
    },
    {
     "data": {
      "image/png": "[encoded data removed]",
      "text/plain": [
       "<Figure size 300x300 with 1 Axes>"
      ]
     },
     "metadata": {},
     "output_type": "display_data"
    }
   ],
   "source": [
    "plt.figure(figsize=(3,3))\n",
    "idx_scat = np.arange(1, NB_NODES+1, 5)\n",
    "\n",
    "plt.plot(nb_groups, rmse_rnd, '--r', label='RND')\n",
    "plt.plot(nb_groups, rmse_mirw, '-.b', label='MIRW')\n",
    "plt.plot(nb_groups, rmse_ffd, ':g', label='FFD')\n",
    "plt.xlabel('Nombre de groupes')\n",
    "plt.ylabel('RMSE (# noeuds)')\n",
    "plt.xlim(1,50)\n",
    "plt.ylim(0,14)\n",
    "plt.legend()"
   ]
  },
  {
   "cell_type": "markdown",
   "metadata": {},
   "source": [
    "## 3. Analyse du coût de routage"
   ]
  },
  {
   "cell_type": "code",
   "execution_count": 26,
   "metadata": {},
   "outputs": [],
   "source": [
    "df_rnd = pd.read_csv('..\\output\\data\\sat50_RCOST_RND_sampled12_rep30.csv', sep=',', index_col='Unnamed: 0')\n",
    "df_mirw = pd.read_csv('..\\output\\data\\sat50_RCOST_MIRW_sampled12_rep30.csv', sep=',', index_col='Unnamed: 0')\n",
    "df_ffd = pd.read_csv('..\\output\\data\\sat50_RCOST_FFD_sampled12_rep30.csv', sep=',', index_col='Unnamed: 0')\n",
    "\n",
    "df_rnd = df_rnd.groupby('Nb groups').mean()\n",
    "df_mirw = df_mirw.groupby('Nb groups').mean()\n",
    "df_ffd = df_ffd.groupby('Nb groups').mean()"
   ]
  },
  {
   "cell_type": "code",
   "execution_count": 27,
   "metadata": {},
   "outputs": [
    {
     "data": {
      "text/html": [
       "<div>\n",
       "<style scoped>\n",
       "    .dataframe tbody tr th:only-of-type {\n",
       "        vertical-align: middle;\n",
       "    }\n",
       "\n",
       "    .dataframe tbody tr th {\n",
       "        vertical-align: top;\n",
       "    }\n",
       "\n",
       "    .dataframe thead th {\n",
       "        text-align: right;\n",
       "    }\n",
       "</style>\n",
       "<table border=\"1\" class=\"dataframe\">\n",
       "  <thead>\n",
       "    <tr style=\"text-align: right;\">\n",
       "      <th></th>\n",
       "      <th>Timestamp</th>\n",
       "      <th>Rcost</th>\n",
       "    </tr>\n",
       "    <tr>\n",
       "      <th>Nb groups</th>\n",
       "      <th></th>\n",
       "      <th></th>\n",
       "    </tr>\n",
       "  </thead>\n",
       "  <tbody>\n",
       "    <tr>\n",
       "      <th>1</th>\n",
       "      <td>894.0</td>\n",
       "      <td>5283.240000</td>\n",
       "    </tr>\n",
       "    <tr>\n",
       "      <th>2</th>\n",
       "      <td>894.0</td>\n",
       "      <td>2562.399556</td>\n",
       "    </tr>\n",
       "    <tr>\n",
       "      <th>3</th>\n",
       "      <td>894.0</td>\n",
       "      <td>1657.268000</td>\n",
       "    </tr>\n",
       "    <tr>\n",
       "      <th>4</th>\n",
       "      <td>894.0</td>\n",
       "      <td>1205.074667</td>\n",
       "    </tr>\n",
       "    <tr>\n",
       "      <th>5</th>\n",
       "      <td>894.0</td>\n",
       "      <td>933.115111</td>\n",
       "    </tr>\n",
       "  </tbody>\n",
       "</table>\n",
       "</div>"
      ],
      "text/plain": [
       "           Timestamp        Rcost\n",
       "Nb groups                        \n",
       "1              894.0  5283.240000\n",
       "2              894.0  2562.399556\n",
       "3              894.0  1657.268000\n",
       "4              894.0  1205.074667\n",
       "5              894.0   933.115111"
      ]
     },
     "execution_count": 27,
     "metadata": {},
     "output_type": "execute_result"
    }
   ],
   "source": [
    "df_mirw.head()"
   ]
  },
  {
   "cell_type": "code",
   "execution_count": 28,
   "metadata": {},
   "outputs": [],
   "source": [
    "ref_rcost_avg = 5283.24"
   ]
  },
  {
   "cell_type": "code",
   "execution_count": 38,
   "metadata": {},
   "outputs": [
    {
     "data": {
      "text/plain": [
       "<matplotlib.legend.Legend at 0x243e011c700>"
      ]
     },
     "execution_count": 38,
     "metadata": {},
     "output_type": "execute_result"
    },
    {
     "data": {
      "image/png": "[encoded data removed]",
      "text/plain": [
       "<Figure size 300x300 with 1 Axes>"
      ]
     },
     "metadata": {},
     "output_type": "display_data"
    }
   ],
   "source": [
    "plt.figure(figsize=(3,3))\n",
    "idx = np.arange(1, NB_NODES+1)\n",
    "\n",
    "col = 'Rcost' \n",
    "plt.hlines(ref_rcost_avg, xmin=1, xmax=50, colors='darkgray', label='Original')\n",
    "plt.plot(idx, df_rnd[col], '--r', label='RND')\n",
    "plt.plot(idx, df_mirw[col], '-.b', label='MIRW')\n",
    "plt.plot(idx, df_ffd[col], ':g', label='FFD')\n",
    "\n",
    "plt.xlabel('Nombre de groupes')\n",
    "plt.ylabel('Nombre de transmissions')\n",
    "plt.xlim(1,50)\n",
    "#plt.ylim(0,30)\n",
    "plt.legend()"
   ]
  }
 ],
 "metadata": {
  "kernelspec": {
   "display_name": ".venv",
   "language": "python",
   "name": "python3"
  },
  "language_info": {
   "codemirror_mode": {
    "name": "ipython",
    "version": 3
   },
   "file_extension": ".py",
   "mimetype": "text/x-python",
   "name": "python",
   "nbconvert_exporter": "python",
   "pygments_lexer": "ipython3",
   "version": "3.9.13"
  }
 },
 "nbformat": 4,
 "nbformat_minor": 2
}
